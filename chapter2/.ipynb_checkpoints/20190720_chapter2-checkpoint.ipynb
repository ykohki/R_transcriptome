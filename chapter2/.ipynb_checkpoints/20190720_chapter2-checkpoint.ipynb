{
 "cells": [
  {
   "cell_type": "markdown",
   "metadata": {},
   "source": [
    "### 20190720"
   ]
  },
  {
   "cell_type": "markdown",
   "metadata": {},
   "source": [
    "まずはRNA-seqから"
   ]
  },
  {
   "cell_type": "code",
   "execution_count": null,
   "metadata": {},
   "outputs": [],
   "source": []
  },
  {
   "cell_type": "markdown",
   "metadata": {},
   "source": [
    "fastqのダウンロード"
   ]
  },
  {
   "cell_type": "markdown",
   "metadata": {},
   "source": [
    "SRAdbを使う"
   ]
  },
  {
   "cell_type": "code",
   "execution_count": 6,
   "metadata": {},
   "outputs": [],
   "source": [
    "param <- \"SRA000299\""
   ]
  },
  {
   "cell_type": "code",
   "execution_count": 1,
   "metadata": {},
   "outputs": [
    {
     "name": "stderr",
     "output_type": "stream",
     "text": [
      "Loading required package: RSQLite\n",
      "Loading required package: graph\n",
      "Loading required package: BiocGenerics\n",
      "Loading required package: parallel\n",
      "\n",
      "Attaching package: ‘BiocGenerics’\n",
      "\n",
      "The following objects are masked from ‘package:parallel’:\n",
      "\n",
      "    clusterApply, clusterApplyLB, clusterCall, clusterEvalQ,\n",
      "    clusterExport, clusterMap, parApply, parCapply, parLapply,\n",
      "    parLapplyLB, parRapply, parSapply, parSapplyLB\n",
      "\n",
      "The following objects are masked from ‘package:stats’:\n",
      "\n",
      "    IQR, mad, sd, var, xtabs\n",
      "\n",
      "The following objects are masked from ‘package:base’:\n",
      "\n",
      "    anyDuplicated, append, as.data.frame, basename, cbind, colMeans,\n",
      "    colnames, colSums, dirname, do.call, duplicated, eval, evalq,\n",
      "    Filter, Find, get, grep, grepl, intersect, is.unsorted, lapply,\n",
      "    lengths, Map, mapply, match, mget, order, paste, pmax, pmax.int,\n",
      "    pmin, pmin.int, Position, rank, rbind, Reduce, rowMeans, rownames,\n",
      "    rowSums, sapply, setdiff, sort, table, tapply, union, unique,\n",
      "    unsplit, which, which.max, which.min\n",
      "\n",
      "Loading required package: RCurl\n",
      "Loading required package: bitops\n",
      "Setting options('download.file.method.GEOquery'='auto')\n",
      "Setting options('GEOquery.inmemory.gpl'=FALSE)\n"
     ]
    }
   ],
   "source": [
    "library(SRAdb)"
   ]
  },
  {
   "cell_type": "code",
   "execution_count": 10,
   "metadata": {},
   "outputs": [],
   "source": [
    "#めちゃくちゃ時間かかるし、ファイルも重い。。。"
   ]
  },
  {
   "cell_type": "code",
   "execution_count": 5,
   "metadata": {},
   "outputs": [
    {
     "name": "stderr",
     "output_type": "stream",
     "text": [
      "Unzipping...\n",
      "\n",
      "Metadata associate with downloaded file:\n",
      "\n",
      "c(\"schema version\", \"creation timestamp\")c(\"1.0\", \"2019-06-27 13:35:00\")\n"
     ]
    }
   ],
   "source": [
    "sqlfile <- getSRAdbFile()"
   ]
  },
  {
   "cell_type": "code",
   "execution_count": 7,
   "metadata": {},
   "outputs": [],
   "source": [
    "sra_con <- dbConnect(SQLite(), sqlfile)"
   ]
  },
  {
   "cell_type": "code",
   "execution_count": 13,
   "metadata": {},
   "outputs": [
    {
     "data": {
      "text/plain": [
       "<SQLiteConnection>\n",
       "  Path: /Users/yamada/RNA-seq/【R】トランスクリプトーム解析/chapter2/SRAmetadb.sqlite\n",
       "  Extensions: TRUE"
      ]
     },
     "metadata": {},
     "output_type": "display_data"
    }
   ],
   "source": [
    "sra_con"
   ]
  },
  {
   "cell_type": "code",
   "execution_count": 8,
   "metadata": {},
   "outputs": [],
   "source": [
    "hoge <- sraConvert(param, sra_con=sra_con)"
   ]
  },
  {
   "cell_type": "code",
   "execution_count": 9,
   "metadata": {},
   "outputs": [
    {
     "data": {
      "text/html": [
       "<table>\n",
       "<caption>A data.frame: 6 × 5</caption>\n",
       "<thead>\n",
       "\t<tr><th scope=col>submission</th><th scope=col>study</th><th scope=col>sample</th><th scope=col>experiment</th><th scope=col>run</th></tr>\n",
       "\t<tr><th scope=col>&lt;chr&gt;</th><th scope=col>&lt;chr&gt;</th><th scope=col>&lt;chr&gt;</th><th scope=col>&lt;chr&gt;</th><th scope=col>&lt;chr&gt;</th></tr>\n",
       "</thead>\n",
       "<tbody>\n",
       "\t<tr><td>SRA000299</td><td>SRP000225</td><td>SRS000561</td><td>SRX000604</td><td>SRR002322</td></tr>\n",
       "\t<tr><td>SRA000299</td><td>SRP000225</td><td>SRS000562</td><td>SRX000605</td><td>SRR002320</td></tr>\n",
       "\t<tr><td>SRA000299</td><td>SRP000225</td><td>SRS000561</td><td>SRX000571</td><td>SRR002321</td></tr>\n",
       "\t<tr><td>SRA000299</td><td>SRP000225</td><td>SRS000561</td><td>SRX000571</td><td>SRR002323</td></tr>\n",
       "\t<tr><td>SRA000299</td><td>SRP000225</td><td>SRS000562</td><td>SRX000605</td><td>SRR002325</td></tr>\n",
       "\t<tr><td>SRA000299</td><td>SRP000225</td><td>SRS000562</td><td>SRX000606</td><td>SRR002324</td></tr>\n",
       "</tbody>\n",
       "</table>\n"
      ],
      "text/latex": [
       "A data.frame: 6 × 5\n",
       "\\begin{tabular}{r|lllll}\n",
       " submission & study & sample & experiment & run\\\\\n",
       " <chr> & <chr> & <chr> & <chr> & <chr>\\\\\n",
       "\\hline\n",
       "\t SRA000299 & SRP000225 & SRS000561 & SRX000604 & SRR002322\\\\\n",
       "\t SRA000299 & SRP000225 & SRS000562 & SRX000605 & SRR002320\\\\\n",
       "\t SRA000299 & SRP000225 & SRS000561 & SRX000571 & SRR002321\\\\\n",
       "\t SRA000299 & SRP000225 & SRS000561 & SRX000571 & SRR002323\\\\\n",
       "\t SRA000299 & SRP000225 & SRS000562 & SRX000605 & SRR002325\\\\\n",
       "\t SRA000299 & SRP000225 & SRS000562 & SRX000606 & SRR002324\\\\\n",
       "\\end{tabular}\n"
      ],
      "text/markdown": [
       "\n",
       "A data.frame: 6 × 5\n",
       "\n",
       "| submission &lt;chr&gt; | study &lt;chr&gt; | sample &lt;chr&gt; | experiment &lt;chr&gt; | run &lt;chr&gt; |\n",
       "|---|---|---|---|---|\n",
       "| SRA000299 | SRP000225 | SRS000561 | SRX000604 | SRR002322 |\n",
       "| SRA000299 | SRP000225 | SRS000562 | SRX000605 | SRR002320 |\n",
       "| SRA000299 | SRP000225 | SRS000561 | SRX000571 | SRR002321 |\n",
       "| SRA000299 | SRP000225 | SRS000561 | SRX000571 | SRR002323 |\n",
       "| SRA000299 | SRP000225 | SRS000562 | SRX000605 | SRR002325 |\n",
       "| SRA000299 | SRP000225 | SRS000562 | SRX000606 | SRR002324 |\n",
       "\n"
      ],
      "text/plain": [
       "  submission study     sample    experiment run      \n",
       "1 SRA000299  SRP000225 SRS000561 SRX000604  SRR002322\n",
       "2 SRA000299  SRP000225 SRS000562 SRX000605  SRR002320\n",
       "3 SRA000299  SRP000225 SRS000561 SRX000571  SRR002321\n",
       "4 SRA000299  SRP000225 SRS000561 SRX000571  SRR002323\n",
       "5 SRA000299  SRP000225 SRS000562 SRX000605  SRR002325\n",
       "6 SRA000299  SRP000225 SRS000562 SRX000606  SRR002324"
      ]
     },
     "metadata": {},
     "output_type": "display_data"
    }
   ],
   "source": [
    "hoge"
   ]
  },
  {
   "cell_type": "code",
   "execution_count": 11,
   "metadata": {},
   "outputs": [
    {
     "data": {
      "text/html": [
       "<ol class=list-inline>\n",
       "\t<li>'SRR002322'</li>\n",
       "\t<li>'SRR002320'</li>\n",
       "\t<li>'SRR002321'</li>\n",
       "\t<li>'SRR002323'</li>\n",
       "\t<li>'SRR002325'</li>\n",
       "\t<li>'SRR002324'</li>\n",
       "</ol>\n"
      ],
      "text/latex": [
       "\\begin{enumerate*}\n",
       "\\item 'SRR002322'\n",
       "\\item 'SRR002320'\n",
       "\\item 'SRR002321'\n",
       "\\item 'SRR002323'\n",
       "\\item 'SRR002325'\n",
       "\\item 'SRR002324'\n",
       "\\end{enumerate*}\n"
      ],
      "text/markdown": [
       "1. 'SRR002322'\n",
       "2. 'SRR002320'\n",
       "3. 'SRR002321'\n",
       "4. 'SRR002323'\n",
       "5. 'SRR002325'\n",
       "6. 'SRR002324'\n",
       "\n",
       "\n"
      ],
      "text/plain": [
       "[1] \"SRR002322\" \"SRR002320\" \"SRR002321\" \"SRR002323\" \"SRR002325\" \"SRR002324\""
      ]
     },
     "metadata": {},
     "output_type": "display_data"
    }
   ],
   "source": [
    "hoge$run"
   ]
  },
  {
   "cell_type": "code",
   "execution_count": 12,
   "metadata": {},
   "outputs": [
    {
     "ename": "ERROR",
     "evalue": "Error in sraConvert(in_acc, sra_con = sra_con):  引数 \"sra_con\" がありませんし、省略時既定値もありません \n",
     "output_type": "error",
     "traceback": [
      "Error in sraConvert(in_acc, sra_con = sra_con):  引数 \"sra_con\" がありませんし、省略時既定値もありません \nTraceback:\n",
      "1. getFASTQinfo(hoge$run)",
      "2. sraConvert(in_acc, sra_con = sra_con)",
      "3. dbGetQuery(sra_con, sql)"
     ]
    }
   ],
   "source": [
    "k <- getFASTQinfo(hoge$run)"
   ]
  },
  {
   "cell_type": "code",
   "execution_count": 14,
   "metadata": {},
   "outputs": [],
   "source": [
    "k <- getFASTQinfo(hoge$run, sra_con)"
   ]
  },
  {
   "cell_type": "code",
   "execution_count": 15,
   "metadata": {},
   "outputs": [
    {
     "data": {
      "text/html": [
       "<ol class=list-inline>\n",
       "\t<li>6</li>\n",
       "\t<li>6</li>\n",
       "</ol>\n"
      ],
      "text/latex": [
       "\\begin{enumerate*}\n",
       "\\item 6\n",
       "\\item 6\n",
       "\\end{enumerate*}\n"
      ],
      "text/markdown": [
       "1. 6\n",
       "2. 6\n",
       "\n",
       "\n"
      ],
      "text/plain": [
       "[1] 6 6"
      ]
     },
     "metadata": {},
     "output_type": "display_data"
    }
   ],
   "source": [
    "dim(k)"
   ]
  },
  {
   "cell_type": "code",
   "execution_count": 16,
   "metadata": {},
   "outputs": [
    {
     "data": {
      "text/html": [
       "<ol class=list-inline>\n",
       "\t<li>'run'</li>\n",
       "\t<li>'submission'</li>\n",
       "\t<li>'study'</li>\n",
       "\t<li>'sample'</li>\n",
       "\t<li>'experiment'</li>\n",
       "\t<li>'ftp'</li>\n",
       "</ol>\n"
      ],
      "text/latex": [
       "\\begin{enumerate*}\n",
       "\\item 'run'\n",
       "\\item 'submission'\n",
       "\\item 'study'\n",
       "\\item 'sample'\n",
       "\\item 'experiment'\n",
       "\\item 'ftp'\n",
       "\\end{enumerate*}\n"
      ],
      "text/markdown": [
       "1. 'run'\n",
       "2. 'submission'\n",
       "3. 'study'\n",
       "4. 'sample'\n",
       "5. 'experiment'\n",
       "6. 'ftp'\n",
       "\n",
       "\n"
      ],
      "text/plain": [
       "[1] \"run\"        \"submission\" \"study\"      \"sample\"     \"experiment\"\n",
       "[6] \"ftp\"       "
      ]
     },
     "metadata": {},
     "output_type": "display_data"
    }
   ],
   "source": [
    "colnames(k)"
   ]
  },
  {
   "cell_type": "code",
   "execution_count": 18,
   "metadata": {},
   "outputs": [
    {
     "data": {
      "text/html": [
       "<table>\n",
       "<caption>A data.frame: 6 × 6</caption>\n",
       "<thead>\n",
       "\t<tr><th scope=col>run</th><th scope=col>submission</th><th scope=col>study</th><th scope=col>sample</th><th scope=col>experiment</th><th scope=col>ftp</th></tr>\n",
       "\t<tr><th scope=col>&lt;chr&gt;</th><th scope=col>&lt;chr&gt;</th><th scope=col>&lt;chr&gt;</th><th scope=col>&lt;chr&gt;</th><th scope=col>&lt;chr&gt;</th><th scope=col>&lt;fct&gt;</th></tr>\n",
       "</thead>\n",
       "<tbody>\n",
       "\t<tr><td>SRR002320</td><td>SRA000299</td><td>SRP000225</td><td>SRS000562</td><td>SRX000605</td><td>ftp://ftp.sra.ebi.ac.uk/vol1/fastq/SRR002/SRR002320/SRR002320.fastq.gz</td></tr>\n",
       "\t<tr><td>SRR002321</td><td>SRA000299</td><td>SRP000225</td><td>SRS000561</td><td>SRX000571</td><td>ftp://ftp.sra.ebi.ac.uk/vol1/fastq/SRR002/SRR002321/SRR002321.fastq.gz</td></tr>\n",
       "\t<tr><td>SRR002322</td><td>SRA000299</td><td>SRP000225</td><td>SRS000561</td><td>SRX000604</td><td>ftp://ftp.sra.ebi.ac.uk/vol1/fastq/SRR002/SRR002322/SRR002322.fastq.gz</td></tr>\n",
       "\t<tr><td>SRR002323</td><td>SRA000299</td><td>SRP000225</td><td>SRS000561</td><td>SRX000571</td><td>ftp://ftp.sra.ebi.ac.uk/vol1/fastq/SRR002/SRR002323/SRR002323.fastq.gz</td></tr>\n",
       "\t<tr><td>SRR002324</td><td>SRA000299</td><td>SRP000225</td><td>SRS000562</td><td>SRX000606</td><td>ftp://ftp.sra.ebi.ac.uk/vol1/fastq/SRR002/SRR002324/SRR002324.fastq.gz</td></tr>\n",
       "\t<tr><td>SRR002325</td><td>SRA000299</td><td>SRP000225</td><td>SRS000562</td><td>SRX000605</td><td>ftp://ftp.sra.ebi.ac.uk/vol1/fastq/SRR002/SRR002325/SRR002325.fastq.gz</td></tr>\n",
       "</tbody>\n",
       "</table>\n"
      ],
      "text/latex": [
       "A data.frame: 6 × 6\n",
       "\\begin{tabular}{r|llllll}\n",
       " run & submission & study & sample & experiment & ftp\\\\\n",
       " <chr> & <chr> & <chr> & <chr> & <chr> & <fct>\\\\\n",
       "\\hline\n",
       "\t SRR002320 & SRA000299 & SRP000225 & SRS000562 & SRX000605 & ftp://ftp.sra.ebi.ac.uk/vol1/fastq/SRR002/SRR002320/SRR002320.fastq.gz\\\\\n",
       "\t SRR002321 & SRA000299 & SRP000225 & SRS000561 & SRX000571 & ftp://ftp.sra.ebi.ac.uk/vol1/fastq/SRR002/SRR002321/SRR002321.fastq.gz\\\\\n",
       "\t SRR002322 & SRA000299 & SRP000225 & SRS000561 & SRX000604 & ftp://ftp.sra.ebi.ac.uk/vol1/fastq/SRR002/SRR002322/SRR002322.fastq.gz\\\\\n",
       "\t SRR002323 & SRA000299 & SRP000225 & SRS000561 & SRX000571 & ftp://ftp.sra.ebi.ac.uk/vol1/fastq/SRR002/SRR002323/SRR002323.fastq.gz\\\\\n",
       "\t SRR002324 & SRA000299 & SRP000225 & SRS000562 & SRX000606 & ftp://ftp.sra.ebi.ac.uk/vol1/fastq/SRR002/SRR002324/SRR002324.fastq.gz\\\\\n",
       "\t SRR002325 & SRA000299 & SRP000225 & SRS000562 & SRX000605 & ftp://ftp.sra.ebi.ac.uk/vol1/fastq/SRR002/SRR002325/SRR002325.fastq.gz\\\\\n",
       "\\end{tabular}\n"
      ],
      "text/markdown": [
       "\n",
       "A data.frame: 6 × 6\n",
       "\n",
       "| run &lt;chr&gt; | submission &lt;chr&gt; | study &lt;chr&gt; | sample &lt;chr&gt; | experiment &lt;chr&gt; | ftp &lt;fct&gt; |\n",
       "|---|---|---|---|---|---|\n",
       "| SRR002320 | SRA000299 | SRP000225 | SRS000562 | SRX000605 | ftp://ftp.sra.ebi.ac.uk/vol1/fastq/SRR002/SRR002320/SRR002320.fastq.gz |\n",
       "| SRR002321 | SRA000299 | SRP000225 | SRS000561 | SRX000571 | ftp://ftp.sra.ebi.ac.uk/vol1/fastq/SRR002/SRR002321/SRR002321.fastq.gz |\n",
       "| SRR002322 | SRA000299 | SRP000225 | SRS000561 | SRX000604 | ftp://ftp.sra.ebi.ac.uk/vol1/fastq/SRR002/SRR002322/SRR002322.fastq.gz |\n",
       "| SRR002323 | SRA000299 | SRP000225 | SRS000561 | SRX000571 | ftp://ftp.sra.ebi.ac.uk/vol1/fastq/SRR002/SRR002323/SRR002323.fastq.gz |\n",
       "| SRR002324 | SRA000299 | SRP000225 | SRS000562 | SRX000606 | ftp://ftp.sra.ebi.ac.uk/vol1/fastq/SRR002/SRR002324/SRR002324.fastq.gz |\n",
       "| SRR002325 | SRA000299 | SRP000225 | SRS000562 | SRX000605 | ftp://ftp.sra.ebi.ac.uk/vol1/fastq/SRR002/SRR002325/SRR002325.fastq.gz |\n",
       "\n"
      ],
      "text/plain": [
       "  run       submission study     sample    experiment\n",
       "1 SRR002320 SRA000299  SRP000225 SRS000562 SRX000605 \n",
       "2 SRR002321 SRA000299  SRP000225 SRS000561 SRX000571 \n",
       "3 SRR002322 SRA000299  SRP000225 SRS000561 SRX000604 \n",
       "4 SRR002323 SRA000299  SRP000225 SRS000561 SRX000571 \n",
       "5 SRR002324 SRA000299  SRP000225 SRS000562 SRX000606 \n",
       "6 SRR002325 SRA000299  SRP000225 SRS000562 SRX000605 \n",
       "  ftp                                                                   \n",
       "1 ftp://ftp.sra.ebi.ac.uk/vol1/fastq/SRR002/SRR002320/SRR002320.fastq.gz\n",
       "2 ftp://ftp.sra.ebi.ac.uk/vol1/fastq/SRR002/SRR002321/SRR002321.fastq.gz\n",
       "3 ftp://ftp.sra.ebi.ac.uk/vol1/fastq/SRR002/SRR002322/SRR002322.fastq.gz\n",
       "4 ftp://ftp.sra.ebi.ac.uk/vol1/fastq/SRR002/SRR002323/SRR002323.fastq.gz\n",
       "5 ftp://ftp.sra.ebi.ac.uk/vol1/fastq/SRR002/SRR002324/SRR002324.fastq.gz\n",
       "6 ftp://ftp.sra.ebi.ac.uk/vol1/fastq/SRR002/SRR002325/SRR002325.fastq.gz"
      ]
     },
     "metadata": {},
     "output_type": "display_data"
    }
   ],
   "source": [
    "k"
   ]
  },
  {
   "cell_type": "code",
   "execution_count": null,
   "metadata": {},
   "outputs": [],
   "source": []
  },
  {
   "cell_type": "code",
   "execution_count": 19,
   "metadata": {},
   "outputs": [],
   "source": [
    "#今回は、SRR002324とSRR002322をダウンロード"
   ]
  },
  {
   "cell_type": "code",
   "execution_count": 20,
   "metadata": {},
   "outputs": [
    {
     "data": {
      "text/html": [
       "<ol class=list-inline>\n",
       "\t<li>'SRR002322'</li>\n",
       "\t<li>'SRR002324'</li>\n",
       "</ol>\n"
      ],
      "text/latex": [
       "\\begin{enumerate*}\n",
       "\\item 'SRR002322'\n",
       "\\item 'SRR002324'\n",
       "\\end{enumerate*}\n"
      ],
      "text/markdown": [
       "1. 'SRR002322'\n",
       "2. 'SRR002324'\n",
       "\n",
       "\n"
      ],
      "text/plain": [
       "[1] \"SRR002322\" \"SRR002324\""
      ]
     },
     "metadata": {},
     "output_type": "display_data"
    }
   ],
   "source": [
    "hoge$run[c(1,6)]"
   ]
  },
  {
   "cell_type": "code",
   "execution_count": 22,
   "metadata": {},
   "outputs": [
    {
     "name": "stderr",
     "output_type": "stream",
     "text": [
      "Files are saved to: \n",
      "'/Users/yamada/RNA-seq/【R】トランスクリプトーム解析/chapter2'\n",
      "\n"
     ]
    },
    {
     "ename": "ERROR",
     "evalue": "Error in download.file(i, destfile = file.path(destDir, basename(i)), :  URL 'ftp://ftp.sra.ebi.ac.uk/vol1/fastq/SRR002/SRR002322/SRR002322.fastq.gz' を開けません \n",
     "output_type": "error",
     "traceback": [
      "Error in download.file(i, destfile = file.path(destDir, basename(i)), :  URL 'ftp://ftp.sra.ebi.ac.uk/vol1/fastq/SRR002/SRR002322/SRR002322.fastq.gz' を開けません \nTraceback:\n",
      "1. getFASTQfile(hoge$run[c(1, 6)], sra_con, srcType = \"ftp\")",
      "2. download.file(i, destfile = file.path(destDir, basename(i)), \n .     method = method)"
     ]
    }
   ],
   "source": [
    "getFASTQfile(hoge$run[c(1,6)], sra_con, srcType='ftp')"
   ]
  },
  {
   "cell_type": "code",
   "execution_count": 23,
   "metadata": {},
   "outputs": [
    {
     "data": {
      "text/html": [],
      "text/latex": [],
      "text/markdown": [],
      "text/plain": [
       "character(0)"
      ]
     },
     "metadata": {},
     "output_type": "display_data"
    }
   ],
   "source": [
    "list.files(pattern=\".gz\")"
   ]
  },
  {
   "cell_type": "code",
   "execution_count": null,
   "metadata": {},
   "outputs": [],
   "source": []
  },
  {
   "cell_type": "markdown",
   "metadata": {},
   "source": [
    "20190805 fastqのダウンロードから"
   ]
  },
  {
   "cell_type": "code",
   "execution_count": 7,
   "metadata": {},
   "outputs": [
    {
     "ename": "ERROR",
     "evalue": "Error in listSRAfile(in_acc, sra_con, fileType, srcType):  引数 \"sra_con\" がありませんし、省略時既定値もありません \n",
     "output_type": "error",
     "traceback": [
      "Error in listSRAfile(in_acc, sra_con, fileType, srcType):  引数 \"sra_con\" がありませんし、省略時既定値もありません \nTraceback:\n",
      "1. getSRAfile(\"SRR002322\", srcType = \"ftp\", fileType = \"fastq\")",
      "2. listSRAfile(in_acc, sra_con, fileType, srcType)",
      "3. sraConvert(in_acc, out_type = c(\"run\"), sra_con = sra_con)",
      "4. dbGetQuery(sra_con, sql)"
     ]
    }
   ],
   "source": [
    "getSRAfile('SRR002322', srcType='ftp', fileType='fastq')"
   ]
  },
  {
   "cell_type": "code",
   "execution_count": 5,
   "metadata": {},
   "outputs": [
    {
     "ename": "ERROR",
     "evalue": "Error in dbGetQuery(sra_con, sql):  オブジェクト 'sra_con' がありません \n",
     "output_type": "error",
     "traceback": [
      "Error in dbGetQuery(sra_con, sql):  オブジェクト 'sra_con' がありません \nTraceback:\n",
      "1. getFASTQfile(\"SRR002322\", sra_con, srcType = \"ftp\")",
      "2. getFASTQinfo(in_acc, sra_con, srcType)",
      "3. sraConvert(in_acc, sra_con = sra_con)",
      "4. dbGetQuery(sra_con, sql)"
     ]
    }
   ],
   "source": [
    "getFASTQfile('SRR002322', sra_con, srcType='ftp')"
   ]
  },
  {
   "cell_type": "code",
   "execution_count": null,
   "metadata": {},
   "outputs": [],
   "source": []
  },
  {
   "cell_type": "code",
   "execution_count": null,
   "metadata": {},
   "outputs": [],
   "source": []
  },
  {
   "cell_type": "code",
   "execution_count": null,
   "metadata": {},
   "outputs": [],
   "source": []
  },
  {
   "cell_type": "code",
   "execution_count": null,
   "metadata": {},
   "outputs": [],
   "source": []
  },
  {
   "cell_type": "code",
   "execution_count": null,
   "metadata": {},
   "outputs": [],
   "source": []
  },
  {
   "cell_type": "code",
   "execution_count": null,
   "metadata": {},
   "outputs": [],
   "source": []
  },
  {
   "cell_type": "code",
   "execution_count": null,
   "metadata": {},
   "outputs": [],
   "source": []
  },
  {
   "cell_type": "code",
   "execution_count": null,
   "metadata": {},
   "outputs": [],
   "source": []
  },
  {
   "cell_type": "code",
   "execution_count": null,
   "metadata": {},
   "outputs": [],
   "source": []
  },
  {
   "cell_type": "markdown",
   "metadata": {},
   "source": [
    "### リファレンス配列"
   ]
  },
  {
   "cell_type": "code",
   "execution_count": 8,
   "metadata": {},
   "outputs": [
    {
     "name": "stderr",
     "output_type": "stream",
     "text": [
      "Loading required package: S4Vectors\n",
      "Loading required package: stats4\n",
      "\n",
      "Attaching package: ‘S4Vectors’\n",
      "\n",
      "The following object is masked from ‘package:base’:\n",
      "\n",
      "    expand.grid\n",
      "\n",
      "Loading required package: IRanges\n",
      "Loading required package: GenomeInfoDb\n",
      "Loading required package: GenomicRanges\n",
      "Loading required package: Biostrings\n",
      "Loading required package: XVector\n",
      "\n",
      "Attaching package: ‘Biostrings’\n",
      "\n",
      "The following object is masked from ‘package:graph’:\n",
      "\n",
      "    complement\n",
      "\n",
      "The following object is masked from ‘package:base’:\n",
      "\n",
      "    strsplit\n",
      "\n",
      "Loading required package: rtracklayer\n"
     ]
    }
   ],
   "source": [
    "#パッケージを読み込む\n",
    "library(BSgenome)"
   ]
  },
  {
   "cell_type": "code",
   "execution_count": 9,
   "metadata": {},
   "outputs": [
    {
     "data": {
      "text/html": [
       "<ol class=list-inline>\n",
       "\t<li>'BSgenome.Alyrata.JGI.v1'</li>\n",
       "\t<li>'BSgenome.Amellifera.BeeBase.assembly4'</li>\n",
       "\t<li>'BSgenome.Amellifera.UCSC.apiMel2'</li>\n",
       "\t<li>'BSgenome.Amellifera.UCSC.apiMel2.masked'</li>\n",
       "\t<li>'BSgenome.Aofficinalis.NCBI.V1'</li>\n",
       "\t<li>'BSgenome.Athaliana.TAIR.04232008'</li>\n",
       "\t<li>'BSgenome.Athaliana.TAIR.TAIR9'</li>\n",
       "\t<li>'BSgenome.Btaurus.UCSC.bosTau3'</li>\n",
       "\t<li>'BSgenome.Btaurus.UCSC.bosTau3.masked'</li>\n",
       "\t<li>'BSgenome.Btaurus.UCSC.bosTau4'</li>\n",
       "\t<li>'BSgenome.Btaurus.UCSC.bosTau4.masked'</li>\n",
       "\t<li>'BSgenome.Btaurus.UCSC.bosTau6'</li>\n",
       "\t<li>'BSgenome.Btaurus.UCSC.bosTau6.masked'</li>\n",
       "\t<li>'BSgenome.Btaurus.UCSC.bosTau8'</li>\n",
       "\t<li>'BSgenome.Carietinum.NCBI.v1'</li>\n",
       "\t<li>'BSgenome.Celegans.UCSC.ce10'</li>\n",
       "\t<li>'BSgenome.Celegans.UCSC.ce11'</li>\n",
       "\t<li>'BSgenome.Celegans.UCSC.ce2'</li>\n",
       "\t<li>'BSgenome.Celegans.UCSC.ce6'</li>\n",
       "\t<li>'BSgenome.Cfamiliaris.UCSC.canFam2'</li>\n",
       "\t<li>'BSgenome.Cfamiliaris.UCSC.canFam2.masked'</li>\n",
       "\t<li>'BSgenome.Cfamiliaris.UCSC.canFam3'</li>\n",
       "\t<li>'BSgenome.Cfamiliaris.UCSC.canFam3.masked'</li>\n",
       "\t<li>'BSgenome.Dmelanogaster.UCSC.dm2'</li>\n",
       "\t<li>'BSgenome.Dmelanogaster.UCSC.dm2.masked'</li>\n",
       "\t<li>'BSgenome.Dmelanogaster.UCSC.dm3'</li>\n",
       "\t<li>'BSgenome.Dmelanogaster.UCSC.dm3.masked'</li>\n",
       "\t<li>'BSgenome.Dmelanogaster.UCSC.dm6'</li>\n",
       "\t<li>'BSgenome.Drerio.UCSC.danRer10'</li>\n",
       "\t<li>'BSgenome.Drerio.UCSC.danRer5'</li>\n",
       "\t<li>'BSgenome.Drerio.UCSC.danRer5.masked'</li>\n",
       "\t<li>'BSgenome.Drerio.UCSC.danRer6'</li>\n",
       "\t<li>'BSgenome.Drerio.UCSC.danRer6.masked'</li>\n",
       "\t<li>'BSgenome.Drerio.UCSC.danRer7'</li>\n",
       "\t<li>'BSgenome.Drerio.UCSC.danRer7.masked'</li>\n",
       "\t<li>'BSgenome.Ecoli.NCBI.20080805'</li>\n",
       "\t<li>'BSgenome.Gaculeatus.UCSC.gasAcu1'</li>\n",
       "\t<li>'BSgenome.Gaculeatus.UCSC.gasAcu1.masked'</li>\n",
       "\t<li>'BSgenome.Ggallus.UCSC.galGal3'</li>\n",
       "\t<li>'BSgenome.Ggallus.UCSC.galGal3.masked'</li>\n",
       "\t<li>'BSgenome.Ggallus.UCSC.galGal4'</li>\n",
       "\t<li>'BSgenome.Ggallus.UCSC.galGal4.masked'</li>\n",
       "\t<li>'BSgenome.Ggallus.UCSC.galGal5'</li>\n",
       "\t<li>'BSgenome.Hsapiens.1000genomes.hs37d5'</li>\n",
       "\t<li>'BSgenome.Hsapiens.NCBI.GRCh38'</li>\n",
       "\t<li>'BSgenome.Hsapiens.UCSC.hg17'</li>\n",
       "\t<li>'BSgenome.Hsapiens.UCSC.hg17.masked'</li>\n",
       "\t<li>'BSgenome.Hsapiens.UCSC.hg18'</li>\n",
       "\t<li>'BSgenome.Hsapiens.UCSC.hg18.masked'</li>\n",
       "\t<li>'BSgenome.Hsapiens.UCSC.hg19'</li>\n",
       "\t<li>'BSgenome.Hsapiens.UCSC.hg19.masked'</li>\n",
       "\t<li>'BSgenome.Hsapiens.UCSC.hg38'</li>\n",
       "\t<li>'BSgenome.Hsapiens.UCSC.hg38.masked'</li>\n",
       "\t<li>'BSgenome.Mfascicularis.NCBI.5.0'</li>\n",
       "\t<li>'BSgenome.Mfuro.UCSC.musFur1'</li>\n",
       "\t<li>'BSgenome.Mmulatta.UCSC.rheMac2'</li>\n",
       "\t<li>'BSgenome.Mmulatta.UCSC.rheMac2.masked'</li>\n",
       "\t<li>'BSgenome.Mmulatta.UCSC.rheMac3'</li>\n",
       "\t<li>'BSgenome.Mmulatta.UCSC.rheMac3.masked'</li>\n",
       "\t<li>'BSgenome.Mmulatta.UCSC.rheMac8'</li>\n",
       "\t<li>'BSgenome.Mmusculus.UCSC.mm10'</li>\n",
       "\t<li>'BSgenome.Mmusculus.UCSC.mm10.masked'</li>\n",
       "\t<li>'BSgenome.Mmusculus.UCSC.mm8'</li>\n",
       "\t<li>'BSgenome.Mmusculus.UCSC.mm8.masked'</li>\n",
       "\t<li>'BSgenome.Mmusculus.UCSC.mm9'</li>\n",
       "\t<li>'BSgenome.Mmusculus.UCSC.mm9.masked'</li>\n",
       "\t<li>'BSgenome.Osativa.MSU.MSU7'</li>\n",
       "\t<li>'BSgenome.Ptroglodytes.UCSC.panTro2'</li>\n",
       "\t<li>'BSgenome.Ptroglodytes.UCSC.panTro2.masked'</li>\n",
       "\t<li>'BSgenome.Ptroglodytes.UCSC.panTro3'</li>\n",
       "\t<li>'BSgenome.Ptroglodytes.UCSC.panTro3.masked'</li>\n",
       "\t<li>'BSgenome.Ptroglodytes.UCSC.panTro5'</li>\n",
       "\t<li>'BSgenome.Ptroglodytes.UCSC.panTro6'</li>\n",
       "\t<li>'BSgenome.Rnorvegicus.UCSC.rn4'</li>\n",
       "\t<li>'BSgenome.Rnorvegicus.UCSC.rn4.masked'</li>\n",
       "\t<li>'BSgenome.Rnorvegicus.UCSC.rn5'</li>\n",
       "\t<li>'BSgenome.Rnorvegicus.UCSC.rn5.masked'</li>\n",
       "\t<li>'BSgenome.Rnorvegicus.UCSC.rn6'</li>\n",
       "\t<li>'BSgenome.Scerevisiae.UCSC.sacCer1'</li>\n",
       "\t<li>'BSgenome.Scerevisiae.UCSC.sacCer2'</li>\n",
       "\t<li>'BSgenome.Scerevisiae.UCSC.sacCer3'</li>\n",
       "\t<li>'BSgenome.Sscrofa.UCSC.susScr11'</li>\n",
       "\t<li>'BSgenome.Sscrofa.UCSC.susScr3'</li>\n",
       "\t<li>'BSgenome.Sscrofa.UCSC.susScr3.masked'</li>\n",
       "\t<li>'BSgenome.Tgondii.ToxoDB.7.0'</li>\n",
       "\t<li>'BSgenome.Tguttata.UCSC.taeGut1'</li>\n",
       "\t<li>'BSgenome.Tguttata.UCSC.taeGut1.masked'</li>\n",
       "\t<li>'BSgenome.Tguttata.UCSC.taeGut2'</li>\n",
       "\t<li>'BSgenome.Vvinifera.URGI.IGGP12Xv0'</li>\n",
       "\t<li>'BSgenome.Vvinifera.URGI.IGGP12Xv2'</li>\n",
       "\t<li>'BSgenome.Vvinifera.URGI.IGGP8X'</li>\n",
       "</ol>\n"
      ],
      "text/latex": [
       "\\begin{enumerate*}\n",
       "\\item 'BSgenome.Alyrata.JGI.v1'\n",
       "\\item 'BSgenome.Amellifera.BeeBase.assembly4'\n",
       "\\item 'BSgenome.Amellifera.UCSC.apiMel2'\n",
       "\\item 'BSgenome.Amellifera.UCSC.apiMel2.masked'\n",
       "\\item 'BSgenome.Aofficinalis.NCBI.V1'\n",
       "\\item 'BSgenome.Athaliana.TAIR.04232008'\n",
       "\\item 'BSgenome.Athaliana.TAIR.TAIR9'\n",
       "\\item 'BSgenome.Btaurus.UCSC.bosTau3'\n",
       "\\item 'BSgenome.Btaurus.UCSC.bosTau3.masked'\n",
       "\\item 'BSgenome.Btaurus.UCSC.bosTau4'\n",
       "\\item 'BSgenome.Btaurus.UCSC.bosTau4.masked'\n",
       "\\item 'BSgenome.Btaurus.UCSC.bosTau6'\n",
       "\\item 'BSgenome.Btaurus.UCSC.bosTau6.masked'\n",
       "\\item 'BSgenome.Btaurus.UCSC.bosTau8'\n",
       "\\item 'BSgenome.Carietinum.NCBI.v1'\n",
       "\\item 'BSgenome.Celegans.UCSC.ce10'\n",
       "\\item 'BSgenome.Celegans.UCSC.ce11'\n",
       "\\item 'BSgenome.Celegans.UCSC.ce2'\n",
       "\\item 'BSgenome.Celegans.UCSC.ce6'\n",
       "\\item 'BSgenome.Cfamiliaris.UCSC.canFam2'\n",
       "\\item 'BSgenome.Cfamiliaris.UCSC.canFam2.masked'\n",
       "\\item 'BSgenome.Cfamiliaris.UCSC.canFam3'\n",
       "\\item 'BSgenome.Cfamiliaris.UCSC.canFam3.masked'\n",
       "\\item 'BSgenome.Dmelanogaster.UCSC.dm2'\n",
       "\\item 'BSgenome.Dmelanogaster.UCSC.dm2.masked'\n",
       "\\item 'BSgenome.Dmelanogaster.UCSC.dm3'\n",
       "\\item 'BSgenome.Dmelanogaster.UCSC.dm3.masked'\n",
       "\\item 'BSgenome.Dmelanogaster.UCSC.dm6'\n",
       "\\item 'BSgenome.Drerio.UCSC.danRer10'\n",
       "\\item 'BSgenome.Drerio.UCSC.danRer5'\n",
       "\\item 'BSgenome.Drerio.UCSC.danRer5.masked'\n",
       "\\item 'BSgenome.Drerio.UCSC.danRer6'\n",
       "\\item 'BSgenome.Drerio.UCSC.danRer6.masked'\n",
       "\\item 'BSgenome.Drerio.UCSC.danRer7'\n",
       "\\item 'BSgenome.Drerio.UCSC.danRer7.masked'\n",
       "\\item 'BSgenome.Ecoli.NCBI.20080805'\n",
       "\\item 'BSgenome.Gaculeatus.UCSC.gasAcu1'\n",
       "\\item 'BSgenome.Gaculeatus.UCSC.gasAcu1.masked'\n",
       "\\item 'BSgenome.Ggallus.UCSC.galGal3'\n",
       "\\item 'BSgenome.Ggallus.UCSC.galGal3.masked'\n",
       "\\item 'BSgenome.Ggallus.UCSC.galGal4'\n",
       "\\item 'BSgenome.Ggallus.UCSC.galGal4.masked'\n",
       "\\item 'BSgenome.Ggallus.UCSC.galGal5'\n",
       "\\item 'BSgenome.Hsapiens.1000genomes.hs37d5'\n",
       "\\item 'BSgenome.Hsapiens.NCBI.GRCh38'\n",
       "\\item 'BSgenome.Hsapiens.UCSC.hg17'\n",
       "\\item 'BSgenome.Hsapiens.UCSC.hg17.masked'\n",
       "\\item 'BSgenome.Hsapiens.UCSC.hg18'\n",
       "\\item 'BSgenome.Hsapiens.UCSC.hg18.masked'\n",
       "\\item 'BSgenome.Hsapiens.UCSC.hg19'\n",
       "\\item 'BSgenome.Hsapiens.UCSC.hg19.masked'\n",
       "\\item 'BSgenome.Hsapiens.UCSC.hg38'\n",
       "\\item 'BSgenome.Hsapiens.UCSC.hg38.masked'\n",
       "\\item 'BSgenome.Mfascicularis.NCBI.5.0'\n",
       "\\item 'BSgenome.Mfuro.UCSC.musFur1'\n",
       "\\item 'BSgenome.Mmulatta.UCSC.rheMac2'\n",
       "\\item 'BSgenome.Mmulatta.UCSC.rheMac2.masked'\n",
       "\\item 'BSgenome.Mmulatta.UCSC.rheMac3'\n",
       "\\item 'BSgenome.Mmulatta.UCSC.rheMac3.masked'\n",
       "\\item 'BSgenome.Mmulatta.UCSC.rheMac8'\n",
       "\\item 'BSgenome.Mmusculus.UCSC.mm10'\n",
       "\\item 'BSgenome.Mmusculus.UCSC.mm10.masked'\n",
       "\\item 'BSgenome.Mmusculus.UCSC.mm8'\n",
       "\\item 'BSgenome.Mmusculus.UCSC.mm8.masked'\n",
       "\\item 'BSgenome.Mmusculus.UCSC.mm9'\n",
       "\\item 'BSgenome.Mmusculus.UCSC.mm9.masked'\n",
       "\\item 'BSgenome.Osativa.MSU.MSU7'\n",
       "\\item 'BSgenome.Ptroglodytes.UCSC.panTro2'\n",
       "\\item 'BSgenome.Ptroglodytes.UCSC.panTro2.masked'\n",
       "\\item 'BSgenome.Ptroglodytes.UCSC.panTro3'\n",
       "\\item 'BSgenome.Ptroglodytes.UCSC.panTro3.masked'\n",
       "\\item 'BSgenome.Ptroglodytes.UCSC.panTro5'\n",
       "\\item 'BSgenome.Ptroglodytes.UCSC.panTro6'\n",
       "\\item 'BSgenome.Rnorvegicus.UCSC.rn4'\n",
       "\\item 'BSgenome.Rnorvegicus.UCSC.rn4.masked'\n",
       "\\item 'BSgenome.Rnorvegicus.UCSC.rn5'\n",
       "\\item 'BSgenome.Rnorvegicus.UCSC.rn5.masked'\n",
       "\\item 'BSgenome.Rnorvegicus.UCSC.rn6'\n",
       "\\item 'BSgenome.Scerevisiae.UCSC.sacCer1'\n",
       "\\item 'BSgenome.Scerevisiae.UCSC.sacCer2'\n",
       "\\item 'BSgenome.Scerevisiae.UCSC.sacCer3'\n",
       "\\item 'BSgenome.Sscrofa.UCSC.susScr11'\n",
       "\\item 'BSgenome.Sscrofa.UCSC.susScr3'\n",
       "\\item 'BSgenome.Sscrofa.UCSC.susScr3.masked'\n",
       "\\item 'BSgenome.Tgondii.ToxoDB.7.0'\n",
       "\\item 'BSgenome.Tguttata.UCSC.taeGut1'\n",
       "\\item 'BSgenome.Tguttata.UCSC.taeGut1.masked'\n",
       "\\item 'BSgenome.Tguttata.UCSC.taeGut2'\n",
       "\\item 'BSgenome.Vvinifera.URGI.IGGP12Xv0'\n",
       "\\item 'BSgenome.Vvinifera.URGI.IGGP12Xv2'\n",
       "\\item 'BSgenome.Vvinifera.URGI.IGGP8X'\n",
       "\\end{enumerate*}\n"
      ],
      "text/markdown": [
       "1. 'BSgenome.Alyrata.JGI.v1'\n",
       "2. 'BSgenome.Amellifera.BeeBase.assembly4'\n",
       "3. 'BSgenome.Amellifera.UCSC.apiMel2'\n",
       "4. 'BSgenome.Amellifera.UCSC.apiMel2.masked'\n",
       "5. 'BSgenome.Aofficinalis.NCBI.V1'\n",
       "6. 'BSgenome.Athaliana.TAIR.04232008'\n",
       "7. 'BSgenome.Athaliana.TAIR.TAIR9'\n",
       "8. 'BSgenome.Btaurus.UCSC.bosTau3'\n",
       "9. 'BSgenome.Btaurus.UCSC.bosTau3.masked'\n",
       "10. 'BSgenome.Btaurus.UCSC.bosTau4'\n",
       "11. 'BSgenome.Btaurus.UCSC.bosTau4.masked'\n",
       "12. 'BSgenome.Btaurus.UCSC.bosTau6'\n",
       "13. 'BSgenome.Btaurus.UCSC.bosTau6.masked'\n",
       "14. 'BSgenome.Btaurus.UCSC.bosTau8'\n",
       "15. 'BSgenome.Carietinum.NCBI.v1'\n",
       "16. 'BSgenome.Celegans.UCSC.ce10'\n",
       "17. 'BSgenome.Celegans.UCSC.ce11'\n",
       "18. 'BSgenome.Celegans.UCSC.ce2'\n",
       "19. 'BSgenome.Celegans.UCSC.ce6'\n",
       "20. 'BSgenome.Cfamiliaris.UCSC.canFam2'\n",
       "21. 'BSgenome.Cfamiliaris.UCSC.canFam2.masked'\n",
       "22. 'BSgenome.Cfamiliaris.UCSC.canFam3'\n",
       "23. 'BSgenome.Cfamiliaris.UCSC.canFam3.masked'\n",
       "24. 'BSgenome.Dmelanogaster.UCSC.dm2'\n",
       "25. 'BSgenome.Dmelanogaster.UCSC.dm2.masked'\n",
       "26. 'BSgenome.Dmelanogaster.UCSC.dm3'\n",
       "27. 'BSgenome.Dmelanogaster.UCSC.dm3.masked'\n",
       "28. 'BSgenome.Dmelanogaster.UCSC.dm6'\n",
       "29. 'BSgenome.Drerio.UCSC.danRer10'\n",
       "30. 'BSgenome.Drerio.UCSC.danRer5'\n",
       "31. 'BSgenome.Drerio.UCSC.danRer5.masked'\n",
       "32. 'BSgenome.Drerio.UCSC.danRer6'\n",
       "33. 'BSgenome.Drerio.UCSC.danRer6.masked'\n",
       "34. 'BSgenome.Drerio.UCSC.danRer7'\n",
       "35. 'BSgenome.Drerio.UCSC.danRer7.masked'\n",
       "36. 'BSgenome.Ecoli.NCBI.20080805'\n",
       "37. 'BSgenome.Gaculeatus.UCSC.gasAcu1'\n",
       "38. 'BSgenome.Gaculeatus.UCSC.gasAcu1.masked'\n",
       "39. 'BSgenome.Ggallus.UCSC.galGal3'\n",
       "40. 'BSgenome.Ggallus.UCSC.galGal3.masked'\n",
       "41. 'BSgenome.Ggallus.UCSC.galGal4'\n",
       "42. 'BSgenome.Ggallus.UCSC.galGal4.masked'\n",
       "43. 'BSgenome.Ggallus.UCSC.galGal5'\n",
       "44. 'BSgenome.Hsapiens.1000genomes.hs37d5'\n",
       "45. 'BSgenome.Hsapiens.NCBI.GRCh38'\n",
       "46. 'BSgenome.Hsapiens.UCSC.hg17'\n",
       "47. 'BSgenome.Hsapiens.UCSC.hg17.masked'\n",
       "48. 'BSgenome.Hsapiens.UCSC.hg18'\n",
       "49. 'BSgenome.Hsapiens.UCSC.hg18.masked'\n",
       "50. 'BSgenome.Hsapiens.UCSC.hg19'\n",
       "51. 'BSgenome.Hsapiens.UCSC.hg19.masked'\n",
       "52. 'BSgenome.Hsapiens.UCSC.hg38'\n",
       "53. 'BSgenome.Hsapiens.UCSC.hg38.masked'\n",
       "54. 'BSgenome.Mfascicularis.NCBI.5.0'\n",
       "55. 'BSgenome.Mfuro.UCSC.musFur1'\n",
       "56. 'BSgenome.Mmulatta.UCSC.rheMac2'\n",
       "57. 'BSgenome.Mmulatta.UCSC.rheMac2.masked'\n",
       "58. 'BSgenome.Mmulatta.UCSC.rheMac3'\n",
       "59. 'BSgenome.Mmulatta.UCSC.rheMac3.masked'\n",
       "60. 'BSgenome.Mmulatta.UCSC.rheMac8'\n",
       "61. 'BSgenome.Mmusculus.UCSC.mm10'\n",
       "62. 'BSgenome.Mmusculus.UCSC.mm10.masked'\n",
       "63. 'BSgenome.Mmusculus.UCSC.mm8'\n",
       "64. 'BSgenome.Mmusculus.UCSC.mm8.masked'\n",
       "65. 'BSgenome.Mmusculus.UCSC.mm9'\n",
       "66. 'BSgenome.Mmusculus.UCSC.mm9.masked'\n",
       "67. 'BSgenome.Osativa.MSU.MSU7'\n",
       "68. 'BSgenome.Ptroglodytes.UCSC.panTro2'\n",
       "69. 'BSgenome.Ptroglodytes.UCSC.panTro2.masked'\n",
       "70. 'BSgenome.Ptroglodytes.UCSC.panTro3'\n",
       "71. 'BSgenome.Ptroglodytes.UCSC.panTro3.masked'\n",
       "72. 'BSgenome.Ptroglodytes.UCSC.panTro5'\n",
       "73. 'BSgenome.Ptroglodytes.UCSC.panTro6'\n",
       "74. 'BSgenome.Rnorvegicus.UCSC.rn4'\n",
       "75. 'BSgenome.Rnorvegicus.UCSC.rn4.masked'\n",
       "76. 'BSgenome.Rnorvegicus.UCSC.rn5'\n",
       "77. 'BSgenome.Rnorvegicus.UCSC.rn5.masked'\n",
       "78. 'BSgenome.Rnorvegicus.UCSC.rn6'\n",
       "79. 'BSgenome.Scerevisiae.UCSC.sacCer1'\n",
       "80. 'BSgenome.Scerevisiae.UCSC.sacCer2'\n",
       "81. 'BSgenome.Scerevisiae.UCSC.sacCer3'\n",
       "82. 'BSgenome.Sscrofa.UCSC.susScr11'\n",
       "83. 'BSgenome.Sscrofa.UCSC.susScr3'\n",
       "84. 'BSgenome.Sscrofa.UCSC.susScr3.masked'\n",
       "85. 'BSgenome.Tgondii.ToxoDB.7.0'\n",
       "86. 'BSgenome.Tguttata.UCSC.taeGut1'\n",
       "87. 'BSgenome.Tguttata.UCSC.taeGut1.masked'\n",
       "88. 'BSgenome.Tguttata.UCSC.taeGut2'\n",
       "89. 'BSgenome.Vvinifera.URGI.IGGP12Xv0'\n",
       "90. 'BSgenome.Vvinifera.URGI.IGGP12Xv2'\n",
       "91. 'BSgenome.Vvinifera.URGI.IGGP8X'\n",
       "\n",
       "\n"
      ],
      "text/plain": [
       " [1] \"BSgenome.Alyrata.JGI.v1\"                  \n",
       " [2] \"BSgenome.Amellifera.BeeBase.assembly4\"    \n",
       " [3] \"BSgenome.Amellifera.UCSC.apiMel2\"         \n",
       " [4] \"BSgenome.Amellifera.UCSC.apiMel2.masked\"  \n",
       " [5] \"BSgenome.Aofficinalis.NCBI.V1\"            \n",
       " [6] \"BSgenome.Athaliana.TAIR.04232008\"         \n",
       " [7] \"BSgenome.Athaliana.TAIR.TAIR9\"            \n",
       " [8] \"BSgenome.Btaurus.UCSC.bosTau3\"            \n",
       " [9] \"BSgenome.Btaurus.UCSC.bosTau3.masked\"     \n",
       "[10] \"BSgenome.Btaurus.UCSC.bosTau4\"            \n",
       "[11] \"BSgenome.Btaurus.UCSC.bosTau4.masked\"     \n",
       "[12] \"BSgenome.Btaurus.UCSC.bosTau6\"            \n",
       "[13] \"BSgenome.Btaurus.UCSC.bosTau6.masked\"     \n",
       "[14] \"BSgenome.Btaurus.UCSC.bosTau8\"            \n",
       "[15] \"BSgenome.Carietinum.NCBI.v1\"              \n",
       "[16] \"BSgenome.Celegans.UCSC.ce10\"              \n",
       "[17] \"BSgenome.Celegans.UCSC.ce11\"              \n",
       "[18] \"BSgenome.Celegans.UCSC.ce2\"               \n",
       "[19] \"BSgenome.Celegans.UCSC.ce6\"               \n",
       "[20] \"BSgenome.Cfamiliaris.UCSC.canFam2\"        \n",
       "[21] \"BSgenome.Cfamiliaris.UCSC.canFam2.masked\" \n",
       "[22] \"BSgenome.Cfamiliaris.UCSC.canFam3\"        \n",
       "[23] \"BSgenome.Cfamiliaris.UCSC.canFam3.masked\" \n",
       "[24] \"BSgenome.Dmelanogaster.UCSC.dm2\"          \n",
       "[25] \"BSgenome.Dmelanogaster.UCSC.dm2.masked\"   \n",
       "[26] \"BSgenome.Dmelanogaster.UCSC.dm3\"          \n",
       "[27] \"BSgenome.Dmelanogaster.UCSC.dm3.masked\"   \n",
       "[28] \"BSgenome.Dmelanogaster.UCSC.dm6\"          \n",
       "[29] \"BSgenome.Drerio.UCSC.danRer10\"            \n",
       "[30] \"BSgenome.Drerio.UCSC.danRer5\"             \n",
       "[31] \"BSgenome.Drerio.UCSC.danRer5.masked\"      \n",
       "[32] \"BSgenome.Drerio.UCSC.danRer6\"             \n",
       "[33] \"BSgenome.Drerio.UCSC.danRer6.masked\"      \n",
       "[34] \"BSgenome.Drerio.UCSC.danRer7\"             \n",
       "[35] \"BSgenome.Drerio.UCSC.danRer7.masked\"      \n",
       "[36] \"BSgenome.Ecoli.NCBI.20080805\"             \n",
       "[37] \"BSgenome.Gaculeatus.UCSC.gasAcu1\"         \n",
       "[38] \"BSgenome.Gaculeatus.UCSC.gasAcu1.masked\"  \n",
       "[39] \"BSgenome.Ggallus.UCSC.galGal3\"            \n",
       "[40] \"BSgenome.Ggallus.UCSC.galGal3.masked\"     \n",
       "[41] \"BSgenome.Ggallus.UCSC.galGal4\"            \n",
       "[42] \"BSgenome.Ggallus.UCSC.galGal4.masked\"     \n",
       "[43] \"BSgenome.Ggallus.UCSC.galGal5\"            \n",
       "[44] \"BSgenome.Hsapiens.1000genomes.hs37d5\"     \n",
       "[45] \"BSgenome.Hsapiens.NCBI.GRCh38\"            \n",
       "[46] \"BSgenome.Hsapiens.UCSC.hg17\"              \n",
       "[47] \"BSgenome.Hsapiens.UCSC.hg17.masked\"       \n",
       "[48] \"BSgenome.Hsapiens.UCSC.hg18\"              \n",
       "[49] \"BSgenome.Hsapiens.UCSC.hg18.masked\"       \n",
       "[50] \"BSgenome.Hsapiens.UCSC.hg19\"              \n",
       "[51] \"BSgenome.Hsapiens.UCSC.hg19.masked\"       \n",
       "[52] \"BSgenome.Hsapiens.UCSC.hg38\"              \n",
       "[53] \"BSgenome.Hsapiens.UCSC.hg38.masked\"       \n",
       "[54] \"BSgenome.Mfascicularis.NCBI.5.0\"          \n",
       "[55] \"BSgenome.Mfuro.UCSC.musFur1\"              \n",
       "[56] \"BSgenome.Mmulatta.UCSC.rheMac2\"           \n",
       "[57] \"BSgenome.Mmulatta.UCSC.rheMac2.masked\"    \n",
       "[58] \"BSgenome.Mmulatta.UCSC.rheMac3\"           \n",
       "[59] \"BSgenome.Mmulatta.UCSC.rheMac3.masked\"    \n",
       "[60] \"BSgenome.Mmulatta.UCSC.rheMac8\"           \n",
       "[61] \"BSgenome.Mmusculus.UCSC.mm10\"             \n",
       "[62] \"BSgenome.Mmusculus.UCSC.mm10.masked\"      \n",
       "[63] \"BSgenome.Mmusculus.UCSC.mm8\"              \n",
       "[64] \"BSgenome.Mmusculus.UCSC.mm8.masked\"       \n",
       "[65] \"BSgenome.Mmusculus.UCSC.mm9\"              \n",
       "[66] \"BSgenome.Mmusculus.UCSC.mm9.masked\"       \n",
       "[67] \"BSgenome.Osativa.MSU.MSU7\"                \n",
       "[68] \"BSgenome.Ptroglodytes.UCSC.panTro2\"       \n",
       "[69] \"BSgenome.Ptroglodytes.UCSC.panTro2.masked\"\n",
       "[70] \"BSgenome.Ptroglodytes.UCSC.panTro3\"       \n",
       "[71] \"BSgenome.Ptroglodytes.UCSC.panTro3.masked\"\n",
       "[72] \"BSgenome.Ptroglodytes.UCSC.panTro5\"       \n",
       "[73] \"BSgenome.Ptroglodytes.UCSC.panTro6\"       \n",
       "[74] \"BSgenome.Rnorvegicus.UCSC.rn4\"            \n",
       "[75] \"BSgenome.Rnorvegicus.UCSC.rn4.masked\"     \n",
       "[76] \"BSgenome.Rnorvegicus.UCSC.rn5\"            \n",
       "[77] \"BSgenome.Rnorvegicus.UCSC.rn5.masked\"     \n",
       "[78] \"BSgenome.Rnorvegicus.UCSC.rn6\"            \n",
       "[79] \"BSgenome.Scerevisiae.UCSC.sacCer1\"        \n",
       "[80] \"BSgenome.Scerevisiae.UCSC.sacCer2\"        \n",
       "[81] \"BSgenome.Scerevisiae.UCSC.sacCer3\"        \n",
       "[82] \"BSgenome.Sscrofa.UCSC.susScr11\"           \n",
       "[83] \"BSgenome.Sscrofa.UCSC.susScr3\"            \n",
       "[84] \"BSgenome.Sscrofa.UCSC.susScr3.masked\"     \n",
       "[85] \"BSgenome.Tgondii.ToxoDB.7.0\"              \n",
       "[86] \"BSgenome.Tguttata.UCSC.taeGut1\"           \n",
       "[87] \"BSgenome.Tguttata.UCSC.taeGut1.masked\"    \n",
       "[88] \"BSgenome.Tguttata.UCSC.taeGut2\"           \n",
       "[89] \"BSgenome.Vvinifera.URGI.IGGP12Xv0\"        \n",
       "[90] \"BSgenome.Vvinifera.URGI.IGGP12Xv2\"        \n",
       "[91] \"BSgenome.Vvinifera.URGI.IGGP8X\"           "
      ]
     },
     "metadata": {},
     "output_type": "display_data"
    }
   ],
   "source": [
    "#利用可能なゲノムをリストアップ\n",
    "available.genomes()"
   ]
  },
  {
   "cell_type": "code",
   "execution_count": null,
   "metadata": {},
   "outputs": [],
   "source": []
  },
  {
   "cell_type": "code",
   "execution_count": 10,
   "metadata": {},
   "outputs": [],
   "source": [
    "hoge <- available.genomes(splitNameParts=T)"
   ]
  },
  {
   "cell_type": "code",
   "execution_count": 11,
   "metadata": {},
   "outputs": [
    {
     "data": {
      "text/html": [
       "<ol class=list-inline>\n",
       "\t<li>91</li>\n",
       "\t<li>5</li>\n",
       "</ol>\n"
      ],
      "text/latex": [
       "\\begin{enumerate*}\n",
       "\\item 91\n",
       "\\item 5\n",
       "\\end{enumerate*}\n"
      ],
      "text/markdown": [
       "1. 91\n",
       "2. 5\n",
       "\n",
       "\n"
      ],
      "text/plain": [
       "[1] 91  5"
      ]
     },
     "metadata": {},
     "output_type": "display_data"
    }
   ],
   "source": [
    "dim(hoge)"
   ]
  },
  {
   "cell_type": "code",
   "execution_count": 12,
   "metadata": {},
   "outputs": [
    {
     "data": {
      "text/html": [
       "<ol class=list-inline>\n",
       "\t<li>'pkgname'</li>\n",
       "\t<li>'organism'</li>\n",
       "\t<li>'provider'</li>\n",
       "\t<li>'provider_version'</li>\n",
       "\t<li>'masked'</li>\n",
       "</ol>\n"
      ],
      "text/latex": [
       "\\begin{enumerate*}\n",
       "\\item 'pkgname'\n",
       "\\item 'organism'\n",
       "\\item 'provider'\n",
       "\\item 'provider\\_version'\n",
       "\\item 'masked'\n",
       "\\end{enumerate*}\n"
      ],
      "text/markdown": [
       "1. 'pkgname'\n",
       "2. 'organism'\n",
       "3. 'provider'\n",
       "4. 'provider_version'\n",
       "5. 'masked'\n",
       "\n",
       "\n"
      ],
      "text/plain": [
       "[1] \"pkgname\"          \"organism\"         \"provider\"         \"provider_version\"\n",
       "[5] \"masked\"          "
      ]
     },
     "metadata": {},
     "output_type": "display_data"
    }
   ],
   "source": [
    "colnames(hoge)"
   ]
  },
  {
   "cell_type": "code",
   "execution_count": 14,
   "metadata": {},
   "outputs": [
    {
     "data": {
      "text/html": [
       "<ol class=list-inline>\n",
       "\t<li>Alyrata</li>\n",
       "\t<li>Amellifera</li>\n",
       "\t<li>Amellifera</li>\n",
       "\t<li>Amellifera</li>\n",
       "\t<li>Aofficinalis</li>\n",
       "\t<li>Athaliana</li>\n",
       "\t<li>Athaliana</li>\n",
       "\t<li>Btaurus</li>\n",
       "\t<li>Btaurus</li>\n",
       "\t<li>Btaurus</li>\n",
       "\t<li>Btaurus</li>\n",
       "\t<li>Btaurus</li>\n",
       "\t<li>Btaurus</li>\n",
       "\t<li>Btaurus</li>\n",
       "\t<li>Carietinum</li>\n",
       "\t<li>Celegans</li>\n",
       "\t<li>Celegans</li>\n",
       "\t<li>Celegans</li>\n",
       "\t<li>Celegans</li>\n",
       "\t<li>Cfamiliaris</li>\n",
       "\t<li>Cfamiliaris</li>\n",
       "\t<li>Cfamiliaris</li>\n",
       "\t<li>Cfamiliaris</li>\n",
       "\t<li>Dmelanogaster</li>\n",
       "\t<li>Dmelanogaster</li>\n",
       "\t<li>Dmelanogaster</li>\n",
       "\t<li>Dmelanogaster</li>\n",
       "\t<li>Dmelanogaster</li>\n",
       "\t<li>Drerio</li>\n",
       "\t<li>Drerio</li>\n",
       "\t<li>Drerio</li>\n",
       "\t<li>Drerio</li>\n",
       "\t<li>Drerio</li>\n",
       "\t<li>Drerio</li>\n",
       "\t<li>Drerio</li>\n",
       "\t<li>Ecoli</li>\n",
       "\t<li>Gaculeatus</li>\n",
       "\t<li>Gaculeatus</li>\n",
       "\t<li>Ggallus</li>\n",
       "\t<li>Ggallus</li>\n",
       "\t<li>Ggallus</li>\n",
       "\t<li>Ggallus</li>\n",
       "\t<li>Ggallus</li>\n",
       "\t<li>Hsapiens</li>\n",
       "\t<li>Hsapiens</li>\n",
       "\t<li>Hsapiens</li>\n",
       "\t<li>Hsapiens</li>\n",
       "\t<li>Hsapiens</li>\n",
       "\t<li>Hsapiens</li>\n",
       "\t<li>Hsapiens</li>\n",
       "\t<li>Hsapiens</li>\n",
       "\t<li>Hsapiens</li>\n",
       "\t<li>Hsapiens</li>\n",
       "\t<li>Mfascicularis</li>\n",
       "\t<li>Mfuro</li>\n",
       "\t<li>Mmulatta</li>\n",
       "\t<li>Mmulatta</li>\n",
       "\t<li>Mmulatta</li>\n",
       "\t<li>Mmulatta</li>\n",
       "\t<li>Mmulatta</li>\n",
       "\t<li>Mmusculus</li>\n",
       "\t<li>Mmusculus</li>\n",
       "\t<li>Mmusculus</li>\n",
       "\t<li>Mmusculus</li>\n",
       "\t<li>Mmusculus</li>\n",
       "\t<li>Mmusculus</li>\n",
       "\t<li>Osativa</li>\n",
       "\t<li>Ptroglodytes</li>\n",
       "\t<li>Ptroglodytes</li>\n",
       "\t<li>Ptroglodytes</li>\n",
       "\t<li>Ptroglodytes</li>\n",
       "\t<li>Ptroglodytes</li>\n",
       "\t<li>Ptroglodytes</li>\n",
       "\t<li>Rnorvegicus</li>\n",
       "\t<li>Rnorvegicus</li>\n",
       "\t<li>Rnorvegicus</li>\n",
       "\t<li>Rnorvegicus</li>\n",
       "\t<li>Rnorvegicus</li>\n",
       "\t<li>Scerevisiae</li>\n",
       "\t<li>Scerevisiae</li>\n",
       "\t<li>Scerevisiae</li>\n",
       "\t<li>Sscrofa</li>\n",
       "\t<li>Sscrofa</li>\n",
       "\t<li>Sscrofa</li>\n",
       "\t<li>Tgondii</li>\n",
       "\t<li>Tguttata</li>\n",
       "\t<li>Tguttata</li>\n",
       "\t<li>Tguttata</li>\n",
       "\t<li>Vvinifera</li>\n",
       "\t<li>Vvinifera</li>\n",
       "\t<li>Vvinifera</li>\n",
       "</ol>\n",
       "\n",
       "<details>\n",
       "\t<summary style=display:list-item;cursor:pointer>\n",
       "\t\t<strong>Levels</strong>:\n",
       "\t</summary>\n",
       "\t<ol class=list-inline>\n",
       "\t\t<li>'Alyrata'</li>\n",
       "\t\t<li>'Amellifera'</li>\n",
       "\t\t<li>'Aofficinalis'</li>\n",
       "\t\t<li>'Athaliana'</li>\n",
       "\t\t<li>'Btaurus'</li>\n",
       "\t\t<li>'Carietinum'</li>\n",
       "\t\t<li>'Celegans'</li>\n",
       "\t\t<li>'Cfamiliaris'</li>\n",
       "\t\t<li>'Dmelanogaster'</li>\n",
       "\t\t<li>'Drerio'</li>\n",
       "\t\t<li>'Ecoli'</li>\n",
       "\t\t<li>'Gaculeatus'</li>\n",
       "\t\t<li>'Ggallus'</li>\n",
       "\t\t<li>'Hsapiens'</li>\n",
       "\t\t<li>'Mfascicularis'</li>\n",
       "\t\t<li>'Mfuro'</li>\n",
       "\t\t<li>'Mmulatta'</li>\n",
       "\t\t<li>'Mmusculus'</li>\n",
       "\t\t<li>'Osativa'</li>\n",
       "\t\t<li>'Ptroglodytes'</li>\n",
       "\t\t<li>'Rnorvegicus'</li>\n",
       "\t\t<li>'Scerevisiae'</li>\n",
       "\t\t<li>'Sscrofa'</li>\n",
       "\t\t<li>'Tgondii'</li>\n",
       "\t\t<li>'Tguttata'</li>\n",
       "\t\t<li>'Vvinifera'</li>\n",
       "\t</ol>\n",
       "</details>"
      ],
      "text/latex": [
       "\\begin{enumerate*}\n",
       "\\item Alyrata\n",
       "\\item Amellifera\n",
       "\\item Amellifera\n",
       "\\item Amellifera\n",
       "\\item Aofficinalis\n",
       "\\item Athaliana\n",
       "\\item Athaliana\n",
       "\\item Btaurus\n",
       "\\item Btaurus\n",
       "\\item Btaurus\n",
       "\\item Btaurus\n",
       "\\item Btaurus\n",
       "\\item Btaurus\n",
       "\\item Btaurus\n",
       "\\item Carietinum\n",
       "\\item Celegans\n",
       "\\item Celegans\n",
       "\\item Celegans\n",
       "\\item Celegans\n",
       "\\item Cfamiliaris\n",
       "\\item Cfamiliaris\n",
       "\\item Cfamiliaris\n",
       "\\item Cfamiliaris\n",
       "\\item Dmelanogaster\n",
       "\\item Dmelanogaster\n",
       "\\item Dmelanogaster\n",
       "\\item Dmelanogaster\n",
       "\\item Dmelanogaster\n",
       "\\item Drerio\n",
       "\\item Drerio\n",
       "\\item Drerio\n",
       "\\item Drerio\n",
       "\\item Drerio\n",
       "\\item Drerio\n",
       "\\item Drerio\n",
       "\\item Ecoli\n",
       "\\item Gaculeatus\n",
       "\\item Gaculeatus\n",
       "\\item Ggallus\n",
       "\\item Ggallus\n",
       "\\item Ggallus\n",
       "\\item Ggallus\n",
       "\\item Ggallus\n",
       "\\item Hsapiens\n",
       "\\item Hsapiens\n",
       "\\item Hsapiens\n",
       "\\item Hsapiens\n",
       "\\item Hsapiens\n",
       "\\item Hsapiens\n",
       "\\item Hsapiens\n",
       "\\item Hsapiens\n",
       "\\item Hsapiens\n",
       "\\item Hsapiens\n",
       "\\item Mfascicularis\n",
       "\\item Mfuro\n",
       "\\item Mmulatta\n",
       "\\item Mmulatta\n",
       "\\item Mmulatta\n",
       "\\item Mmulatta\n",
       "\\item Mmulatta\n",
       "\\item Mmusculus\n",
       "\\item Mmusculus\n",
       "\\item Mmusculus\n",
       "\\item Mmusculus\n",
       "\\item Mmusculus\n",
       "\\item Mmusculus\n",
       "\\item Osativa\n",
       "\\item Ptroglodytes\n",
       "\\item Ptroglodytes\n",
       "\\item Ptroglodytes\n",
       "\\item Ptroglodytes\n",
       "\\item Ptroglodytes\n",
       "\\item Ptroglodytes\n",
       "\\item Rnorvegicus\n",
       "\\item Rnorvegicus\n",
       "\\item Rnorvegicus\n",
       "\\item Rnorvegicus\n",
       "\\item Rnorvegicus\n",
       "\\item Scerevisiae\n",
       "\\item Scerevisiae\n",
       "\\item Scerevisiae\n",
       "\\item Sscrofa\n",
       "\\item Sscrofa\n",
       "\\item Sscrofa\n",
       "\\item Tgondii\n",
       "\\item Tguttata\n",
       "\\item Tguttata\n",
       "\\item Tguttata\n",
       "\\item Vvinifera\n",
       "\\item Vvinifera\n",
       "\\item Vvinifera\n",
       "\\end{enumerate*}\n",
       "\n",
       "\\emph{Levels}: \\begin{enumerate*}\n",
       "\\item 'Alyrata'\n",
       "\\item 'Amellifera'\n",
       "\\item 'Aofficinalis'\n",
       "\\item 'Athaliana'\n",
       "\\item 'Btaurus'\n",
       "\\item 'Carietinum'\n",
       "\\item 'Celegans'\n",
       "\\item 'Cfamiliaris'\n",
       "\\item 'Dmelanogaster'\n",
       "\\item 'Drerio'\n",
       "\\item 'Ecoli'\n",
       "\\item 'Gaculeatus'\n",
       "\\item 'Ggallus'\n",
       "\\item 'Hsapiens'\n",
       "\\item 'Mfascicularis'\n",
       "\\item 'Mfuro'\n",
       "\\item 'Mmulatta'\n",
       "\\item 'Mmusculus'\n",
       "\\item 'Osativa'\n",
       "\\item 'Ptroglodytes'\n",
       "\\item 'Rnorvegicus'\n",
       "\\item 'Scerevisiae'\n",
       "\\item 'Sscrofa'\n",
       "\\item 'Tgondii'\n",
       "\\item 'Tguttata'\n",
       "\\item 'Vvinifera'\n",
       "\\end{enumerate*}\n"
      ],
      "text/markdown": [
       "1. Alyrata\n",
       "2. Amellifera\n",
       "3. Amellifera\n",
       "4. Amellifera\n",
       "5. Aofficinalis\n",
       "6. Athaliana\n",
       "7. Athaliana\n",
       "8. Btaurus\n",
       "9. Btaurus\n",
       "10. Btaurus\n",
       "11. Btaurus\n",
       "12. Btaurus\n",
       "13. Btaurus\n",
       "14. Btaurus\n",
       "15. Carietinum\n",
       "16. Celegans\n",
       "17. Celegans\n",
       "18. Celegans\n",
       "19. Celegans\n",
       "20. Cfamiliaris\n",
       "21. Cfamiliaris\n",
       "22. Cfamiliaris\n",
       "23. Cfamiliaris\n",
       "24. Dmelanogaster\n",
       "25. Dmelanogaster\n",
       "26. Dmelanogaster\n",
       "27. Dmelanogaster\n",
       "28. Dmelanogaster\n",
       "29. Drerio\n",
       "30. Drerio\n",
       "31. Drerio\n",
       "32. Drerio\n",
       "33. Drerio\n",
       "34. Drerio\n",
       "35. Drerio\n",
       "36. Ecoli\n",
       "37. Gaculeatus\n",
       "38. Gaculeatus\n",
       "39. Ggallus\n",
       "40. Ggallus\n",
       "41. Ggallus\n",
       "42. Ggallus\n",
       "43. Ggallus\n",
       "44. Hsapiens\n",
       "45. Hsapiens\n",
       "46. Hsapiens\n",
       "47. Hsapiens\n",
       "48. Hsapiens\n",
       "49. Hsapiens\n",
       "50. Hsapiens\n",
       "51. Hsapiens\n",
       "52. Hsapiens\n",
       "53. Hsapiens\n",
       "54. Mfascicularis\n",
       "55. Mfuro\n",
       "56. Mmulatta\n",
       "57. Mmulatta\n",
       "58. Mmulatta\n",
       "59. Mmulatta\n",
       "60. Mmulatta\n",
       "61. Mmusculus\n",
       "62. Mmusculus\n",
       "63. Mmusculus\n",
       "64. Mmusculus\n",
       "65. Mmusculus\n",
       "66. Mmusculus\n",
       "67. Osativa\n",
       "68. Ptroglodytes\n",
       "69. Ptroglodytes\n",
       "70. Ptroglodytes\n",
       "71. Ptroglodytes\n",
       "72. Ptroglodytes\n",
       "73. Ptroglodytes\n",
       "74. Rnorvegicus\n",
       "75. Rnorvegicus\n",
       "76. Rnorvegicus\n",
       "77. Rnorvegicus\n",
       "78. Rnorvegicus\n",
       "79. Scerevisiae\n",
       "80. Scerevisiae\n",
       "81. Scerevisiae\n",
       "82. Sscrofa\n",
       "83. Sscrofa\n",
       "84. Sscrofa\n",
       "85. Tgondii\n",
       "86. Tguttata\n",
       "87. Tguttata\n",
       "88. Tguttata\n",
       "89. Vvinifera\n",
       "90. Vvinifera\n",
       "91. Vvinifera\n",
       "\n",
       "\n",
       "\n",
       "**Levels**: 1. 'Alyrata'\n",
       "2. 'Amellifera'\n",
       "3. 'Aofficinalis'\n",
       "4. 'Athaliana'\n",
       "5. 'Btaurus'\n",
       "6. 'Carietinum'\n",
       "7. 'Celegans'\n",
       "8. 'Cfamiliaris'\n",
       "9. 'Dmelanogaster'\n",
       "10. 'Drerio'\n",
       "11. 'Ecoli'\n",
       "12. 'Gaculeatus'\n",
       "13. 'Ggallus'\n",
       "14. 'Hsapiens'\n",
       "15. 'Mfascicularis'\n",
       "16. 'Mfuro'\n",
       "17. 'Mmulatta'\n",
       "18. 'Mmusculus'\n",
       "19. 'Osativa'\n",
       "20. 'Ptroglodytes'\n",
       "21. 'Rnorvegicus'\n",
       "22. 'Scerevisiae'\n",
       "23. 'Sscrofa'\n",
       "24. 'Tgondii'\n",
       "25. 'Tguttata'\n",
       "26. 'Vvinifera'\n",
       "\n",
       "\n"
      ],
      "text/plain": [
       " [1] Alyrata       Amellifera    Amellifera    Amellifera    Aofficinalis \n",
       " [6] Athaliana     Athaliana     Btaurus       Btaurus       Btaurus      \n",
       "[11] Btaurus       Btaurus       Btaurus       Btaurus       Carietinum   \n",
       "[16] Celegans      Celegans      Celegans      Celegans      Cfamiliaris  \n",
       "[21] Cfamiliaris   Cfamiliaris   Cfamiliaris   Dmelanogaster Dmelanogaster\n",
       "[26] Dmelanogaster Dmelanogaster Dmelanogaster Drerio        Drerio       \n",
       "[31] Drerio        Drerio        Drerio        Drerio        Drerio       \n",
       "[36] Ecoli         Gaculeatus    Gaculeatus    Ggallus       Ggallus      \n",
       "[41] Ggallus       Ggallus       Ggallus       Hsapiens      Hsapiens     \n",
       "[46] Hsapiens      Hsapiens      Hsapiens      Hsapiens      Hsapiens     \n",
       "[51] Hsapiens      Hsapiens      Hsapiens      Mfascicularis Mfuro        \n",
       "[56] Mmulatta      Mmulatta      Mmulatta      Mmulatta      Mmulatta     \n",
       "[61] Mmusculus     Mmusculus     Mmusculus     Mmusculus     Mmusculus    \n",
       "[66] Mmusculus     Osativa       Ptroglodytes  Ptroglodytes  Ptroglodytes \n",
       "[71] Ptroglodytes  Ptroglodytes  Ptroglodytes  Rnorvegicus   Rnorvegicus  \n",
       "[76] Rnorvegicus   Rnorvegicus   Rnorvegicus   Scerevisiae   Scerevisiae  \n",
       "[81] Scerevisiae   Sscrofa       Sscrofa       Sscrofa       Tgondii      \n",
       "[86] Tguttata      Tguttata      Tguttata      Vvinifera     Vvinifera    \n",
       "[91] Vvinifera    \n",
       "26 Levels: Alyrata Amellifera Aofficinalis Athaliana Btaurus ... Vvinifera"
      ]
     },
     "metadata": {},
     "output_type": "display_data"
    }
   ],
   "source": [
    "hoge$organism"
   ]
  },
  {
   "cell_type": "code",
   "execution_count": 15,
   "metadata": {},
   "outputs": [
    {
     "data": {
      "text/plain": [
       "\n",
       "      Alyrata    Amellifera  Aofficinalis     Athaliana       Btaurus \n",
       "            1             3             1             2             7 \n",
       "   Carietinum      Celegans   Cfamiliaris Dmelanogaster        Drerio \n",
       "            1             4             4             5             7 \n",
       "        Ecoli    Gaculeatus       Ggallus      Hsapiens Mfascicularis \n",
       "            1             2             5            10             1 \n",
       "        Mfuro      Mmulatta     Mmusculus       Osativa  Ptroglodytes \n",
       "            1             5             6             1             6 \n",
       "  Rnorvegicus   Scerevisiae       Sscrofa       Tgondii      Tguttata \n",
       "            5             3             3             1             3 \n",
       "    Vvinifera \n",
       "            3 "
      ]
     },
     "metadata": {},
     "output_type": "display_data"
    }
   ],
   "source": [
    "#生物種ごとの種類のテーブル\n",
    "table(hoge$organism)"
   ]
  },
  {
   "cell_type": "code",
   "execution_count": 16,
   "metadata": {},
   "outputs": [
    {
     "data": {
      "text/html": [],
      "text/latex": [],
      "text/markdown": [],
      "text/plain": [
       "character(0)"
      ]
     },
     "metadata": {},
     "output_type": "display_data"
    }
   ],
   "source": [
    "#インストール済みのパッケージを調べる\n",
    "installed.genomes()"
   ]
  },
  {
   "cell_type": "markdown",
   "metadata": {},
   "source": [
    "#### humanのリファレンスをダウンロード"
   ]
  },
  {
   "cell_type": "code",
   "execution_count": 17,
   "metadata": {},
   "outputs": [],
   "source": [
    "param <- \"BSgenome.Hsapiens.UCSC.hg38\""
   ]
  },
  {
   "cell_type": "code",
   "execution_count": 18,
   "metadata": {},
   "outputs": [
    {
     "name": "stderr",
     "output_type": "stream",
     "text": [
      "Updating HTML index of packages in '.Library'\n",
      "Making 'packages.html' ... done\n",
      "Bioconductor version 3.7 (BiocInstaller 1.30.0), ?biocLite for help\n",
      "A newer version of Bioconductor is available for this version of R,\n",
      "  ?BiocUpgrade for help\n"
     ]
    }
   ],
   "source": [
    "source(\"http://bioconductor.org/biocLite.R\")"
   ]
  },
  {
   "cell_type": "code",
   "execution_count": 19,
   "metadata": {},
   "outputs": [
    {
     "name": "stderr",
     "output_type": "stream",
     "text": [
      "BioC_mirror: https://bioconductor.org\n",
      "Using Bioconductor 3.7 (BiocInstaller 1.30.0), R 3.5.1 (2018-07-02).\n",
      "Installing package(s) ‘BSgenome.Hsapiens.UCSC.hg38’\n",
      "Updating HTML index of packages in '.Library'\n",
      "Making 'packages.html' ... done\n",
      "Old packages: 'blob', 'boot', 'callr', 'checkmate', 'class', 'cli', 'clipr',\n",
      "  'cluster', 'codetools', 'curl', 'dbplyr', 'devtools', 'digest', 'dplyr',\n",
      "  'evaluate', 'foreign', 'formatR', 'ggplot2', 'highr', 'Hmisc', 'hms',\n",
      "  'htmlTable', 'htmlwidgets', 'httpuv', 'httr', 'IRkernel', 'knitr', 'later',\n",
      "  'markdown', 'Matrix', 'mgcv', 'nlme', 'openssl', 'pillar', 'pkgbuild',\n",
      "  'pkgload', 'processx', 'purrr', 'rcmdcheck', 'Rcpp', 'RcppArmadillo',\n",
      "  'RCurl', 'remotes', 'rpart', 'RSQLite', 'rstudioapi', 'scales', 'shiny',\n",
      "  'stringi', 'stringr', 'survival', 'testthat', 'tibble', 'tidyr',\n",
      "  'tidyselect', 'usethis', 'vctrs', 'XML', 'xml2', 'xtable'\n"
     ]
    }
   ],
   "source": [
    "biocLite(param)"
   ]
  },
  {
   "cell_type": "code",
   "execution_count": 21,
   "metadata": {},
   "outputs": [
    {
     "data": {
      "text/html": [
       "'BSgenome.Hsapiens.UCSC.hg38'"
      ],
      "text/latex": [
       "'BSgenome.Hsapiens.UCSC.hg38'"
      ],
      "text/markdown": [
       "'BSgenome.Hsapiens.UCSC.hg38'"
      ],
      "text/plain": [
       "[1] \"BSgenome.Hsapiens.UCSC.hg38\""
      ]
     },
     "metadata": {},
     "output_type": "display_data"
    }
   ],
   "source": [
    "#インストール済みのパッケージを再度調べる\n",
    "installed.genomes()"
   ]
  },
  {
   "cell_type": "code",
   "execution_count": null,
   "metadata": {},
   "outputs": [],
   "source": []
  },
  {
   "cell_type": "markdown",
   "metadata": {},
   "source": [
    "#### トランスクリプトーム配列を取得"
   ]
  },
  {
   "cell_type": "code",
   "execution_count": 22,
   "metadata": {},
   "outputs": [],
   "source": [
    "out_f <- \"hoge7.txt\"  #出力ファイル名を指定してout_fに収納\n",
    "param_dataset <- \"hsapiens_gene_ensembl\"#データセット名を指定\n",
    "param_attribute <- \"refseq_mrna\"       #配列を取得したい属性名を指定\n",
    "param_seqtype <- \"cdna\"     #配列のタイプを指定"
   ]
  },
  {
   "cell_type": "code",
   "execution_count": 23,
   "metadata": {},
   "outputs": [],
   "source": [
    "library(biomaRt)"
   ]
  },
  {
   "cell_type": "code",
   "execution_count": 24,
   "metadata": {},
   "outputs": [],
   "source": [
    "#データベース名(\"ensembl\")とparam_datasetで指定したデータセット名を与えてmartに格納\n",
    "mart <- useMart(\"ensembl\",dataset=param_dataset)"
   ]
  },
  {
   "cell_type": "code",
   "execution_count": 25,
   "metadata": {},
   "outputs": [],
   "source": [
    "#指定したIDリスト取得結果をhogeに格納\n",
    "hoge <- getBM(attributes=param_attribute, filters=\"\", values=\"\", mart=mart)"
   ]
  },
  {
   "cell_type": "code",
   "execution_count": 26,
   "metadata": {},
   "outputs": [
    {
     "name": "stderr",
     "output_type": "stream",
     "text": []
    }
   ],
   "source": [
    "#指定したパラメータで配列取得した結果をoutに格納\n",
    "out <- getSequence(id=hoge, type=param_attribute,\n",
    "                seqType=param_seqtype, mart=mart)"
   ]
  },
  {
   "cell_type": "code",
   "execution_count": 27,
   "metadata": {},
   "outputs": [],
   "source": [
    "#outの中身を指定したファイル名で保存\n",
    "exportFASTA(out, file=out_f)"
   ]
  },
  {
   "cell_type": "code",
   "execution_count": null,
   "metadata": {},
   "outputs": [],
   "source": []
  },
  {
   "cell_type": "markdown",
   "metadata": {},
   "source": [
    "行列は dim 属性という次元の属性を持っており，(行数 ，列数) という長さ 2 の整数ベクトルの形をしている"
   ]
  },
  {
   "cell_type": "code",
   "execution_count": 28,
   "metadata": {},
   "outputs": [
    {
     "data": {
      "text/html": [
       "<ol class=list-inline>\n",
       "\t<li>41338</li>\n",
       "\t<li>2</li>\n",
       "</ol>\n"
      ],
      "text/latex": [
       "\\begin{enumerate*}\n",
       "\\item 41338\n",
       "\\item 2\n",
       "\\end{enumerate*}\n"
      ],
      "text/markdown": [
       "1. 41338\n",
       "2. 2\n",
       "\n",
       "\n"
      ],
      "text/plain": [
       "[1] 41338     2"
      ]
     },
     "metadata": {},
     "output_type": "display_data"
    }
   ],
   "source": [
    "#配列数を表示\n",
    "dim(out)"
   ]
  },
  {
   "cell_type": "code",
   "execution_count": null,
   "metadata": {},
   "outputs": [],
   "source": []
  },
  {
   "cell_type": "markdown",
   "metadata": {},
   "source": [
    "ヒト以外の生物種の情報を取得可能か調べる"
   ]
  },
  {
   "cell_type": "code",
   "execution_count": 29,
   "metadata": {},
   "outputs": [],
   "source": [
    "hoge <- listDatasets(useMart(\"ensembl\"))"
   ]
  },
  {
   "cell_type": "code",
   "execution_count": 30,
   "metadata": {},
   "outputs": [
    {
     "data": {
      "text/html": [
       "<ol class=list-inline>\n",
       "\t<li>190</li>\n",
       "\t<li>3</li>\n",
       "</ol>\n"
      ],
      "text/latex": [
       "\\begin{enumerate*}\n",
       "\\item 190\n",
       "\\item 3\n",
       "\\end{enumerate*}\n"
      ],
      "text/markdown": [
       "1. 190\n",
       "2. 3\n",
       "\n",
       "\n"
      ],
      "text/plain": [
       "[1] 190   3"
      ]
     },
     "metadata": {},
     "output_type": "display_data"
    }
   ],
   "source": [
    "dim(hoge)"
   ]
  },
  {
   "cell_type": "code",
   "execution_count": 31,
   "metadata": {},
   "outputs": [
    {
     "data": {
      "text/html": [
       "<table>\n",
       "<caption>A data.frame: 6 × 3</caption>\n",
       "<thead>\n",
       "\t<tr><th scope=col>dataset</th><th scope=col>description</th><th scope=col>version</th></tr>\n",
       "\t<tr><th scope=col>&lt;I&lt;chr&gt;&gt;</th><th scope=col>&lt;I&lt;chr&gt;&gt;</th><th scope=col>&lt;I&lt;chr&gt;&gt;</th></tr>\n",
       "</thead>\n",
       "<tbody>\n",
       "\t<tr><td>abrachyrhynchus_gene_ensembl</td><td>Pink-footed goose genes (ASM259213v1)</td><td>ASM259213v1</td></tr>\n",
       "\t<tr><td>acalliptera_gene_ensembl    </td><td>Eastern happy genes (fAstCal1.2)     </td><td>fAstCal1.2 </td></tr>\n",
       "\t<tr><td>acarolinensis_gene_ensembl  </td><td>Anole lizard genes (AnoCar2.0)       </td><td>AnoCar2.0  </td></tr>\n",
       "\t<tr><td>acitrinellus_gene_ensembl   </td><td>Midas cichlid genes (Midas_v5)       </td><td>Midas_v5   </td></tr>\n",
       "\t<tr><td>ahaastii_gene_ensembl       </td><td>Great spotted kiwi genes (aptHaa1)   </td><td>aptHaa1    </td></tr>\n",
       "\t<tr><td>amelanoleuca_gene_ensembl   </td><td>Panda genes (ailMel1)                </td><td>ailMel1    </td></tr>\n",
       "</tbody>\n",
       "</table>\n"
      ],
      "text/latex": [
       "A data.frame: 6 × 3\n",
       "\\begin{tabular}{r|lll}\n",
       " dataset & description & version\\\\\n",
       " <I<chr>> & <I<chr>> & <I<chr>>\\\\\n",
       "\\hline\n",
       "\t abrachyrhynchus\\_gene\\_ensembl & Pink-footed goose genes (ASM259213v1) & ASM259213v1\\\\\n",
       "\t acalliptera\\_gene\\_ensembl     & Eastern happy genes (fAstCal1.2)      & fAstCal1.2 \\\\\n",
       "\t acarolinensis\\_gene\\_ensembl   & Anole lizard genes (AnoCar2.0)        & AnoCar2.0  \\\\\n",
       "\t acitrinellus\\_gene\\_ensembl    & Midas cichlid genes (Midas\\_v5)        & Midas\\_v5   \\\\\n",
       "\t ahaastii\\_gene\\_ensembl        & Great spotted kiwi genes (aptHaa1)    & aptHaa1    \\\\\n",
       "\t amelanoleuca\\_gene\\_ensembl    & Panda genes (ailMel1)                 & ailMel1    \\\\\n",
       "\\end{tabular}\n"
      ],
      "text/markdown": [
       "\n",
       "A data.frame: 6 × 3\n",
       "\n",
       "| dataset &lt;I&lt;chr&gt;&gt; | description &lt;I&lt;chr&gt;&gt; | version &lt;I&lt;chr&gt;&gt; |\n",
       "|---|---|---|\n",
       "| abrachyrhynchus_gene_ensembl | Pink-footed goose genes (ASM259213v1) | ASM259213v1 |\n",
       "| acalliptera_gene_ensembl     | Eastern happy genes (fAstCal1.2)      | fAstCal1.2  |\n",
       "| acarolinensis_gene_ensembl   | Anole lizard genes (AnoCar2.0)        | AnoCar2.0   |\n",
       "| acitrinellus_gene_ensembl    | Midas cichlid genes (Midas_v5)        | Midas_v5    |\n",
       "| ahaastii_gene_ensembl        | Great spotted kiwi genes (aptHaa1)    | aptHaa1     |\n",
       "| amelanoleuca_gene_ensembl    | Panda genes (ailMel1)                 | ailMel1     |\n",
       "\n"
      ],
      "text/plain": [
       "  dataset                      description                          \n",
       "1 abrachyrhynchus_gene_ensembl Pink-footed goose genes (ASM259213v1)\n",
       "2 acalliptera_gene_ensembl     Eastern happy genes (fAstCal1.2)     \n",
       "3 acarolinensis_gene_ensembl   Anole lizard genes (AnoCar2.0)       \n",
       "4 acitrinellus_gene_ensembl    Midas cichlid genes (Midas_v5)       \n",
       "5 ahaastii_gene_ensembl        Great spotted kiwi genes (aptHaa1)   \n",
       "6 amelanoleuca_gene_ensembl    Panda genes (ailMel1)                \n",
       "  version    \n",
       "1 ASM259213v1\n",
       "2 fAstCal1.2 \n",
       "3 AnoCar2.0  \n",
       "4 Midas_v5   \n",
       "5 aptHaa1    \n",
       "6 ailMel1    "
      ]
     },
     "metadata": {},
     "output_type": "display_data"
    }
   ],
   "source": [
    "head(hoge)"
   ]
  },
  {
   "cell_type": "code",
   "execution_count": null,
   "metadata": {},
   "outputs": [],
   "source": []
  },
  {
   "cell_type": "markdown",
   "metadata": {},
   "source": [
    "アノテーション情報を入手  \n",
    "http://www.iu.a.u-tokyo.ac.jp/~kadota/r_seq.html#intro_ngs_annotation_biomart"
   ]
  },
  {
   "cell_type": "code",
   "execution_count": 32,
   "metadata": {},
   "outputs": [],
   "source": [
    "#出力ファイル名を指定してout_fに格納\n",
    "out_f <- \"hoge9.txt\"\n",
    "#データセット名を指定\n",
    "param_dataset <- \"hsapiens_gene_ensembl\"\n",
    "#取得したい属性名を指定\n",
    "param_attribute <- c(\"refseq_mrna\", \"hgnc_symbol\", \"go_id\") \n",
    "#フィルタリング条件を指定\n",
    "param_filter <- \"with_ox_refseq_mrna\""
   ]
  },
  {
   "cell_type": "code",
   "execution_count": 33,
   "metadata": {},
   "outputs": [],
   "source": [
    "#前処理（取得可能なアノテーション情報をリストアップ）\n",
    "\n",
    "#データベース名(\"ensembl\")とparam_datasetで指定したデータセット名を与えてmartに格納\n",
    "mart <- useMart(\"ensembl\",dataset=param_dataset)"
   ]
  },
  {
   "cell_type": "code",
   "execution_count": 44,
   "metadata": {},
   "outputs": [
    {
     "ename": "ERROR",
     "evalue": "Error in getBM(attributes = param_attribute, filters = param_filter, values = list(TRUE), : Invalid filters(s): with_ox_refseq_mrna \nPlease use the function 'listFilters' to get valid filter names\n",
     "output_type": "error",
     "traceback": [
      "Error in getBM(attributes = param_attribute, filters = param_filter, values = list(TRUE), : Invalid filters(s): with_ox_refseq_mrna \nPlease use the function 'listFilters' to get valid filter names\nTraceback:\n",
      "1. getBM(attributes = param_attribute, filters = param_filter, values = list(TRUE), \n .     mart = mart)",
      "2. stop(paste(\"Invalid filters(s):\", paste(filters[invalid], collapse = \", \"), \n .     \"\\nPlease use the function 'listFilters' to get valid filter names\"))"
     ]
    }
   ],
   "source": [
    "#アノテーション情報取得結果をhogeに格納\n",
    "out <- getBM(attributes=param_attribute, filters=param_filter, values=list(TRUE), mart=mart)"
   ]
  },
  {
   "cell_type": "code",
   "execution_count": null,
   "metadata": {},
   "outputs": [],
   "source": []
  },
  {
   "cell_type": "code",
   "execution_count": 39,
   "metadata": {},
   "outputs": [
    {
     "data": {
      "text/html": [
       "<table>\n",
       "<caption>A data.frame: 434 × 2</caption>\n",
       "<thead>\n",
       "\t<tr><th scope=col>name</th><th scope=col>description</th></tr>\n",
       "\t<tr><th scope=col>&lt;chr&gt;</th><th scope=col>&lt;chr&gt;</th></tr>\n",
       "</thead>\n",
       "<tbody>\n",
       "\t<tr><td>chromosome_name                    </td><td>Chromosome/scaffold name                       </td></tr>\n",
       "\t<tr><td>start                              </td><td>Start                                          </td></tr>\n",
       "\t<tr><td>end                                </td><td>End                                            </td></tr>\n",
       "\t<tr><td>band_start                         </td><td>Band Start                                     </td></tr>\n",
       "\t<tr><td>band_end                           </td><td>Band End                                       </td></tr>\n",
       "\t<tr><td>marker_start                       </td><td>Marker Start                                   </td></tr>\n",
       "\t<tr><td>marker_end                         </td><td>Marker End                                     </td></tr>\n",
       "\t<tr><td>encode_region                      </td><td>Encode region                                  </td></tr>\n",
       "\t<tr><td>strand                             </td><td>Strand                                         </td></tr>\n",
       "\t<tr><td>chromosomal_region                 </td><td>e.g. 1:100:10000:-1, 1:100000:200000:1         </td></tr>\n",
       "\t<tr><td>with_ccds                          </td><td>With CCDS ID(s)                                </td></tr>\n",
       "\t<tr><td>with_chembl                        </td><td>With ChEMBL ID(s)                              </td></tr>\n",
       "\t<tr><td>with_clone_based_ensembl_gene      </td><td>With Clone-based (Ensembl) gene ID(s)          </td></tr>\n",
       "\t<tr><td>with_clone_based_ensembl_transcript</td><td>With Clone-based (Ensembl) transcript ID(s)    </td></tr>\n",
       "\t<tr><td>with_dbass3                        </td><td>With DataBase of Aberrant 3' Splice Sites ID(s)</td></tr>\n",
       "\t<tr><td>with_dbass5                        </td><td>With DataBase of Aberrant 5' Splice Sites ID(s)</td></tr>\n",
       "\t<tr><td>with_ens_hs_transcript             </td><td>With Ensembl Human Transcript ID(s)            </td></tr>\n",
       "\t<tr><td>with_ens_hs_translation            </td><td>With Ensembl Human Translation ID(s)           </td></tr>\n",
       "\t<tr><td>with_entrezgene_trans_name         </td><td>With EntrezGene transcript name ID(s)          </td></tr>\n",
       "\t<tr><td>with_embl                          </td><td>With European Nucleotide Archive ID(s)         </td></tr>\n",
       "\t<tr><td>with_arrayexpress                  </td><td>With Expression Atlas ID(s)                    </td></tr>\n",
       "\t<tr><td>with_genedb                        </td><td>With GeneDB ID(s)                              </td></tr>\n",
       "\t<tr><td>with_go                            </td><td>With GO ID(s)                                  </td></tr>\n",
       "\t<tr><td>with_goslim_goa                    </td><td>With GOSlim GOA ID(s)                          </td></tr>\n",
       "\t<tr><td>with_hgnc                          </td><td>With HGNC Symbol ID(s)                         </td></tr>\n",
       "\t<tr><td>with_hgnc_trans_name               </td><td>With HGNC transcript name ID(s)                </td></tr>\n",
       "\t<tr><td>with_hpa                           </td><td>With Human Protein Atlas ID(s)                 </td></tr>\n",
       "\t<tr><td>with_protein_id                    </td><td>With INSDC protein ID ID(s)                    </td></tr>\n",
       "\t<tr><td>with_kegg_enzyme                   </td><td>With KEGG Pathway and Enzyme ID(s)             </td></tr>\n",
       "\t<tr><td>with_ens_lrg_gene                  </td><td>With LRG display in Ensembl gene ID(s)         </td></tr>\n",
       "\t<tr><td>⋮</td><td>⋮</td></tr>\n",
       "\t<tr><td>with_scanprosite          </td><td>With PROSITE patterns ID(s)                      </td></tr>\n",
       "\t<tr><td>with_pfscan               </td><td>With PROSITE profiles ID(s)                      </td></tr>\n",
       "\t<tr><td>with_seg                  </td><td>With Low complexity (Seg)                        </td></tr>\n",
       "\t<tr><td>with_sfld                 </td><td>With SFLD ID(s)                                  </td></tr>\n",
       "\t<tr><td>with_sifts_import         </td><td>With PDB-ENSP mappings                           </td></tr>\n",
       "\t<tr><td>with_signalp              </td><td>With Cleavage site (Signalp)                     </td></tr>\n",
       "\t<tr><td>with_smart                </td><td>With SMART ID(s)                                 </td></tr>\n",
       "\t<tr><td>with_superfamily          </td><td>With Superfamily ID(s)                           </td></tr>\n",
       "\t<tr><td>with_tigrfam              </td><td>With TIGRFAM ID(s)                               </td></tr>\n",
       "\t<tr><td>with_tmhmm                </td><td>With Transmembrane helices                       </td></tr>\n",
       "\t<tr><td>interpro                  </td><td>Interpro ID(s) [e.g. IPR000001]                  </td></tr>\n",
       "\t<tr><td>family                    </td><td>Ensembl Protein Family ID(s) [e.g. PTHR10000_SF7]</td></tr>\n",
       "\t<tr><td>cdd                       </td><td>CDD ID(s) [e.g. cd00009]                         </td></tr>\n",
       "\t<tr><td>gene3d                    </td><td>Gene3D ID(s) [e.g. 1.10.10.10]                   </td></tr>\n",
       "\t<tr><td>hamap                     </td><td>HAMAP ID(s) [e.g. MF_00001]                      </td></tr>\n",
       "\t<tr><td>hmmpanther                </td><td>PANTHER ID(s) [e.g. PTHR10003]                   </td></tr>\n",
       "\t<tr><td>pfam                      </td><td>Pfam ID(s) [e.g. PF00001]                        </td></tr>\n",
       "\t<tr><td>pirsf                     </td><td>PIRSF ID(s) [e.g. PIRSF000019]                   </td></tr>\n",
       "\t<tr><td>prints                    </td><td>Prints ID(s) [e.g. PR00001]                      </td></tr>\n",
       "\t<tr><td>blastprodom               </td><td>ProDom ID(s) [e.g. PD000328]                     </td></tr>\n",
       "\t<tr><td>scanprosite               </td><td>PROSITE patterns ID(s) [e.g. PS00010]            </td></tr>\n",
       "\t<tr><td>pfscan                    </td><td>PROSITE profiles ID(s) [e.g. PS01031]            </td></tr>\n",
       "\t<tr><td>sfld                      </td><td>SFLD ID(s) [e.g. SFLDF00002]                     </td></tr>\n",
       "\t<tr><td>smart                     </td><td>SMART ID(s) [e.g. SM00002]                       </td></tr>\n",
       "\t<tr><td>superfamily               </td><td>Superfamily ID(s) [e.g. SSF100879]               </td></tr>\n",
       "\t<tr><td>tigrfam                   </td><td>TIGRFAM ID(s) [e.g. TIGR00002]                   </td></tr>\n",
       "\t<tr><td>germ_line_variation_source</td><td>limit to genes with germline variant data sources</td></tr>\n",
       "\t<tr><td>somatic_variation_source  </td><td>limit to genes with somatic variant sources      </td></tr>\n",
       "\t<tr><td>with_validated_snp        </td><td>Variant supporting evidence                      </td></tr>\n",
       "\t<tr><td>so_mini_parent_name       </td><td>Parent term name                                 </td></tr>\n",
       "</tbody>\n",
       "</table>\n"
      ],
      "text/latex": [
       "A data.frame: 434 × 2\n",
       "\\begin{tabular}{r|ll}\n",
       " name & description\\\\\n",
       " <chr> & <chr>\\\\\n",
       "\\hline\n",
       "\t chromosome\\_name                     & Chromosome/scaffold name                       \\\\\n",
       "\t start                               & Start                                          \\\\\n",
       "\t end                                 & End                                            \\\\\n",
       "\t band\\_start                          & Band Start                                     \\\\\n",
       "\t band\\_end                            & Band End                                       \\\\\n",
       "\t marker\\_start                        & Marker Start                                   \\\\\n",
       "\t marker\\_end                          & Marker End                                     \\\\\n",
       "\t encode\\_region                       & Encode region                                  \\\\\n",
       "\t strand                              & Strand                                         \\\\\n",
       "\t chromosomal\\_region                  & e.g. 1:100:10000:-1, 1:100000:200000:1         \\\\\n",
       "\t with\\_ccds                           & With CCDS ID(s)                                \\\\\n",
       "\t with\\_chembl                         & With ChEMBL ID(s)                              \\\\\n",
       "\t with\\_clone\\_based\\_ensembl\\_gene       & With Clone-based (Ensembl) gene ID(s)          \\\\\n",
       "\t with\\_clone\\_based\\_ensembl\\_transcript & With Clone-based (Ensembl) transcript ID(s)    \\\\\n",
       "\t with\\_dbass3                         & With DataBase of Aberrant 3' Splice Sites ID(s)\\\\\n",
       "\t with\\_dbass5                         & With DataBase of Aberrant 5' Splice Sites ID(s)\\\\\n",
       "\t with\\_ens\\_hs\\_transcript              & With Ensembl Human Transcript ID(s)            \\\\\n",
       "\t with\\_ens\\_hs\\_translation             & With Ensembl Human Translation ID(s)           \\\\\n",
       "\t with\\_entrezgene\\_trans\\_name          & With EntrezGene transcript name ID(s)          \\\\\n",
       "\t with\\_embl                           & With European Nucleotide Archive ID(s)         \\\\\n",
       "\t with\\_arrayexpress                   & With Expression Atlas ID(s)                    \\\\\n",
       "\t with\\_genedb                         & With GeneDB ID(s)                              \\\\\n",
       "\t with\\_go                             & With GO ID(s)                                  \\\\\n",
       "\t with\\_goslim\\_goa                     & With GOSlim GOA ID(s)                          \\\\\n",
       "\t with\\_hgnc                           & With HGNC Symbol ID(s)                         \\\\\n",
       "\t with\\_hgnc\\_trans\\_name                & With HGNC transcript name ID(s)                \\\\\n",
       "\t with\\_hpa                            & With Human Protein Atlas ID(s)                 \\\\\n",
       "\t with\\_protein\\_id                     & With INSDC protein ID ID(s)                    \\\\\n",
       "\t with\\_kegg\\_enzyme                    & With KEGG Pathway and Enzyme ID(s)             \\\\\n",
       "\t with\\_ens\\_lrg\\_gene                   & With LRG display in Ensembl gene ID(s)         \\\\\n",
       "\t ⋮ & ⋮\\\\\n",
       "\t with\\_scanprosite           & With PROSITE patterns ID(s)                      \\\\\n",
       "\t with\\_pfscan                & With PROSITE profiles ID(s)                      \\\\\n",
       "\t with\\_seg                   & With Low complexity (Seg)                        \\\\\n",
       "\t with\\_sfld                  & With SFLD ID(s)                                  \\\\\n",
       "\t with\\_sifts\\_import          & With PDB-ENSP mappings                           \\\\\n",
       "\t with\\_signalp               & With Cleavage site (Signalp)                     \\\\\n",
       "\t with\\_smart                 & With SMART ID(s)                                 \\\\\n",
       "\t with\\_superfamily           & With Superfamily ID(s)                           \\\\\n",
       "\t with\\_tigrfam               & With TIGRFAM ID(s)                               \\\\\n",
       "\t with\\_tmhmm                 & With Transmembrane helices                       \\\\\n",
       "\t interpro                   & Interpro ID(s) {[}e.g. IPR000001{]}                  \\\\\n",
       "\t family                     & Ensembl Protein Family ID(s) {[}e.g. PTHR10000\\_SF7{]}\\\\\n",
       "\t cdd                        & CDD ID(s) {[}e.g. cd00009{]}                         \\\\\n",
       "\t gene3d                     & Gene3D ID(s) {[}e.g. 1.10.10.10{]}                   \\\\\n",
       "\t hamap                      & HAMAP ID(s) {[}e.g. MF\\_00001{]}                      \\\\\n",
       "\t hmmpanther                 & PANTHER ID(s) {[}e.g. PTHR10003{]}                   \\\\\n",
       "\t pfam                       & Pfam ID(s) {[}e.g. PF00001{]}                        \\\\\n",
       "\t pirsf                      & PIRSF ID(s) {[}e.g. PIRSF000019{]}                   \\\\\n",
       "\t prints                     & Prints ID(s) {[}e.g. PR00001{]}                      \\\\\n",
       "\t blastprodom                & ProDom ID(s) {[}e.g. PD000328{]}                     \\\\\n",
       "\t scanprosite                & PROSITE patterns ID(s) {[}e.g. PS00010{]}            \\\\\n",
       "\t pfscan                     & PROSITE profiles ID(s) {[}e.g. PS01031{]}            \\\\\n",
       "\t sfld                       & SFLD ID(s) {[}e.g. SFLDF00002{]}                     \\\\\n",
       "\t smart                      & SMART ID(s) {[}e.g. SM00002{]}                       \\\\\n",
       "\t superfamily                & Superfamily ID(s) {[}e.g. SSF100879{]}               \\\\\n",
       "\t tigrfam                    & TIGRFAM ID(s) {[}e.g. TIGR00002{]}                   \\\\\n",
       "\t germ\\_line\\_variation\\_source & limit to genes with germline variant data sources\\\\\n",
       "\t somatic\\_variation\\_source   & limit to genes with somatic variant sources      \\\\\n",
       "\t with\\_validated\\_snp         & Variant supporting evidence                      \\\\\n",
       "\t so\\_mini\\_parent\\_name        & Parent term name                                 \\\\\n",
       "\\end{tabular}\n"
      ],
      "text/markdown": [
       "\n",
       "A data.frame: 434 × 2\n",
       "\n",
       "| name &lt;chr&gt; | description &lt;chr&gt; |\n",
       "|---|---|\n",
       "| chromosome_name                     | Chromosome/scaffold name                        |\n",
       "| start                               | Start                                           |\n",
       "| end                                 | End                                             |\n",
       "| band_start                          | Band Start                                      |\n",
       "| band_end                            | Band End                                        |\n",
       "| marker_start                        | Marker Start                                    |\n",
       "| marker_end                          | Marker End                                      |\n",
       "| encode_region                       | Encode region                                   |\n",
       "| strand                              | Strand                                          |\n",
       "| chromosomal_region                  | e.g. 1:100:10000:-1, 1:100000:200000:1          |\n",
       "| with_ccds                           | With CCDS ID(s)                                 |\n",
       "| with_chembl                         | With ChEMBL ID(s)                               |\n",
       "| with_clone_based_ensembl_gene       | With Clone-based (Ensembl) gene ID(s)           |\n",
       "| with_clone_based_ensembl_transcript | With Clone-based (Ensembl) transcript ID(s)     |\n",
       "| with_dbass3                         | With DataBase of Aberrant 3' Splice Sites ID(s) |\n",
       "| with_dbass5                         | With DataBase of Aberrant 5' Splice Sites ID(s) |\n",
       "| with_ens_hs_transcript              | With Ensembl Human Transcript ID(s)             |\n",
       "| with_ens_hs_translation             | With Ensembl Human Translation ID(s)            |\n",
       "| with_entrezgene_trans_name          | With EntrezGene transcript name ID(s)           |\n",
       "| with_embl                           | With European Nucleotide Archive ID(s)          |\n",
       "| with_arrayexpress                   | With Expression Atlas ID(s)                     |\n",
       "| with_genedb                         | With GeneDB ID(s)                               |\n",
       "| with_go                             | With GO ID(s)                                   |\n",
       "| with_goslim_goa                     | With GOSlim GOA ID(s)                           |\n",
       "| with_hgnc                           | With HGNC Symbol ID(s)                          |\n",
       "| with_hgnc_trans_name                | With HGNC transcript name ID(s)                 |\n",
       "| with_hpa                            | With Human Protein Atlas ID(s)                  |\n",
       "| with_protein_id                     | With INSDC protein ID ID(s)                     |\n",
       "| with_kegg_enzyme                    | With KEGG Pathway and Enzyme ID(s)              |\n",
       "| with_ens_lrg_gene                   | With LRG display in Ensembl gene ID(s)          |\n",
       "| ⋮ | ⋮ |\n",
       "| with_scanprosite           | With PROSITE patterns ID(s)                       |\n",
       "| with_pfscan                | With PROSITE profiles ID(s)                       |\n",
       "| with_seg                   | With Low complexity (Seg)                         |\n",
       "| with_sfld                  | With SFLD ID(s)                                   |\n",
       "| with_sifts_import          | With PDB-ENSP mappings                            |\n",
       "| with_signalp               | With Cleavage site (Signalp)                      |\n",
       "| with_smart                 | With SMART ID(s)                                  |\n",
       "| with_superfamily           | With Superfamily ID(s)                            |\n",
       "| with_tigrfam               | With TIGRFAM ID(s)                                |\n",
       "| with_tmhmm                 | With Transmembrane helices                        |\n",
       "| interpro                   | Interpro ID(s) [e.g. IPR000001]                   |\n",
       "| family                     | Ensembl Protein Family ID(s) [e.g. PTHR10000_SF7] |\n",
       "| cdd                        | CDD ID(s) [e.g. cd00009]                          |\n",
       "| gene3d                     | Gene3D ID(s) [e.g. 1.10.10.10]                    |\n",
       "| hamap                      | HAMAP ID(s) [e.g. MF_00001]                       |\n",
       "| hmmpanther                 | PANTHER ID(s) [e.g. PTHR10003]                    |\n",
       "| pfam                       | Pfam ID(s) [e.g. PF00001]                         |\n",
       "| pirsf                      | PIRSF ID(s) [e.g. PIRSF000019]                    |\n",
       "| prints                     | Prints ID(s) [e.g. PR00001]                       |\n",
       "| blastprodom                | ProDom ID(s) [e.g. PD000328]                      |\n",
       "| scanprosite                | PROSITE patterns ID(s) [e.g. PS00010]             |\n",
       "| pfscan                     | PROSITE profiles ID(s) [e.g. PS01031]             |\n",
       "| sfld                       | SFLD ID(s) [e.g. SFLDF00002]                      |\n",
       "| smart                      | SMART ID(s) [e.g. SM00002]                        |\n",
       "| superfamily                | Superfamily ID(s) [e.g. SSF100879]                |\n",
       "| tigrfam                    | TIGRFAM ID(s) [e.g. TIGR00002]                    |\n",
       "| germ_line_variation_source | limit to genes with germline variant data sources |\n",
       "| somatic_variation_source   | limit to genes with somatic variant sources       |\n",
       "| with_validated_snp         | Variant supporting evidence                       |\n",
       "| so_mini_parent_name        | Parent term name                                  |\n",
       "\n"
      ],
      "text/plain": [
       "    name                               \n",
       "1   chromosome_name                    \n",
       "2   start                              \n",
       "3   end                                \n",
       "4   band_start                         \n",
       "5   band_end                           \n",
       "6   marker_start                       \n",
       "7   marker_end                         \n",
       "8   encode_region                      \n",
       "9   strand                             \n",
       "10  chromosomal_region                 \n",
       "11  with_ccds                          \n",
       "12  with_chembl                        \n",
       "13  with_clone_based_ensembl_gene      \n",
       "14  with_clone_based_ensembl_transcript\n",
       "15  with_dbass3                        \n",
       "16  with_dbass5                        \n",
       "17  with_ens_hs_transcript             \n",
       "18  with_ens_hs_translation            \n",
       "19  with_entrezgene_trans_name         \n",
       "20  with_embl                          \n",
       "21  with_arrayexpress                  \n",
       "22  with_genedb                        \n",
       "23  with_go                            \n",
       "24  with_goslim_goa                    \n",
       "25  with_hgnc                          \n",
       "26  with_hgnc_trans_name               \n",
       "27  with_hpa                           \n",
       "28  with_protein_id                    \n",
       "29  with_kegg_enzyme                   \n",
       "30  with_ens_lrg_gene                  \n",
       "⋮   ⋮                                  \n",
       "405 with_scanprosite                   \n",
       "406 with_pfscan                        \n",
       "407 with_seg                           \n",
       "408 with_sfld                          \n",
       "409 with_sifts_import                  \n",
       "410 with_signalp                       \n",
       "411 with_smart                         \n",
       "412 with_superfamily                   \n",
       "413 with_tigrfam                       \n",
       "414 with_tmhmm                         \n",
       "415 interpro                           \n",
       "416 family                             \n",
       "417 cdd                                \n",
       "418 gene3d                             \n",
       "419 hamap                              \n",
       "420 hmmpanther                         \n",
       "421 pfam                               \n",
       "422 pirsf                              \n",
       "423 prints                             \n",
       "424 blastprodom                        \n",
       "425 scanprosite                        \n",
       "426 pfscan                             \n",
       "427 sfld                               \n",
       "428 smart                              \n",
       "429 superfamily                        \n",
       "430 tigrfam                            \n",
       "431 germ_line_variation_source         \n",
       "432 somatic_variation_source           \n",
       "433 with_validated_snp                 \n",
       "434 so_mini_parent_name                \n",
       "    description                                      \n",
       "1   Chromosome/scaffold name                         \n",
       "2   Start                                            \n",
       "3   End                                              \n",
       "4   Band Start                                       \n",
       "5   Band End                                         \n",
       "6   Marker Start                                     \n",
       "7   Marker End                                       \n",
       "8   Encode region                                    \n",
       "9   Strand                                           \n",
       "10  e.g. 1:100:10000:-1, 1:100000:200000:1           \n",
       "11  With CCDS ID(s)                                  \n",
       "12  With ChEMBL ID(s)                                \n",
       "13  With Clone-based (Ensembl) gene ID(s)            \n",
       "14  With Clone-based (Ensembl) transcript ID(s)      \n",
       "15  With DataBase of Aberrant 3' Splice Sites ID(s)  \n",
       "16  With DataBase of Aberrant 5' Splice Sites ID(s)  \n",
       "17  With Ensembl Human Transcript ID(s)              \n",
       "18  With Ensembl Human Translation ID(s)             \n",
       "19  With EntrezGene transcript name ID(s)            \n",
       "20  With European Nucleotide Archive ID(s)           \n",
       "21  With Expression Atlas ID(s)                      \n",
       "22  With GeneDB ID(s)                                \n",
       "23  With GO ID(s)                                    \n",
       "24  With GOSlim GOA ID(s)                            \n",
       "25  With HGNC Symbol ID(s)                           \n",
       "26  With HGNC transcript name ID(s)                  \n",
       "27  With Human Protein Atlas ID(s)                   \n",
       "28  With INSDC protein ID ID(s)                      \n",
       "29  With KEGG Pathway and Enzyme ID(s)               \n",
       "30  With LRG display in Ensembl gene ID(s)           \n",
       "⋮   ⋮                                                \n",
       "405 With PROSITE patterns ID(s)                      \n",
       "406 With PROSITE profiles ID(s)                      \n",
       "407 With Low complexity (Seg)                        \n",
       "408 With SFLD ID(s)                                  \n",
       "409 With PDB-ENSP mappings                           \n",
       "410 With Cleavage site (Signalp)                     \n",
       "411 With SMART ID(s)                                 \n",
       "412 With Superfamily ID(s)                           \n",
       "413 With TIGRFAM ID(s)                               \n",
       "414 With Transmembrane helices                       \n",
       "415 Interpro ID(s) [e.g. IPR000001]                  \n",
       "416 Ensembl Protein Family ID(s) [e.g. PTHR10000_SF7]\n",
       "417 CDD ID(s) [e.g. cd00009]                         \n",
       "418 Gene3D ID(s) [e.g. 1.10.10.10]                   \n",
       "419 HAMAP ID(s) [e.g. MF_00001]                      \n",
       "420 PANTHER ID(s) [e.g. PTHR10003]                   \n",
       "421 Pfam ID(s) [e.g. PF00001]                        \n",
       "422 PIRSF ID(s) [e.g. PIRSF000019]                   \n",
       "423 Prints ID(s) [e.g. PR00001]                      \n",
       "424 ProDom ID(s) [e.g. PD000328]                     \n",
       "425 PROSITE patterns ID(s) [e.g. PS00010]            \n",
       "426 PROSITE profiles ID(s) [e.g. PS01031]            \n",
       "427 SFLD ID(s) [e.g. SFLDF00002]                     \n",
       "428 SMART ID(s) [e.g. SM00002]                       \n",
       "429 Superfamily ID(s) [e.g. SSF100879]               \n",
       "430 TIGRFAM ID(s) [e.g. TIGR00002]                   \n",
       "431 limit to genes with germline variant data sources\n",
       "432 limit to genes with somatic variant sources      \n",
       "433 Variant supporting evidence                      \n",
       "434 Parent term name                                 "
      ]
     },
     "metadata": {},
     "output_type": "display_data"
    }
   ],
   "source": [
    "#エラーどうり確認してみる\n",
    "listFilters(mart)"
   ]
  },
  {
   "cell_type": "code",
   "execution_count": 38,
   "metadata": {},
   "outputs": [
    {
     "data": {
      "text/html": [
       "<ol class=list-inline>\n",
       "\t<li>'chromosome_name'</li>\n",
       "\t<li>'start'</li>\n",
       "\t<li>'end'</li>\n",
       "\t<li>'band_start'</li>\n",
       "\t<li>'band_end'</li>\n",
       "\t<li>'marker_start'</li>\n",
       "\t<li>'marker_end'</li>\n",
       "\t<li>'encode_region'</li>\n",
       "\t<li>'strand'</li>\n",
       "\t<li>'chromosomal_region'</li>\n",
       "\t<li>'with_ccds'</li>\n",
       "\t<li>'with_chembl'</li>\n",
       "\t<li>'with_clone_based_ensembl_gene'</li>\n",
       "\t<li>'with_clone_based_ensembl_transcript'</li>\n",
       "\t<li>'with_dbass3'</li>\n",
       "\t<li>'with_dbass5'</li>\n",
       "\t<li>'with_ens_hs_transcript'</li>\n",
       "\t<li>'with_ens_hs_translation'</li>\n",
       "\t<li>'with_entrezgene_trans_name'</li>\n",
       "\t<li>'with_embl'</li>\n",
       "\t<li>'with_arrayexpress'</li>\n",
       "\t<li>'with_genedb'</li>\n",
       "\t<li>'with_go'</li>\n",
       "\t<li>'with_goslim_goa'</li>\n",
       "\t<li>'with_hgnc'</li>\n",
       "\t<li>'with_hgnc_trans_name'</li>\n",
       "\t<li>'with_hpa'</li>\n",
       "\t<li>'with_protein_id'</li>\n",
       "\t<li>'with_kegg_enzyme'</li>\n",
       "\t<li>'with_ens_lrg_gene'</li>\n",
       "\t<li>'with_ens_lrg_transcript'</li>\n",
       "\t<li>'with_merops'</li>\n",
       "\t<li>'with_mim_gene'</li>\n",
       "\t<li>'with_mim_morbid'</li>\n",
       "\t<li>'with_mirbase'</li>\n",
       "\t<li>'with_mirbase_trans_name'</li>\n",
       "\t<li>'with_entrezgene'</li>\n",
       "\t<li>'with_pdb'</li>\n",
       "\t<li>'with_reactome'</li>\n",
       "\t<li>'with_reactome_gene'</li>\n",
       "\t<li>'with_reactome_transcript'</li>\n",
       "\t<li>'with_refseq_mrna'</li>\n",
       "\t<li>'with_refseq_mrna_predicted'</li>\n",
       "\t<li>'with_refseq_ncrna'</li>\n",
       "\t<li>'with_refseq_ncrna_predicted'</li>\n",
       "\t<li>'with_refseq_peptide'</li>\n",
       "\t<li>'with_refseq_peptide_predicted'</li>\n",
       "\t<li>'with_rfam'</li>\n",
       "\t<li>'with_rfam_trans_name'</li>\n",
       "\t<li>'with_rnacentral'</li>\n",
       "\t<li>'with_ucsc'</li>\n",
       "\t<li>'with_uniparc'</li>\n",
       "\t<li>'with_uniprot_gn'</li>\n",
       "\t<li>'with_uniprotswissprot'</li>\n",
       "\t<li>'with_uniprotsptrembl'</li>\n",
       "\t<li>'with_wikigene'</li>\n",
       "\t<li>'ensembl_gene_id'</li>\n",
       "\t<li>'ensembl_gene_id_version'</li>\n",
       "\t<li>'ensembl_transcript_id'</li>\n",
       "\t<li>'ensembl_transcript_id_version'</li>\n",
       "\t<li>'ensembl_peptide_id'</li>\n",
       "\t<li>'ensembl_peptide_id_version'</li>\n",
       "\t<li>'ensembl_exon_id'</li>\n",
       "\t<li>'external_gene_name'</li>\n",
       "\t<li>'external_transcript_name'</li>\n",
       "\t<li>'ccds'</li>\n",
       "\t<li>'chembl'</li>\n",
       "\t<li>'clone_based_ensembl_gene'</li>\n",
       "\t<li>'clone_based_ensembl_transcript'</li>\n",
       "\t<li>'dbass3_name'</li>\n",
       "\t<li>'dbass3_id'</li>\n",
       "\t<li>'dbass5_name'</li>\n",
       "\t<li>'dbass5_id'</li>\n",
       "\t<li>'ens_hs_transcript'</li>\n",
       "\t<li>'ens_hs_translation'</li>\n",
       "\t<li>'entrezgene_trans_name'</li>\n",
       "\t<li>'embl'</li>\n",
       "\t<li>'arrayexpress'</li>\n",
       "\t<li>'genedb'</li>\n",
       "\t<li>'go'</li>\n",
       "\t<li>'goslim_goa'</li>\n",
       "\t<li>'hgnc_id'</li>\n",
       "\t<li>'hgnc_symbol'</li>\n",
       "\t<li>'hgnc_trans_name'</li>\n",
       "\t<li>'hpa_accession'</li>\n",
       "\t<li>'hpa_id'</li>\n",
       "\t<li>'protein_id'</li>\n",
       "\t<li>'kegg_enzyme'</li>\n",
       "\t<li>'ens_lrg_gene'</li>\n",
       "\t<li>'ens_lrg_transcript'</li>\n",
       "\t<li>'merops'</li>\n",
       "\t<li>'mim_gene_accession'</li>\n",
       "\t<li>'mim_morbid_accession'</li>\n",
       "\t<li>'mirbase_accession'</li>\n",
       "\t<li>'mirbase_id'</li>\n",
       "\t<li>'mirbase_trans_name'</li>\n",
       "\t<li>'entrezgene_accession'</li>\n",
       "\t<li>'entrezgene_id'</li>\n",
       "\t<li>'pdb'</li>\n",
       "\t<li>'reactome'</li>\n",
       "\t<li>'reactome_gene'</li>\n",
       "\t<li>'reactome_transcript'</li>\n",
       "\t<li>'refseq_mrna'</li>\n",
       "\t<li>'refseq_mrna_predicted'</li>\n",
       "\t<li>'refseq_ncrna'</li>\n",
       "\t<li>'refseq_ncrna_predicted'</li>\n",
       "\t<li>'refseq_peptide'</li>\n",
       "\t<li>'refseq_peptide_predicted'</li>\n",
       "\t<li>'rfam'</li>\n",
       "\t<li>'rfam_trans_name'</li>\n",
       "\t<li>'rnacentral'</li>\n",
       "\t<li>'ucsc'</li>\n",
       "\t<li>'uniparc'</li>\n",
       "\t<li>'uniprot_gn_symbol'</li>\n",
       "\t<li>'uniprot_gn_id'</li>\n",
       "\t<li>'uniprotswissprot'</li>\n",
       "\t<li>'uniprotsptrembl'</li>\n",
       "\t<li>'wikigene_name'</li>\n",
       "\t<li>'wikigene_id'</li>\n",
       "\t<li>'with_affy_hc_g110'</li>\n",
       "\t<li>'with_affy_hg_focus'</li>\n",
       "\t<li>'with_affy_hg_u133a'</li>\n",
       "\t<li>'with_affy_hg_u133a_2'</li>\n",
       "\t<li>'with_affy_hg_u133b'</li>\n",
       "\t<li>'with_affy_hg_u133_plus_2'</li>\n",
       "\t<li>'with_affy_hg_u95a'</li>\n",
       "\t<li>'with_affy_hg_u95av2'</li>\n",
       "\t<li>'with_affy_hg_u95b'</li>\n",
       "\t<li>'with_affy_hg_u95c'</li>\n",
       "\t<li>'with_affy_hg_u95d'</li>\n",
       "\t<li>'with_affy_hg_u95e'</li>\n",
       "\t<li>'with_affy_hta_2_0'</li>\n",
       "\t<li>'with_affy_huex_1_0_st_v2'</li>\n",
       "\t<li>'with_affy_hugenefl'</li>\n",
       "\t<li>'with_affy_hugene_1_0_st_v1'</li>\n",
       "\t<li>'with_affy_hugene_2_0_st_v1'</li>\n",
       "\t<li>'with_affy_primeview'</li>\n",
       "\t<li>'with_affy_u133_x3p'</li>\n",
       "\t<li>'with_agilent_cgh_44b'</li>\n",
       "\t<li>'with_agilent_gpl6848'</li>\n",
       "\t<li>'with_agilent_sureprint_g3_ge_8x60k'</li>\n",
       "\t<li>'with_agilent_sureprint_g3_ge_8x60k_v2'</li>\n",
       "\t<li>'with_agilent_wholegenome'</li>\n",
       "\t<li>'with_agilent_wholegenome_4x44k_v1'</li>\n",
       "\t<li>'with_agilent_wholegenome_4x44k_v2'</li>\n",
       "\t<li>'with_codelink_codelink'</li>\n",
       "\t<li>'with_illumina_humanht_12_v3'</li>\n",
       "\t<li>'with_illumina_humanht_12_v4'</li>\n",
       "\t<li>'with_illumina_humanref_8_v3'</li>\n",
       "\t<li>'with_illumina_humanwg_6_v1'</li>\n",
       "\t<li>'with_illumina_humanwg_6_v2'</li>\n",
       "\t<li>'with_illumina_humanwg_6_v3'</li>\n",
       "\t<li>'with_phalanx_onearray'</li>\n",
       "\t<li>'affy_hc_g110'</li>\n",
       "\t<li>'affy_hg_focus'</li>\n",
       "\t<li>'affy_hg_u133a'</li>\n",
       "\t<li>'affy_hg_u133a_2'</li>\n",
       "\t<li>'affy_hg_u133b'</li>\n",
       "\t<li>'affy_hg_u133_plus_2'</li>\n",
       "\t<li>'affy_hg_u95a'</li>\n",
       "\t<li>'affy_hg_u95av2'</li>\n",
       "\t<li>'affy_hg_u95b'</li>\n",
       "\t<li>'affy_hg_u95c'</li>\n",
       "\t<li>'affy_hg_u95d'</li>\n",
       "\t<li>'affy_hg_u95e'</li>\n",
       "\t<li>'affy_hta_2_0'</li>\n",
       "\t<li>'affy_huex_1_0_st_v2'</li>\n",
       "\t<li>'affy_hugenefl'</li>\n",
       "\t<li>'affy_hugene_1_0_st_v1'</li>\n",
       "\t<li>'affy_hugene_2_0_st_v1'</li>\n",
       "\t<li>'affy_primeview'</li>\n",
       "\t<li>'affy_u133_x3p'</li>\n",
       "\t<li>'agilent_cgh_44b'</li>\n",
       "\t<li>'agilent_gpl6848'</li>\n",
       "\t<li>'agilent_sureprint_g3_ge_8x60k'</li>\n",
       "\t<li>'agilent_sureprint_g3_ge_8x60k_v2'</li>\n",
       "\t<li>'agilent_wholegenome'</li>\n",
       "\t<li>'agilent_wholegenome_4x44k_v1'</li>\n",
       "\t<li>'agilent_wholegenome_4x44k_v2'</li>\n",
       "\t<li>'codelink_codelink'</li>\n",
       "\t<li>'illumina_humanht_12_v3'</li>\n",
       "\t<li>'illumina_humanht_12_v4'</li>\n",
       "\t<li>'illumina_humanref_8_v3'</li>\n",
       "\t<li>'illumina_humanwg_6_v1'</li>\n",
       "\t<li>'illumina_humanwg_6_v2'</li>\n",
       "\t<li>'illumina_humanwg_6_v3'</li>\n",
       "\t<li>'phalanx_onearray'</li>\n",
       "\t<li>'transcript_count_greater_than'</li>\n",
       "\t<li>'transcript_count_less_than'</li>\n",
       "\t<li>'biotype'</li>\n",
       "\t<li>'transcript_biotype'</li>\n",
       "\t<li>'source'</li>\n",
       "\t<li>'transcript_source'</li>\n",
       "\t<li>'transcript_tsl'</li>\n",
       "\t<li>'transcript_gencode_basic'</li>\n",
       "\t<li>'transcript_appris'</li>\n",
       "\t<li>'mane_select'</li>\n",
       "\t<li>'phenotype_description'</li>\n",
       "\t<li>'phenotype_source'</li>\n",
       "\t<li>'go_parent_term'</li>\n",
       "\t<li>'go_parent_name'</li>\n",
       "\t<li>'go_evidence_code'</li>\n",
       "\t<li>'with_hsapiens_paralog'</li>\n",
       "\t<li>'with_cabingdonii_homolog'</li>\n",
       "\t<li>'with_gagassizii_homolog'</li>\n",
       "\t<li>'with_mspretus_homolog'</li>\n",
       "\t<li>'with_vpacos_homolog'</li>\n",
       "\t<li>'with_mmarmota_homolog'</li>\n",
       "\t<li>'with_pformosa_homolog'</li>\n",
       "\t<li>'with_ccanadensis_homolog'</li>\n",
       "\t<li>'with_bbison_homolog'</li>\n",
       "\t<li>'with_uamericanus_homolog'</li>\n",
       "\t<li>'with_nvison_homolog'</li>\n",
       "\t<li>'with_cpalliatus_homolog'</li>\n",
       "\t<li>'with_acarolinensis_homolog'</li>\n",
       "\t<li>'with_uparryii_homolog'</li>\n",
       "\t<li>'with_smerianae_homolog'</li>\n",
       "\t<li>'with_dnovemcinctus_homolog'</li>\n",
       "\t<li>'with_sformosus_homolog'</li>\n",
       "\t<li>'with_cporosus_homolog'</li>\n",
       "\t<li>'with_lbergylta_homolog'</li>\n",
       "\t<li>'with_lcalcarifer_homolog'</li>\n",
       "\t<li>'with_ldomestica_homolog'</li>\n",
       "\t<li>'with_spartitus_homolog'</li>\n",
       "\t<li>'with_rbieti_homolog'</li>\n",
       "\t<li>'with_ccaeruleus_homolog'</li>\n",
       "\t<li>'with_lcoronata_homolog'</li>\n",
       "\t<li>'with_sboliviensis_homolog'</li>\n",
       "\t<li>'with_ppaniscus_homolog'</li>\n",
       "\t<li>'with_caperea_homolog'</li>\n",
       "\t<li>'with_mundulatus_homolog'</li>\n",
       "\t<li>'with_hburtoni_homolog'</li>\n",
       "\t<li>'with_ogarnettii_homolog'</li>\n",
       "\t<li>'with_cintestinalis_homolog'</li>\n",
       "\t<li>'with_csavignyi_homolog'</li>\n",
       "\t<li>'with_celegans_homolog'</li>\n",
       "\t<li>'with_ccapucinus_homolog'</li>\n",
       "\t<li>'with_fcatus_homolog'</li>\n",
       "\t<li>'with_pvitticeps_homolog'</li>\n",
       "\t<li>'with_ipunctatus_homolog'</li>\n",
       "\t<li>'with_ggallus_homolog'</li>\n",
       "\t<li>'with_nperdicaria_homolog'</li>\n",
       "\t<li>'with_ptroglodytes_homolog'</li>\n",
       "\t<li>'with_cchok1gshd_homolog'</li>\n",
       "\t<li>'with_ccrigri_homolog'</li>\n",
       "\t<li>'with_cpicr_homolog'</li>\n",
       "\t<li>'with_psinensis_homolog'</li>\n",
       "\t<li>'with_atestudineus_homolog'</li>\n",
       "\t<li>'with_aocellaris_homolog'</li>\n",
       "\t<li>'with_gmorhua_homolog'</li>\n",
       "\t<li>'with_lchalumnae_homolog'</li>\n",
       "\t<li>'with_scanaria_homolog'</li>\n",
       "\t<li>'with_vursinus_homolog'</li>\n",
       "\t<li>'with_pcoquereli_homolog'</li>\n",
       "\t<li>'with_btaurus_homolog'</li>\n",
       "\t<li>'with_mfascicularis_homolog'</li>\n",
       "\t<li>'with_fdamarensis_homolog'</li>\n",
       "\t<li>'with_jhyemalis_homolog'</li>\n",
       "\t<li>'with_sdauricus_homolog'</li>\n",
       "\t<li>'with_odegus_homolog'</li>\n",
       "\t<li>'with_cdingo_homolog'</li>\n",
       "\t<li>'with_cfamiliaris_homolog'</li>\n",
       "\t<li>'with_ttruncatus_homolog'</li>\n",
       "\t<li>'with_easinus_homolog'</li>\n",
       "\t<li>'with_mleucophaeus_homolog'</li>\n",
       "\t<li>'with_dmelanogaster_homolog'</li>\n",
       "\t<li>'with_aplatyrhynchos_homolog'</li>\n",
       "\t<li>'with_acalliptera_homolog'</li>\n",
       "\t<li>'with_eelectricus_homolog'</li>\n",
       "\t<li>'with_lafricana_homolog'</li>\n",
       "\t<li>'with_cmilii_homolog'</li>\n",
       "\t<li>'with_dnovaehollandiae_homolog'</li>\n",
       "\t<li>'with_mfuro_homolog'</li>\n",
       "\t<li>'with_falbicollis_homolog'</li>\n",
       "\t<li>'with_trubripes_homolog'</li>\n",
       "\t<li>'with_tgelada_homolog'</li>\n",
       "\t<li>'with_nleucogenys_homolog'</li>\n",
       "\t<li>'with_chircus_homolog'</li>\n",
       "\t<li>'with_mauratus_homolog'</li>\n",
       "\t<li>'with_rroxellana_homolog'</li>\n",
       "\t<li>'with_mvitellinus_homolog'</li>\n",
       "\t<li>'with_ggorilla_homolog'</li>\n",
       "\t<li>'with_pmajor_homolog'</li>\n",
       "\t<li>'with_ahaastii_homolog'</li>\n",
       "\t<li>'with_sdumerili_homolog'</li>\n",
       "\t<li>'with_psimus_homolog'</li>\n",
       "\t<li>'with_cporcellus_homolog'</li>\n",
       "\t<li>'with_preticulata_homolog'</li>\n",
       "\t<li>'with_eburgeri_homolog'</li>\n",
       "\t<li>'with_eeuropaeus_homolog'</li>\n",
       "\t<li>'with_nmeleagris_homolog'</li>\n",
       "\t<li>'with_ecaballus_homolog'</li>\n",
       "\t<li>'with_hhucho_homolog'</li>\n",
       "\t<li>'with_pcapensis_homolog'</li>\n",
       "\t<li>'with_omelastigma_homolog'</li>\n",
       "\t<li>'with_ohni_homolog'</li>\n",
       "\t<li>'with_ohsok_homolog'</li>\n",
       "\t<li>'with_olatipes_homolog'</li>\n",
       "\t<li>'with_cjaponica_homolog'</li>\n",
       "\t<li>'with_dordii_homolog'</li>\n",
       "\t<li>'with_pcinereus_homolog'</li>\n",
       "\t<li>'with_pmarinus_homolog'</li>\n",
       "\t<li>'with_ppardus_homolog'</li>\n",
       "\t<li>'with_jjaculus_homolog'</li>\n",
       "\t<li>'with_etelfairi_homolog'</li>\n",
       "\t<li>'with_aowenii_homolog'</li>\n",
       "\t<li>'with_clanigera_homolog'</li>\n",
       "\t<li>'with_nbrichardi_homolog'</li>\n",
       "\t<li>'with_anancymaae_homolog'</li>\n",
       "\t<li>'with_mmulatta_homolog'</li>\n",
       "\t<li>'with_nscutatus_homolog'</li>\n",
       "\t<li>'with_pnyererei_homolog'</li>\n",
       "\t<li>'with_kmarmoratus_homolog'</li>\n",
       "\t<li>'with_cjacchus_homolog'</li>\n",
       "\t<li>'with_pvampyrus_homolog'</li>\n",
       "\t<li>'with_amexicanus_homolog'</li>\n",
       "\t<li>'with_mlucifugus_homolog'</li>\n",
       "\t<li>'with_acitrinellus_homolog'</li>\n",
       "\t<li>'with_munguiculatus_homolog'</li>\n",
       "\t<li>'with_xcouchianus_homolog'</li>\n",
       "\t<li>'with_mmusculus_homolog'</li>\n",
       "\t<li>'with_mmurinus_homolog'</li>\n",
       "\t<li>'with_fheteroclitus_homolog'</li>\n",
       "\t<li>'with_hfemale_homolog'</li>\n",
       "\t<li>'with_hmale_homolog'</li>\n",
       "\t<li>'with_pbairdii_homolog'</li>\n",
       "\t<li>'with_elucius_homolog'</li>\n",
       "\t<li>'with_mmola_homolog'</li>\n",
       "\t<li>'with_arowi_homolog'</li>\n",
       "\t<li>'with_panubis_homolog'</li>\n",
       "\t<li>'with_mdomestica_homolog'</li>\n",
       "\t<li>'with_apercula_homolog'</li>\n",
       "\t<li>'with_pabelii_homolog'</li>\n",
       "\t<li>'with_cbellii_homolog'</li>\n",
       "\t<li>'with_amelanoleuca_homolog'</li>\n",
       "\t<li>'with_pkingsleyae_homolog'</li>\n",
       "\t<li>'with_pmagnuspinnatus_homolog'</li>\n",
       "\t<li>'with_sscrofa_homolog'</li>\n",
       "\t<li>'with_susmarc_homolog'</li>\n",
       "\t<li>'with_mnemestrina_homolog'</li>\n",
       "\t<li>'with_oprinceps_homolog'</li>\n",
       "\t<li>'with_abrachyrhynchus_homolog'</li>\n",
       "\t<li>'with_xmaculatus_homolog'</li>\n",
       "\t<li>'with_oanatinus_homolog'</li>\n",
       "\t<li>'with_umaritimus_homolog'</li>\n",
       "\t<li>'with_mochrogaster_homolog'</li>\n",
       "\t<li>'with_ocuniculus_homolog'</li>\n",
       "\t<li>'with_rnorvegicus_homolog'</li>\n",
       "\t<li>'with_vvulpes_homolog'</li>\n",
       "\t<li>'with_pnattereri_homolog'</li>\n",
       "\t<li>'with_cpugnax_homolog'</li>\n",
       "\t<li>'with_mcaroli_homolog'</li>\n",
       "\t<li>'with_scerevisiae_homolog'</li>\n",
       "\t<li>'with_platipinna_homolog'</li>\n",
       "\t<li>'with_oaries_homolog'</li>\n",
       "\t<li>'with_cvariegatus_homolog'</li>\n",
       "\t<li>'with_pmexicana_homolog'</li>\n",
       "\t<li>'with_saraneus_homolog'</li>\n",
       "\t<li>'with_mpahari_homolog'</li>\n",
       "\t<li>'with_choffmanni_homolog'</li>\n",
       "\t<li>'with_catys_homolog'</li>\n",
       "\t<li>'with_apolyacanthus_homolog'</li>\n",
       "\t<li>'with_cpygmaea_homolog'</li>\n",
       "\t<li>'with_loculatus_homolog'</li>\n",
       "\t<li>'with_itridecemlineatus_homolog'</li>\n",
       "\t<li>'with_mspicilegus_homolog'</li>\n",
       "\t<li>'with_gaculeatus_homolog'</li>\n",
       "\t<li>'with_malbus_homolog'</li>\n",
       "\t<li>'with_csyrichta_homolog'</li>\n",
       "\t<li>'with_sharrisii_homolog'</li>\n",
       "\t<li>'with_tnigroviridis_homolog'</li>\n",
       "\t<li>'with_paltaica_homolog'</li>\n",
       "\t<li>'with_hcomes_homolog'</li>\n",
       "\t<li>'with_oniloticus_homolog'</li>\n",
       "\t<li>'with_csemilaevis_homolog'</li>\n",
       "\t<li>'with_tbelangeri_homolog'</li>\n",
       "\t<li>'with_spunctatus_homolog'</li>\n",
       "\t<li>'with_smaximus_homolog'</li>\n",
       "\t<li>'with_mgallopavo_homolog'</li>\n",
       "\t<li>'with_ptephrosceles_homolog'</li>\n",
       "\t<li>'with_ngalili_homolog'</li>\n",
       "\t<li>'with_csabaeus_homolog'</li>\n",
       "\t<li>'with_neugenii_homolog'</li>\n",
       "\t<li>'with_gaffinis_homolog'</li>\n",
       "\t<li>'with_zalbicollis_homolog'</li>\n",
       "\t<li>'with_bmutus_homolog'</li>\n",
       "\t<li>'with_xtropicalis_homolog'</li>\n",
       "\t<li>'with_sdorsalis_homolog'</li>\n",
       "\t<li>'with_tguttata_homolog'</li>\n",
       "\t<li>'with_mzebra_homolog'</li>\n",
       "\t<li>'with_drerio_homolog'</li>\n",
       "\t<li>'with_marmatus_homolog'</li>\n",
       "\t<li>'with_interpro'</li>\n",
       "\t<li>'with_family'</li>\n",
       "\t<li>'with_cdd'</li>\n",
       "\t<li>'with_gene3d'</li>\n",
       "\t<li>'with_hamap'</li>\n",
       "\t<li>'with_mobidblite'</li>\n",
       "\t<li>'with_ncoils'</li>\n",
       "\t<li>'with_hmmpanther'</li>\n",
       "\t<li>'with_pfam'</li>\n",
       "\t<li>'with_pirsf'</li>\n",
       "\t<li>'with_prints'</li>\n",
       "\t<li>'with_blastprodom'</li>\n",
       "\t<li>'with_scanprosite'</li>\n",
       "\t<li>'with_pfscan'</li>\n",
       "\t<li>'with_seg'</li>\n",
       "\t<li>'with_sfld'</li>\n",
       "\t<li>'with_sifts_import'</li>\n",
       "\t<li>'with_signalp'</li>\n",
       "\t<li>'with_smart'</li>\n",
       "\t<li>'with_superfamily'</li>\n",
       "\t<li>'with_tigrfam'</li>\n",
       "\t<li>'with_tmhmm'</li>\n",
       "\t<li>'interpro'</li>\n",
       "\t<li>'family'</li>\n",
       "\t<li>'cdd'</li>\n",
       "\t<li>'gene3d'</li>\n",
       "\t<li>'hamap'</li>\n",
       "\t<li>'hmmpanther'</li>\n",
       "\t<li>'pfam'</li>\n",
       "\t<li>'pirsf'</li>\n",
       "\t<li>'prints'</li>\n",
       "\t<li>'blastprodom'</li>\n",
       "\t<li>'scanprosite'</li>\n",
       "\t<li>'pfscan'</li>\n",
       "\t<li>'sfld'</li>\n",
       "\t<li>'smart'</li>\n",
       "\t<li>'superfamily'</li>\n",
       "\t<li>'tigrfam'</li>\n",
       "\t<li>'germ_line_variation_source'</li>\n",
       "\t<li>'somatic_variation_source'</li>\n",
       "\t<li>'with_validated_snp'</li>\n",
       "\t<li>'so_mini_parent_name'</li>\n",
       "</ol>\n"
      ],
      "text/latex": [
       "\\begin{enumerate*}\n",
       "\\item 'chromosome\\_name'\n",
       "\\item 'start'\n",
       "\\item 'end'\n",
       "\\item 'band\\_start'\n",
       "\\item 'band\\_end'\n",
       "\\item 'marker\\_start'\n",
       "\\item 'marker\\_end'\n",
       "\\item 'encode\\_region'\n",
       "\\item 'strand'\n",
       "\\item 'chromosomal\\_region'\n",
       "\\item 'with\\_ccds'\n",
       "\\item 'with\\_chembl'\n",
       "\\item 'with\\_clone\\_based\\_ensembl\\_gene'\n",
       "\\item 'with\\_clone\\_based\\_ensembl\\_transcript'\n",
       "\\item 'with\\_dbass3'\n",
       "\\item 'with\\_dbass5'\n",
       "\\item 'with\\_ens\\_hs\\_transcript'\n",
       "\\item 'with\\_ens\\_hs\\_translation'\n",
       "\\item 'with\\_entrezgene\\_trans\\_name'\n",
       "\\item 'with\\_embl'\n",
       "\\item 'with\\_arrayexpress'\n",
       "\\item 'with\\_genedb'\n",
       "\\item 'with\\_go'\n",
       "\\item 'with\\_goslim\\_goa'\n",
       "\\item 'with\\_hgnc'\n",
       "\\item 'with\\_hgnc\\_trans\\_name'\n",
       "\\item 'with\\_hpa'\n",
       "\\item 'with\\_protein\\_id'\n",
       "\\item 'with\\_kegg\\_enzyme'\n",
       "\\item 'with\\_ens\\_lrg\\_gene'\n",
       "\\item 'with\\_ens\\_lrg\\_transcript'\n",
       "\\item 'with\\_merops'\n",
       "\\item 'with\\_mim\\_gene'\n",
       "\\item 'with\\_mim\\_morbid'\n",
       "\\item 'with\\_mirbase'\n",
       "\\item 'with\\_mirbase\\_trans\\_name'\n",
       "\\item 'with\\_entrezgene'\n",
       "\\item 'with\\_pdb'\n",
       "\\item 'with\\_reactome'\n",
       "\\item 'with\\_reactome\\_gene'\n",
       "\\item 'with\\_reactome\\_transcript'\n",
       "\\item 'with\\_refseq\\_mrna'\n",
       "\\item 'with\\_refseq\\_mrna\\_predicted'\n",
       "\\item 'with\\_refseq\\_ncrna'\n",
       "\\item 'with\\_refseq\\_ncrna\\_predicted'\n",
       "\\item 'with\\_refseq\\_peptide'\n",
       "\\item 'with\\_refseq\\_peptide\\_predicted'\n",
       "\\item 'with\\_rfam'\n",
       "\\item 'with\\_rfam\\_trans\\_name'\n",
       "\\item 'with\\_rnacentral'\n",
       "\\item 'with\\_ucsc'\n",
       "\\item 'with\\_uniparc'\n",
       "\\item 'with\\_uniprot\\_gn'\n",
       "\\item 'with\\_uniprotswissprot'\n",
       "\\item 'with\\_uniprotsptrembl'\n",
       "\\item 'with\\_wikigene'\n",
       "\\item 'ensembl\\_gene\\_id'\n",
       "\\item 'ensembl\\_gene\\_id\\_version'\n",
       "\\item 'ensembl\\_transcript\\_id'\n",
       "\\item 'ensembl\\_transcript\\_id\\_version'\n",
       "\\item 'ensembl\\_peptide\\_id'\n",
       "\\item 'ensembl\\_peptide\\_id\\_version'\n",
       "\\item 'ensembl\\_exon\\_id'\n",
       "\\item 'external\\_gene\\_name'\n",
       "\\item 'external\\_transcript\\_name'\n",
       "\\item 'ccds'\n",
       "\\item 'chembl'\n",
       "\\item 'clone\\_based\\_ensembl\\_gene'\n",
       "\\item 'clone\\_based\\_ensembl\\_transcript'\n",
       "\\item 'dbass3\\_name'\n",
       "\\item 'dbass3\\_id'\n",
       "\\item 'dbass5\\_name'\n",
       "\\item 'dbass5\\_id'\n",
       "\\item 'ens\\_hs\\_transcript'\n",
       "\\item 'ens\\_hs\\_translation'\n",
       "\\item 'entrezgene\\_trans\\_name'\n",
       "\\item 'embl'\n",
       "\\item 'arrayexpress'\n",
       "\\item 'genedb'\n",
       "\\item 'go'\n",
       "\\item 'goslim\\_goa'\n",
       "\\item 'hgnc\\_id'\n",
       "\\item 'hgnc\\_symbol'\n",
       "\\item 'hgnc\\_trans\\_name'\n",
       "\\item 'hpa\\_accession'\n",
       "\\item 'hpa\\_id'\n",
       "\\item 'protein\\_id'\n",
       "\\item 'kegg\\_enzyme'\n",
       "\\item 'ens\\_lrg\\_gene'\n",
       "\\item 'ens\\_lrg\\_transcript'\n",
       "\\item 'merops'\n",
       "\\item 'mim\\_gene\\_accession'\n",
       "\\item 'mim\\_morbid\\_accession'\n",
       "\\item 'mirbase\\_accession'\n",
       "\\item 'mirbase\\_id'\n",
       "\\item 'mirbase\\_trans\\_name'\n",
       "\\item 'entrezgene\\_accession'\n",
       "\\item 'entrezgene\\_id'\n",
       "\\item 'pdb'\n",
       "\\item 'reactome'\n",
       "\\item 'reactome\\_gene'\n",
       "\\item 'reactome\\_transcript'\n",
       "\\item 'refseq\\_mrna'\n",
       "\\item 'refseq\\_mrna\\_predicted'\n",
       "\\item 'refseq\\_ncrna'\n",
       "\\item 'refseq\\_ncrna\\_predicted'\n",
       "\\item 'refseq\\_peptide'\n",
       "\\item 'refseq\\_peptide\\_predicted'\n",
       "\\item 'rfam'\n",
       "\\item 'rfam\\_trans\\_name'\n",
       "\\item 'rnacentral'\n",
       "\\item 'ucsc'\n",
       "\\item 'uniparc'\n",
       "\\item 'uniprot\\_gn\\_symbol'\n",
       "\\item 'uniprot\\_gn\\_id'\n",
       "\\item 'uniprotswissprot'\n",
       "\\item 'uniprotsptrembl'\n",
       "\\item 'wikigene\\_name'\n",
       "\\item 'wikigene\\_id'\n",
       "\\item 'with\\_affy\\_hc\\_g110'\n",
       "\\item 'with\\_affy\\_hg\\_focus'\n",
       "\\item 'with\\_affy\\_hg\\_u133a'\n",
       "\\item 'with\\_affy\\_hg\\_u133a\\_2'\n",
       "\\item 'with\\_affy\\_hg\\_u133b'\n",
       "\\item 'with\\_affy\\_hg\\_u133\\_plus\\_2'\n",
       "\\item 'with\\_affy\\_hg\\_u95a'\n",
       "\\item 'with\\_affy\\_hg\\_u95av2'\n",
       "\\item 'with\\_affy\\_hg\\_u95b'\n",
       "\\item 'with\\_affy\\_hg\\_u95c'\n",
       "\\item 'with\\_affy\\_hg\\_u95d'\n",
       "\\item 'with\\_affy\\_hg\\_u95e'\n",
       "\\item 'with\\_affy\\_hta\\_2\\_0'\n",
       "\\item 'with\\_affy\\_huex\\_1\\_0\\_st\\_v2'\n",
       "\\item 'with\\_affy\\_hugenefl'\n",
       "\\item 'with\\_affy\\_hugene\\_1\\_0\\_st\\_v1'\n",
       "\\item 'with\\_affy\\_hugene\\_2\\_0\\_st\\_v1'\n",
       "\\item 'with\\_affy\\_primeview'\n",
       "\\item 'with\\_affy\\_u133\\_x3p'\n",
       "\\item 'with\\_agilent\\_cgh\\_44b'\n",
       "\\item 'with\\_agilent\\_gpl6848'\n",
       "\\item 'with\\_agilent\\_sureprint\\_g3\\_ge\\_8x60k'\n",
       "\\item 'with\\_agilent\\_sureprint\\_g3\\_ge\\_8x60k\\_v2'\n",
       "\\item 'with\\_agilent\\_wholegenome'\n",
       "\\item 'with\\_agilent\\_wholegenome\\_4x44k\\_v1'\n",
       "\\item 'with\\_agilent\\_wholegenome\\_4x44k\\_v2'\n",
       "\\item 'with\\_codelink\\_codelink'\n",
       "\\item 'with\\_illumina\\_humanht\\_12\\_v3'\n",
       "\\item 'with\\_illumina\\_humanht\\_12\\_v4'\n",
       "\\item 'with\\_illumina\\_humanref\\_8\\_v3'\n",
       "\\item 'with\\_illumina\\_humanwg\\_6\\_v1'\n",
       "\\item 'with\\_illumina\\_humanwg\\_6\\_v2'\n",
       "\\item 'with\\_illumina\\_humanwg\\_6\\_v3'\n",
       "\\item 'with\\_phalanx\\_onearray'\n",
       "\\item 'affy\\_hc\\_g110'\n",
       "\\item 'affy\\_hg\\_focus'\n",
       "\\item 'affy\\_hg\\_u133a'\n",
       "\\item 'affy\\_hg\\_u133a\\_2'\n",
       "\\item 'affy\\_hg\\_u133b'\n",
       "\\item 'affy\\_hg\\_u133\\_plus\\_2'\n",
       "\\item 'affy\\_hg\\_u95a'\n",
       "\\item 'affy\\_hg\\_u95av2'\n",
       "\\item 'affy\\_hg\\_u95b'\n",
       "\\item 'affy\\_hg\\_u95c'\n",
       "\\item 'affy\\_hg\\_u95d'\n",
       "\\item 'affy\\_hg\\_u95e'\n",
       "\\item 'affy\\_hta\\_2\\_0'\n",
       "\\item 'affy\\_huex\\_1\\_0\\_st\\_v2'\n",
       "\\item 'affy\\_hugenefl'\n",
       "\\item 'affy\\_hugene\\_1\\_0\\_st\\_v1'\n",
       "\\item 'affy\\_hugene\\_2\\_0\\_st\\_v1'\n",
       "\\item 'affy\\_primeview'\n",
       "\\item 'affy\\_u133\\_x3p'\n",
       "\\item 'agilent\\_cgh\\_44b'\n",
       "\\item 'agilent\\_gpl6848'\n",
       "\\item 'agilent\\_sureprint\\_g3\\_ge\\_8x60k'\n",
       "\\item 'agilent\\_sureprint\\_g3\\_ge\\_8x60k\\_v2'\n",
       "\\item 'agilent\\_wholegenome'\n",
       "\\item 'agilent\\_wholegenome\\_4x44k\\_v1'\n",
       "\\item 'agilent\\_wholegenome\\_4x44k\\_v2'\n",
       "\\item 'codelink\\_codelink'\n",
       "\\item 'illumina\\_humanht\\_12\\_v3'\n",
       "\\item 'illumina\\_humanht\\_12\\_v4'\n",
       "\\item 'illumina\\_humanref\\_8\\_v3'\n",
       "\\item 'illumina\\_humanwg\\_6\\_v1'\n",
       "\\item 'illumina\\_humanwg\\_6\\_v2'\n",
       "\\item 'illumina\\_humanwg\\_6\\_v3'\n",
       "\\item 'phalanx\\_onearray'\n",
       "\\item 'transcript\\_count\\_greater\\_than'\n",
       "\\item 'transcript\\_count\\_less\\_than'\n",
       "\\item 'biotype'\n",
       "\\item 'transcript\\_biotype'\n",
       "\\item 'source'\n",
       "\\item 'transcript\\_source'\n",
       "\\item 'transcript\\_tsl'\n",
       "\\item 'transcript\\_gencode\\_basic'\n",
       "\\item 'transcript\\_appris'\n",
       "\\item 'mane\\_select'\n",
       "\\item 'phenotype\\_description'\n",
       "\\item 'phenotype\\_source'\n",
       "\\item 'go\\_parent\\_term'\n",
       "\\item 'go\\_parent\\_name'\n",
       "\\item 'go\\_evidence\\_code'\n",
       "\\item 'with\\_hsapiens\\_paralog'\n",
       "\\item 'with\\_cabingdonii\\_homolog'\n",
       "\\item 'with\\_gagassizii\\_homolog'\n",
       "\\item 'with\\_mspretus\\_homolog'\n",
       "\\item 'with\\_vpacos\\_homolog'\n",
       "\\item 'with\\_mmarmota\\_homolog'\n",
       "\\item 'with\\_pformosa\\_homolog'\n",
       "\\item 'with\\_ccanadensis\\_homolog'\n",
       "\\item 'with\\_bbison\\_homolog'\n",
       "\\item 'with\\_uamericanus\\_homolog'\n",
       "\\item 'with\\_nvison\\_homolog'\n",
       "\\item 'with\\_cpalliatus\\_homolog'\n",
       "\\item 'with\\_acarolinensis\\_homolog'\n",
       "\\item 'with\\_uparryii\\_homolog'\n",
       "\\item 'with\\_smerianae\\_homolog'\n",
       "\\item 'with\\_dnovemcinctus\\_homolog'\n",
       "\\item 'with\\_sformosus\\_homolog'\n",
       "\\item 'with\\_cporosus\\_homolog'\n",
       "\\item 'with\\_lbergylta\\_homolog'\n",
       "\\item 'with\\_lcalcarifer\\_homolog'\n",
       "\\item 'with\\_ldomestica\\_homolog'\n",
       "\\item 'with\\_spartitus\\_homolog'\n",
       "\\item 'with\\_rbieti\\_homolog'\n",
       "\\item 'with\\_ccaeruleus\\_homolog'\n",
       "\\item 'with\\_lcoronata\\_homolog'\n",
       "\\item 'with\\_sboliviensis\\_homolog'\n",
       "\\item 'with\\_ppaniscus\\_homolog'\n",
       "\\item 'with\\_caperea\\_homolog'\n",
       "\\item 'with\\_mundulatus\\_homolog'\n",
       "\\item 'with\\_hburtoni\\_homolog'\n",
       "\\item 'with\\_ogarnettii\\_homolog'\n",
       "\\item 'with\\_cintestinalis\\_homolog'\n",
       "\\item 'with\\_csavignyi\\_homolog'\n",
       "\\item 'with\\_celegans\\_homolog'\n",
       "\\item 'with\\_ccapucinus\\_homolog'\n",
       "\\item 'with\\_fcatus\\_homolog'\n",
       "\\item 'with\\_pvitticeps\\_homolog'\n",
       "\\item 'with\\_ipunctatus\\_homolog'\n",
       "\\item 'with\\_ggallus\\_homolog'\n",
       "\\item 'with\\_nperdicaria\\_homolog'\n",
       "\\item 'with\\_ptroglodytes\\_homolog'\n",
       "\\item 'with\\_cchok1gshd\\_homolog'\n",
       "\\item 'with\\_ccrigri\\_homolog'\n",
       "\\item 'with\\_cpicr\\_homolog'\n",
       "\\item 'with\\_psinensis\\_homolog'\n",
       "\\item 'with\\_atestudineus\\_homolog'\n",
       "\\item 'with\\_aocellaris\\_homolog'\n",
       "\\item 'with\\_gmorhua\\_homolog'\n",
       "\\item 'with\\_lchalumnae\\_homolog'\n",
       "\\item 'with\\_scanaria\\_homolog'\n",
       "\\item 'with\\_vursinus\\_homolog'\n",
       "\\item 'with\\_pcoquereli\\_homolog'\n",
       "\\item 'with\\_btaurus\\_homolog'\n",
       "\\item 'with\\_mfascicularis\\_homolog'\n",
       "\\item 'with\\_fdamarensis\\_homolog'\n",
       "\\item 'with\\_jhyemalis\\_homolog'\n",
       "\\item 'with\\_sdauricus\\_homolog'\n",
       "\\item 'with\\_odegus\\_homolog'\n",
       "\\item 'with\\_cdingo\\_homolog'\n",
       "\\item 'with\\_cfamiliaris\\_homolog'\n",
       "\\item 'with\\_ttruncatus\\_homolog'\n",
       "\\item 'with\\_easinus\\_homolog'\n",
       "\\item 'with\\_mleucophaeus\\_homolog'\n",
       "\\item 'with\\_dmelanogaster\\_homolog'\n",
       "\\item 'with\\_aplatyrhynchos\\_homolog'\n",
       "\\item 'with\\_acalliptera\\_homolog'\n",
       "\\item 'with\\_eelectricus\\_homolog'\n",
       "\\item 'with\\_lafricana\\_homolog'\n",
       "\\item 'with\\_cmilii\\_homolog'\n",
       "\\item 'with\\_dnovaehollandiae\\_homolog'\n",
       "\\item 'with\\_mfuro\\_homolog'\n",
       "\\item 'with\\_falbicollis\\_homolog'\n",
       "\\item 'with\\_trubripes\\_homolog'\n",
       "\\item 'with\\_tgelada\\_homolog'\n",
       "\\item 'with\\_nleucogenys\\_homolog'\n",
       "\\item 'with\\_chircus\\_homolog'\n",
       "\\item 'with\\_mauratus\\_homolog'\n",
       "\\item 'with\\_rroxellana\\_homolog'\n",
       "\\item 'with\\_mvitellinus\\_homolog'\n",
       "\\item 'with\\_ggorilla\\_homolog'\n",
       "\\item 'with\\_pmajor\\_homolog'\n",
       "\\item 'with\\_ahaastii\\_homolog'\n",
       "\\item 'with\\_sdumerili\\_homolog'\n",
       "\\item 'with\\_psimus\\_homolog'\n",
       "\\item 'with\\_cporcellus\\_homolog'\n",
       "\\item 'with\\_preticulata\\_homolog'\n",
       "\\item 'with\\_eburgeri\\_homolog'\n",
       "\\item 'with\\_eeuropaeus\\_homolog'\n",
       "\\item 'with\\_nmeleagris\\_homolog'\n",
       "\\item 'with\\_ecaballus\\_homolog'\n",
       "\\item 'with\\_hhucho\\_homolog'\n",
       "\\item 'with\\_pcapensis\\_homolog'\n",
       "\\item 'with\\_omelastigma\\_homolog'\n",
       "\\item 'with\\_ohni\\_homolog'\n",
       "\\item 'with\\_ohsok\\_homolog'\n",
       "\\item 'with\\_olatipes\\_homolog'\n",
       "\\item 'with\\_cjaponica\\_homolog'\n",
       "\\item 'with\\_dordii\\_homolog'\n",
       "\\item 'with\\_pcinereus\\_homolog'\n",
       "\\item 'with\\_pmarinus\\_homolog'\n",
       "\\item 'with\\_ppardus\\_homolog'\n",
       "\\item 'with\\_jjaculus\\_homolog'\n",
       "\\item 'with\\_etelfairi\\_homolog'\n",
       "\\item 'with\\_aowenii\\_homolog'\n",
       "\\item 'with\\_clanigera\\_homolog'\n",
       "\\item 'with\\_nbrichardi\\_homolog'\n",
       "\\item 'with\\_anancymaae\\_homolog'\n",
       "\\item 'with\\_mmulatta\\_homolog'\n",
       "\\item 'with\\_nscutatus\\_homolog'\n",
       "\\item 'with\\_pnyererei\\_homolog'\n",
       "\\item 'with\\_kmarmoratus\\_homolog'\n",
       "\\item 'with\\_cjacchus\\_homolog'\n",
       "\\item 'with\\_pvampyrus\\_homolog'\n",
       "\\item 'with\\_amexicanus\\_homolog'\n",
       "\\item 'with\\_mlucifugus\\_homolog'\n",
       "\\item 'with\\_acitrinellus\\_homolog'\n",
       "\\item 'with\\_munguiculatus\\_homolog'\n",
       "\\item 'with\\_xcouchianus\\_homolog'\n",
       "\\item 'with\\_mmusculus\\_homolog'\n",
       "\\item 'with\\_mmurinus\\_homolog'\n",
       "\\item 'with\\_fheteroclitus\\_homolog'\n",
       "\\item 'with\\_hfemale\\_homolog'\n",
       "\\item 'with\\_hmale\\_homolog'\n",
       "\\item 'with\\_pbairdii\\_homolog'\n",
       "\\item 'with\\_elucius\\_homolog'\n",
       "\\item 'with\\_mmola\\_homolog'\n",
       "\\item 'with\\_arowi\\_homolog'\n",
       "\\item 'with\\_panubis\\_homolog'\n",
       "\\item 'with\\_mdomestica\\_homolog'\n",
       "\\item 'with\\_apercula\\_homolog'\n",
       "\\item 'with\\_pabelii\\_homolog'\n",
       "\\item 'with\\_cbellii\\_homolog'\n",
       "\\item 'with\\_amelanoleuca\\_homolog'\n",
       "\\item 'with\\_pkingsleyae\\_homolog'\n",
       "\\item 'with\\_pmagnuspinnatus\\_homolog'\n",
       "\\item 'with\\_sscrofa\\_homolog'\n",
       "\\item 'with\\_susmarc\\_homolog'\n",
       "\\item 'with\\_mnemestrina\\_homolog'\n",
       "\\item 'with\\_oprinceps\\_homolog'\n",
       "\\item 'with\\_abrachyrhynchus\\_homolog'\n",
       "\\item 'with\\_xmaculatus\\_homolog'\n",
       "\\item 'with\\_oanatinus\\_homolog'\n",
       "\\item 'with\\_umaritimus\\_homolog'\n",
       "\\item 'with\\_mochrogaster\\_homolog'\n",
       "\\item 'with\\_ocuniculus\\_homolog'\n",
       "\\item 'with\\_rnorvegicus\\_homolog'\n",
       "\\item 'with\\_vvulpes\\_homolog'\n",
       "\\item 'with\\_pnattereri\\_homolog'\n",
       "\\item 'with\\_cpugnax\\_homolog'\n",
       "\\item 'with\\_mcaroli\\_homolog'\n",
       "\\item 'with\\_scerevisiae\\_homolog'\n",
       "\\item 'with\\_platipinna\\_homolog'\n",
       "\\item 'with\\_oaries\\_homolog'\n",
       "\\item 'with\\_cvariegatus\\_homolog'\n",
       "\\item 'with\\_pmexicana\\_homolog'\n",
       "\\item 'with\\_saraneus\\_homolog'\n",
       "\\item 'with\\_mpahari\\_homolog'\n",
       "\\item 'with\\_choffmanni\\_homolog'\n",
       "\\item 'with\\_catys\\_homolog'\n",
       "\\item 'with\\_apolyacanthus\\_homolog'\n",
       "\\item 'with\\_cpygmaea\\_homolog'\n",
       "\\item 'with\\_loculatus\\_homolog'\n",
       "\\item 'with\\_itridecemlineatus\\_homolog'\n",
       "\\item 'with\\_mspicilegus\\_homolog'\n",
       "\\item 'with\\_gaculeatus\\_homolog'\n",
       "\\item 'with\\_malbus\\_homolog'\n",
       "\\item 'with\\_csyrichta\\_homolog'\n",
       "\\item 'with\\_sharrisii\\_homolog'\n",
       "\\item 'with\\_tnigroviridis\\_homolog'\n",
       "\\item 'with\\_paltaica\\_homolog'\n",
       "\\item 'with\\_hcomes\\_homolog'\n",
       "\\item 'with\\_oniloticus\\_homolog'\n",
       "\\item 'with\\_csemilaevis\\_homolog'\n",
       "\\item 'with\\_tbelangeri\\_homolog'\n",
       "\\item 'with\\_spunctatus\\_homolog'\n",
       "\\item 'with\\_smaximus\\_homolog'\n",
       "\\item 'with\\_mgallopavo\\_homolog'\n",
       "\\item 'with\\_ptephrosceles\\_homolog'\n",
       "\\item 'with\\_ngalili\\_homolog'\n",
       "\\item 'with\\_csabaeus\\_homolog'\n",
       "\\item 'with\\_neugenii\\_homolog'\n",
       "\\item 'with\\_gaffinis\\_homolog'\n",
       "\\item 'with\\_zalbicollis\\_homolog'\n",
       "\\item 'with\\_bmutus\\_homolog'\n",
       "\\item 'with\\_xtropicalis\\_homolog'\n",
       "\\item 'with\\_sdorsalis\\_homolog'\n",
       "\\item 'with\\_tguttata\\_homolog'\n",
       "\\item 'with\\_mzebra\\_homolog'\n",
       "\\item 'with\\_drerio\\_homolog'\n",
       "\\item 'with\\_marmatus\\_homolog'\n",
       "\\item 'with\\_interpro'\n",
       "\\item 'with\\_family'\n",
       "\\item 'with\\_cdd'\n",
       "\\item 'with\\_gene3d'\n",
       "\\item 'with\\_hamap'\n",
       "\\item 'with\\_mobidblite'\n",
       "\\item 'with\\_ncoils'\n",
       "\\item 'with\\_hmmpanther'\n",
       "\\item 'with\\_pfam'\n",
       "\\item 'with\\_pirsf'\n",
       "\\item 'with\\_prints'\n",
       "\\item 'with\\_blastprodom'\n",
       "\\item 'with\\_scanprosite'\n",
       "\\item 'with\\_pfscan'\n",
       "\\item 'with\\_seg'\n",
       "\\item 'with\\_sfld'\n",
       "\\item 'with\\_sifts\\_import'\n",
       "\\item 'with\\_signalp'\n",
       "\\item 'with\\_smart'\n",
       "\\item 'with\\_superfamily'\n",
       "\\item 'with\\_tigrfam'\n",
       "\\item 'with\\_tmhmm'\n",
       "\\item 'interpro'\n",
       "\\item 'family'\n",
       "\\item 'cdd'\n",
       "\\item 'gene3d'\n",
       "\\item 'hamap'\n",
       "\\item 'hmmpanther'\n",
       "\\item 'pfam'\n",
       "\\item 'pirsf'\n",
       "\\item 'prints'\n",
       "\\item 'blastprodom'\n",
       "\\item 'scanprosite'\n",
       "\\item 'pfscan'\n",
       "\\item 'sfld'\n",
       "\\item 'smart'\n",
       "\\item 'superfamily'\n",
       "\\item 'tigrfam'\n",
       "\\item 'germ\\_line\\_variation\\_source'\n",
       "\\item 'somatic\\_variation\\_source'\n",
       "\\item 'with\\_validated\\_snp'\n",
       "\\item 'so\\_mini\\_parent\\_name'\n",
       "\\end{enumerate*}\n"
      ],
      "text/markdown": [
       "1. 'chromosome_name'\n",
       "2. 'start'\n",
       "3. 'end'\n",
       "4. 'band_start'\n",
       "5. 'band_end'\n",
       "6. 'marker_start'\n",
       "7. 'marker_end'\n",
       "8. 'encode_region'\n",
       "9. 'strand'\n",
       "10. 'chromosomal_region'\n",
       "11. 'with_ccds'\n",
       "12. 'with_chembl'\n",
       "13. 'with_clone_based_ensembl_gene'\n",
       "14. 'with_clone_based_ensembl_transcript'\n",
       "15. 'with_dbass3'\n",
       "16. 'with_dbass5'\n",
       "17. 'with_ens_hs_transcript'\n",
       "18. 'with_ens_hs_translation'\n",
       "19. 'with_entrezgene_trans_name'\n",
       "20. 'with_embl'\n",
       "21. 'with_arrayexpress'\n",
       "22. 'with_genedb'\n",
       "23. 'with_go'\n",
       "24. 'with_goslim_goa'\n",
       "25. 'with_hgnc'\n",
       "26. 'with_hgnc_trans_name'\n",
       "27. 'with_hpa'\n",
       "28. 'with_protein_id'\n",
       "29. 'with_kegg_enzyme'\n",
       "30. 'with_ens_lrg_gene'\n",
       "31. 'with_ens_lrg_transcript'\n",
       "32. 'with_merops'\n",
       "33. 'with_mim_gene'\n",
       "34. 'with_mim_morbid'\n",
       "35. 'with_mirbase'\n",
       "36. 'with_mirbase_trans_name'\n",
       "37. 'with_entrezgene'\n",
       "38. 'with_pdb'\n",
       "39. 'with_reactome'\n",
       "40. 'with_reactome_gene'\n",
       "41. 'with_reactome_transcript'\n",
       "42. 'with_refseq_mrna'\n",
       "43. 'with_refseq_mrna_predicted'\n",
       "44. 'with_refseq_ncrna'\n",
       "45. 'with_refseq_ncrna_predicted'\n",
       "46. 'with_refseq_peptide'\n",
       "47. 'with_refseq_peptide_predicted'\n",
       "48. 'with_rfam'\n",
       "49. 'with_rfam_trans_name'\n",
       "50. 'with_rnacentral'\n",
       "51. 'with_ucsc'\n",
       "52. 'with_uniparc'\n",
       "53. 'with_uniprot_gn'\n",
       "54. 'with_uniprotswissprot'\n",
       "55. 'with_uniprotsptrembl'\n",
       "56. 'with_wikigene'\n",
       "57. 'ensembl_gene_id'\n",
       "58. 'ensembl_gene_id_version'\n",
       "59. 'ensembl_transcript_id'\n",
       "60. 'ensembl_transcript_id_version'\n",
       "61. 'ensembl_peptide_id'\n",
       "62. 'ensembl_peptide_id_version'\n",
       "63. 'ensembl_exon_id'\n",
       "64. 'external_gene_name'\n",
       "65. 'external_transcript_name'\n",
       "66. 'ccds'\n",
       "67. 'chembl'\n",
       "68. 'clone_based_ensembl_gene'\n",
       "69. 'clone_based_ensembl_transcript'\n",
       "70. 'dbass3_name'\n",
       "71. 'dbass3_id'\n",
       "72. 'dbass5_name'\n",
       "73. 'dbass5_id'\n",
       "74. 'ens_hs_transcript'\n",
       "75. 'ens_hs_translation'\n",
       "76. 'entrezgene_trans_name'\n",
       "77. 'embl'\n",
       "78. 'arrayexpress'\n",
       "79. 'genedb'\n",
       "80. 'go'\n",
       "81. 'goslim_goa'\n",
       "82. 'hgnc_id'\n",
       "83. 'hgnc_symbol'\n",
       "84. 'hgnc_trans_name'\n",
       "85. 'hpa_accession'\n",
       "86. 'hpa_id'\n",
       "87. 'protein_id'\n",
       "88. 'kegg_enzyme'\n",
       "89. 'ens_lrg_gene'\n",
       "90. 'ens_lrg_transcript'\n",
       "91. 'merops'\n",
       "92. 'mim_gene_accession'\n",
       "93. 'mim_morbid_accession'\n",
       "94. 'mirbase_accession'\n",
       "95. 'mirbase_id'\n",
       "96. 'mirbase_trans_name'\n",
       "97. 'entrezgene_accession'\n",
       "98. 'entrezgene_id'\n",
       "99. 'pdb'\n",
       "100. 'reactome'\n",
       "101. 'reactome_gene'\n",
       "102. 'reactome_transcript'\n",
       "103. 'refseq_mrna'\n",
       "104. 'refseq_mrna_predicted'\n",
       "105. 'refseq_ncrna'\n",
       "106. 'refseq_ncrna_predicted'\n",
       "107. 'refseq_peptide'\n",
       "108. 'refseq_peptide_predicted'\n",
       "109. 'rfam'\n",
       "110. 'rfam_trans_name'\n",
       "111. 'rnacentral'\n",
       "112. 'ucsc'\n",
       "113. 'uniparc'\n",
       "114. 'uniprot_gn_symbol'\n",
       "115. 'uniprot_gn_id'\n",
       "116. 'uniprotswissprot'\n",
       "117. 'uniprotsptrembl'\n",
       "118. 'wikigene_name'\n",
       "119. 'wikigene_id'\n",
       "120. 'with_affy_hc_g110'\n",
       "121. 'with_affy_hg_focus'\n",
       "122. 'with_affy_hg_u133a'\n",
       "123. 'with_affy_hg_u133a_2'\n",
       "124. 'with_affy_hg_u133b'\n",
       "125. 'with_affy_hg_u133_plus_2'\n",
       "126. 'with_affy_hg_u95a'\n",
       "127. 'with_affy_hg_u95av2'\n",
       "128. 'with_affy_hg_u95b'\n",
       "129. 'with_affy_hg_u95c'\n",
       "130. 'with_affy_hg_u95d'\n",
       "131. 'with_affy_hg_u95e'\n",
       "132. 'with_affy_hta_2_0'\n",
       "133. 'with_affy_huex_1_0_st_v2'\n",
       "134. 'with_affy_hugenefl'\n",
       "135. 'with_affy_hugene_1_0_st_v1'\n",
       "136. 'with_affy_hugene_2_0_st_v1'\n",
       "137. 'with_affy_primeview'\n",
       "138. 'with_affy_u133_x3p'\n",
       "139. 'with_agilent_cgh_44b'\n",
       "140. 'with_agilent_gpl6848'\n",
       "141. 'with_agilent_sureprint_g3_ge_8x60k'\n",
       "142. 'with_agilent_sureprint_g3_ge_8x60k_v2'\n",
       "143. 'with_agilent_wholegenome'\n",
       "144. 'with_agilent_wholegenome_4x44k_v1'\n",
       "145. 'with_agilent_wholegenome_4x44k_v2'\n",
       "146. 'with_codelink_codelink'\n",
       "147. 'with_illumina_humanht_12_v3'\n",
       "148. 'with_illumina_humanht_12_v4'\n",
       "149. 'with_illumina_humanref_8_v3'\n",
       "150. 'with_illumina_humanwg_6_v1'\n",
       "151. 'with_illumina_humanwg_6_v2'\n",
       "152. 'with_illumina_humanwg_6_v3'\n",
       "153. 'with_phalanx_onearray'\n",
       "154. 'affy_hc_g110'\n",
       "155. 'affy_hg_focus'\n",
       "156. 'affy_hg_u133a'\n",
       "157. 'affy_hg_u133a_2'\n",
       "158. 'affy_hg_u133b'\n",
       "159. 'affy_hg_u133_plus_2'\n",
       "160. 'affy_hg_u95a'\n",
       "161. 'affy_hg_u95av2'\n",
       "162. 'affy_hg_u95b'\n",
       "163. 'affy_hg_u95c'\n",
       "164. 'affy_hg_u95d'\n",
       "165. 'affy_hg_u95e'\n",
       "166. 'affy_hta_2_0'\n",
       "167. 'affy_huex_1_0_st_v2'\n",
       "168. 'affy_hugenefl'\n",
       "169. 'affy_hugene_1_0_st_v1'\n",
       "170. 'affy_hugene_2_0_st_v1'\n",
       "171. 'affy_primeview'\n",
       "172. 'affy_u133_x3p'\n",
       "173. 'agilent_cgh_44b'\n",
       "174. 'agilent_gpl6848'\n",
       "175. 'agilent_sureprint_g3_ge_8x60k'\n",
       "176. 'agilent_sureprint_g3_ge_8x60k_v2'\n",
       "177. 'agilent_wholegenome'\n",
       "178. 'agilent_wholegenome_4x44k_v1'\n",
       "179. 'agilent_wholegenome_4x44k_v2'\n",
       "180. 'codelink_codelink'\n",
       "181. 'illumina_humanht_12_v3'\n",
       "182. 'illumina_humanht_12_v4'\n",
       "183. 'illumina_humanref_8_v3'\n",
       "184. 'illumina_humanwg_6_v1'\n",
       "185. 'illumina_humanwg_6_v2'\n",
       "186. 'illumina_humanwg_6_v3'\n",
       "187. 'phalanx_onearray'\n",
       "188. 'transcript_count_greater_than'\n",
       "189. 'transcript_count_less_than'\n",
       "190. 'biotype'\n",
       "191. 'transcript_biotype'\n",
       "192. 'source'\n",
       "193. 'transcript_source'\n",
       "194. 'transcript_tsl'\n",
       "195. 'transcript_gencode_basic'\n",
       "196. 'transcript_appris'\n",
       "197. 'mane_select'\n",
       "198. 'phenotype_description'\n",
       "199. 'phenotype_source'\n",
       "200. 'go_parent_term'\n",
       "201. 'go_parent_name'\n",
       "202. 'go_evidence_code'\n",
       "203. 'with_hsapiens_paralog'\n",
       "204. 'with_cabingdonii_homolog'\n",
       "205. 'with_gagassizii_homolog'\n",
       "206. 'with_mspretus_homolog'\n",
       "207. 'with_vpacos_homolog'\n",
       "208. 'with_mmarmota_homolog'\n",
       "209. 'with_pformosa_homolog'\n",
       "210. 'with_ccanadensis_homolog'\n",
       "211. 'with_bbison_homolog'\n",
       "212. 'with_uamericanus_homolog'\n",
       "213. 'with_nvison_homolog'\n",
       "214. 'with_cpalliatus_homolog'\n",
       "215. 'with_acarolinensis_homolog'\n",
       "216. 'with_uparryii_homolog'\n",
       "217. 'with_smerianae_homolog'\n",
       "218. 'with_dnovemcinctus_homolog'\n",
       "219. 'with_sformosus_homolog'\n",
       "220. 'with_cporosus_homolog'\n",
       "221. 'with_lbergylta_homolog'\n",
       "222. 'with_lcalcarifer_homolog'\n",
       "223. 'with_ldomestica_homolog'\n",
       "224. 'with_spartitus_homolog'\n",
       "225. 'with_rbieti_homolog'\n",
       "226. 'with_ccaeruleus_homolog'\n",
       "227. 'with_lcoronata_homolog'\n",
       "228. 'with_sboliviensis_homolog'\n",
       "229. 'with_ppaniscus_homolog'\n",
       "230. 'with_caperea_homolog'\n",
       "231. 'with_mundulatus_homolog'\n",
       "232. 'with_hburtoni_homolog'\n",
       "233. 'with_ogarnettii_homolog'\n",
       "234. 'with_cintestinalis_homolog'\n",
       "235. 'with_csavignyi_homolog'\n",
       "236. 'with_celegans_homolog'\n",
       "237. 'with_ccapucinus_homolog'\n",
       "238. 'with_fcatus_homolog'\n",
       "239. 'with_pvitticeps_homolog'\n",
       "240. 'with_ipunctatus_homolog'\n",
       "241. 'with_ggallus_homolog'\n",
       "242. 'with_nperdicaria_homolog'\n",
       "243. 'with_ptroglodytes_homolog'\n",
       "244. 'with_cchok1gshd_homolog'\n",
       "245. 'with_ccrigri_homolog'\n",
       "246. 'with_cpicr_homolog'\n",
       "247. 'with_psinensis_homolog'\n",
       "248. 'with_atestudineus_homolog'\n",
       "249. 'with_aocellaris_homolog'\n",
       "250. 'with_gmorhua_homolog'\n",
       "251. 'with_lchalumnae_homolog'\n",
       "252. 'with_scanaria_homolog'\n",
       "253. 'with_vursinus_homolog'\n",
       "254. 'with_pcoquereli_homolog'\n",
       "255. 'with_btaurus_homolog'\n",
       "256. 'with_mfascicularis_homolog'\n",
       "257. 'with_fdamarensis_homolog'\n",
       "258. 'with_jhyemalis_homolog'\n",
       "259. 'with_sdauricus_homolog'\n",
       "260. 'with_odegus_homolog'\n",
       "261. 'with_cdingo_homolog'\n",
       "262. 'with_cfamiliaris_homolog'\n",
       "263. 'with_ttruncatus_homolog'\n",
       "264. 'with_easinus_homolog'\n",
       "265. 'with_mleucophaeus_homolog'\n",
       "266. 'with_dmelanogaster_homolog'\n",
       "267. 'with_aplatyrhynchos_homolog'\n",
       "268. 'with_acalliptera_homolog'\n",
       "269. 'with_eelectricus_homolog'\n",
       "270. 'with_lafricana_homolog'\n",
       "271. 'with_cmilii_homolog'\n",
       "272. 'with_dnovaehollandiae_homolog'\n",
       "273. 'with_mfuro_homolog'\n",
       "274. 'with_falbicollis_homolog'\n",
       "275. 'with_trubripes_homolog'\n",
       "276. 'with_tgelada_homolog'\n",
       "277. 'with_nleucogenys_homolog'\n",
       "278. 'with_chircus_homolog'\n",
       "279. 'with_mauratus_homolog'\n",
       "280. 'with_rroxellana_homolog'\n",
       "281. 'with_mvitellinus_homolog'\n",
       "282. 'with_ggorilla_homolog'\n",
       "283. 'with_pmajor_homolog'\n",
       "284. 'with_ahaastii_homolog'\n",
       "285. 'with_sdumerili_homolog'\n",
       "286. 'with_psimus_homolog'\n",
       "287. 'with_cporcellus_homolog'\n",
       "288. 'with_preticulata_homolog'\n",
       "289. 'with_eburgeri_homolog'\n",
       "290. 'with_eeuropaeus_homolog'\n",
       "291. 'with_nmeleagris_homolog'\n",
       "292. 'with_ecaballus_homolog'\n",
       "293. 'with_hhucho_homolog'\n",
       "294. 'with_pcapensis_homolog'\n",
       "295. 'with_omelastigma_homolog'\n",
       "296. 'with_ohni_homolog'\n",
       "297. 'with_ohsok_homolog'\n",
       "298. 'with_olatipes_homolog'\n",
       "299. 'with_cjaponica_homolog'\n",
       "300. 'with_dordii_homolog'\n",
       "301. 'with_pcinereus_homolog'\n",
       "302. 'with_pmarinus_homolog'\n",
       "303. 'with_ppardus_homolog'\n",
       "304. 'with_jjaculus_homolog'\n",
       "305. 'with_etelfairi_homolog'\n",
       "306. 'with_aowenii_homolog'\n",
       "307. 'with_clanigera_homolog'\n",
       "308. 'with_nbrichardi_homolog'\n",
       "309. 'with_anancymaae_homolog'\n",
       "310. 'with_mmulatta_homolog'\n",
       "311. 'with_nscutatus_homolog'\n",
       "312. 'with_pnyererei_homolog'\n",
       "313. 'with_kmarmoratus_homolog'\n",
       "314. 'with_cjacchus_homolog'\n",
       "315. 'with_pvampyrus_homolog'\n",
       "316. 'with_amexicanus_homolog'\n",
       "317. 'with_mlucifugus_homolog'\n",
       "318. 'with_acitrinellus_homolog'\n",
       "319. 'with_munguiculatus_homolog'\n",
       "320. 'with_xcouchianus_homolog'\n",
       "321. 'with_mmusculus_homolog'\n",
       "322. 'with_mmurinus_homolog'\n",
       "323. 'with_fheteroclitus_homolog'\n",
       "324. 'with_hfemale_homolog'\n",
       "325. 'with_hmale_homolog'\n",
       "326. 'with_pbairdii_homolog'\n",
       "327. 'with_elucius_homolog'\n",
       "328. 'with_mmola_homolog'\n",
       "329. 'with_arowi_homolog'\n",
       "330. 'with_panubis_homolog'\n",
       "331. 'with_mdomestica_homolog'\n",
       "332. 'with_apercula_homolog'\n",
       "333. 'with_pabelii_homolog'\n",
       "334. 'with_cbellii_homolog'\n",
       "335. 'with_amelanoleuca_homolog'\n",
       "336. 'with_pkingsleyae_homolog'\n",
       "337. 'with_pmagnuspinnatus_homolog'\n",
       "338. 'with_sscrofa_homolog'\n",
       "339. 'with_susmarc_homolog'\n",
       "340. 'with_mnemestrina_homolog'\n",
       "341. 'with_oprinceps_homolog'\n",
       "342. 'with_abrachyrhynchus_homolog'\n",
       "343. 'with_xmaculatus_homolog'\n",
       "344. 'with_oanatinus_homolog'\n",
       "345. 'with_umaritimus_homolog'\n",
       "346. 'with_mochrogaster_homolog'\n",
       "347. 'with_ocuniculus_homolog'\n",
       "348. 'with_rnorvegicus_homolog'\n",
       "349. 'with_vvulpes_homolog'\n",
       "350. 'with_pnattereri_homolog'\n",
       "351. 'with_cpugnax_homolog'\n",
       "352. 'with_mcaroli_homolog'\n",
       "353. 'with_scerevisiae_homolog'\n",
       "354. 'with_platipinna_homolog'\n",
       "355. 'with_oaries_homolog'\n",
       "356. 'with_cvariegatus_homolog'\n",
       "357. 'with_pmexicana_homolog'\n",
       "358. 'with_saraneus_homolog'\n",
       "359. 'with_mpahari_homolog'\n",
       "360. 'with_choffmanni_homolog'\n",
       "361. 'with_catys_homolog'\n",
       "362. 'with_apolyacanthus_homolog'\n",
       "363. 'with_cpygmaea_homolog'\n",
       "364. 'with_loculatus_homolog'\n",
       "365. 'with_itridecemlineatus_homolog'\n",
       "366. 'with_mspicilegus_homolog'\n",
       "367. 'with_gaculeatus_homolog'\n",
       "368. 'with_malbus_homolog'\n",
       "369. 'with_csyrichta_homolog'\n",
       "370. 'with_sharrisii_homolog'\n",
       "371. 'with_tnigroviridis_homolog'\n",
       "372. 'with_paltaica_homolog'\n",
       "373. 'with_hcomes_homolog'\n",
       "374. 'with_oniloticus_homolog'\n",
       "375. 'with_csemilaevis_homolog'\n",
       "376. 'with_tbelangeri_homolog'\n",
       "377. 'with_spunctatus_homolog'\n",
       "378. 'with_smaximus_homolog'\n",
       "379. 'with_mgallopavo_homolog'\n",
       "380. 'with_ptephrosceles_homolog'\n",
       "381. 'with_ngalili_homolog'\n",
       "382. 'with_csabaeus_homolog'\n",
       "383. 'with_neugenii_homolog'\n",
       "384. 'with_gaffinis_homolog'\n",
       "385. 'with_zalbicollis_homolog'\n",
       "386. 'with_bmutus_homolog'\n",
       "387. 'with_xtropicalis_homolog'\n",
       "388. 'with_sdorsalis_homolog'\n",
       "389. 'with_tguttata_homolog'\n",
       "390. 'with_mzebra_homolog'\n",
       "391. 'with_drerio_homolog'\n",
       "392. 'with_marmatus_homolog'\n",
       "393. 'with_interpro'\n",
       "394. 'with_family'\n",
       "395. 'with_cdd'\n",
       "396. 'with_gene3d'\n",
       "397. 'with_hamap'\n",
       "398. 'with_mobidblite'\n",
       "399. 'with_ncoils'\n",
       "400. 'with_hmmpanther'\n",
       "401. 'with_pfam'\n",
       "402. 'with_pirsf'\n",
       "403. 'with_prints'\n",
       "404. 'with_blastprodom'\n",
       "405. 'with_scanprosite'\n",
       "406. 'with_pfscan'\n",
       "407. 'with_seg'\n",
       "408. 'with_sfld'\n",
       "409. 'with_sifts_import'\n",
       "410. 'with_signalp'\n",
       "411. 'with_smart'\n",
       "412. 'with_superfamily'\n",
       "413. 'with_tigrfam'\n",
       "414. 'with_tmhmm'\n",
       "415. 'interpro'\n",
       "416. 'family'\n",
       "417. 'cdd'\n",
       "418. 'gene3d'\n",
       "419. 'hamap'\n",
       "420. 'hmmpanther'\n",
       "421. 'pfam'\n",
       "422. 'pirsf'\n",
       "423. 'prints'\n",
       "424. 'blastprodom'\n",
       "425. 'scanprosite'\n",
       "426. 'pfscan'\n",
       "427. 'sfld'\n",
       "428. 'smart'\n",
       "429. 'superfamily'\n",
       "430. 'tigrfam'\n",
       "431. 'germ_line_variation_source'\n",
       "432. 'somatic_variation_source'\n",
       "433. 'with_validated_snp'\n",
       "434. 'so_mini_parent_name'\n",
       "\n",
       "\n"
      ],
      "text/plain": [
       "  [1] \"chromosome_name\"                      \n",
       "  [2] \"start\"                                \n",
       "  [3] \"end\"                                  \n",
       "  [4] \"band_start\"                           \n",
       "  [5] \"band_end\"                             \n",
       "  [6] \"marker_start\"                         \n",
       "  [7] \"marker_end\"                           \n",
       "  [8] \"encode_region\"                        \n",
       "  [9] \"strand\"                               \n",
       " [10] \"chromosomal_region\"                   \n",
       " [11] \"with_ccds\"                            \n",
       " [12] \"with_chembl\"                          \n",
       " [13] \"with_clone_based_ensembl_gene\"        \n",
       " [14] \"with_clone_based_ensembl_transcript\"  \n",
       " [15] \"with_dbass3\"                          \n",
       " [16] \"with_dbass5\"                          \n",
       " [17] \"with_ens_hs_transcript\"               \n",
       " [18] \"with_ens_hs_translation\"              \n",
       " [19] \"with_entrezgene_trans_name\"           \n",
       " [20] \"with_embl\"                            \n",
       " [21] \"with_arrayexpress\"                    \n",
       " [22] \"with_genedb\"                          \n",
       " [23] \"with_go\"                              \n",
       " [24] \"with_goslim_goa\"                      \n",
       " [25] \"with_hgnc\"                            \n",
       " [26] \"with_hgnc_trans_name\"                 \n",
       " [27] \"with_hpa\"                             \n",
       " [28] \"with_protein_id\"                      \n",
       " [29] \"with_kegg_enzyme\"                     \n",
       " [30] \"with_ens_lrg_gene\"                    \n",
       " [31] \"with_ens_lrg_transcript\"              \n",
       " [32] \"with_merops\"                          \n",
       " [33] \"with_mim_gene\"                        \n",
       " [34] \"with_mim_morbid\"                      \n",
       " [35] \"with_mirbase\"                         \n",
       " [36] \"with_mirbase_trans_name\"              \n",
       " [37] \"with_entrezgene\"                      \n",
       " [38] \"with_pdb\"                             \n",
       " [39] \"with_reactome\"                        \n",
       " [40] \"with_reactome_gene\"                   \n",
       " [41] \"with_reactome_transcript\"             \n",
       " [42] \"with_refseq_mrna\"                     \n",
       " [43] \"with_refseq_mrna_predicted\"           \n",
       " [44] \"with_refseq_ncrna\"                    \n",
       " [45] \"with_refseq_ncrna_predicted\"          \n",
       " [46] \"with_refseq_peptide\"                  \n",
       " [47] \"with_refseq_peptide_predicted\"        \n",
       " [48] \"with_rfam\"                            \n",
       " [49] \"with_rfam_trans_name\"                 \n",
       " [50] \"with_rnacentral\"                      \n",
       " [51] \"with_ucsc\"                            \n",
       " [52] \"with_uniparc\"                         \n",
       " [53] \"with_uniprot_gn\"                      \n",
       " [54] \"with_uniprotswissprot\"                \n",
       " [55] \"with_uniprotsptrembl\"                 \n",
       " [56] \"with_wikigene\"                        \n",
       " [57] \"ensembl_gene_id\"                      \n",
       " [58] \"ensembl_gene_id_version\"              \n",
       " [59] \"ensembl_transcript_id\"                \n",
       " [60] \"ensembl_transcript_id_version\"        \n",
       " [61] \"ensembl_peptide_id\"                   \n",
       " [62] \"ensembl_peptide_id_version\"           \n",
       " [63] \"ensembl_exon_id\"                      \n",
       " [64] \"external_gene_name\"                   \n",
       " [65] \"external_transcript_name\"             \n",
       " [66] \"ccds\"                                 \n",
       " [67] \"chembl\"                               \n",
       " [68] \"clone_based_ensembl_gene\"             \n",
       " [69] \"clone_based_ensembl_transcript\"       \n",
       " [70] \"dbass3_name\"                          \n",
       " [71] \"dbass3_id\"                            \n",
       " [72] \"dbass5_name\"                          \n",
       " [73] \"dbass5_id\"                            \n",
       " [74] \"ens_hs_transcript\"                    \n",
       " [75] \"ens_hs_translation\"                   \n",
       " [76] \"entrezgene_trans_name\"                \n",
       " [77] \"embl\"                                 \n",
       " [78] \"arrayexpress\"                         \n",
       " [79] \"genedb\"                               \n",
       " [80] \"go\"                                   \n",
       " [81] \"goslim_goa\"                           \n",
       " [82] \"hgnc_id\"                              \n",
       " [83] \"hgnc_symbol\"                          \n",
       " [84] \"hgnc_trans_name\"                      \n",
       " [85] \"hpa_accession\"                        \n",
       " [86] \"hpa_id\"                               \n",
       " [87] \"protein_id\"                           \n",
       " [88] \"kegg_enzyme\"                          \n",
       " [89] \"ens_lrg_gene\"                         \n",
       " [90] \"ens_lrg_transcript\"                   \n",
       " [91] \"merops\"                               \n",
       " [92] \"mim_gene_accession\"                   \n",
       " [93] \"mim_morbid_accession\"                 \n",
       " [94] \"mirbase_accession\"                    \n",
       " [95] \"mirbase_id\"                           \n",
       " [96] \"mirbase_trans_name\"                   \n",
       " [97] \"entrezgene_accession\"                 \n",
       " [98] \"entrezgene_id\"                        \n",
       " [99] \"pdb\"                                  \n",
       "[100] \"reactome\"                             \n",
       "[101] \"reactome_gene\"                        \n",
       "[102] \"reactome_transcript\"                  \n",
       "[103] \"refseq_mrna\"                          \n",
       "[104] \"refseq_mrna_predicted\"                \n",
       "[105] \"refseq_ncrna\"                         \n",
       "[106] \"refseq_ncrna_predicted\"               \n",
       "[107] \"refseq_peptide\"                       \n",
       "[108] \"refseq_peptide_predicted\"             \n",
       "[109] \"rfam\"                                 \n",
       "[110] \"rfam_trans_name\"                      \n",
       "[111] \"rnacentral\"                           \n",
       "[112] \"ucsc\"                                 \n",
       "[113] \"uniparc\"                              \n",
       "[114] \"uniprot_gn_symbol\"                    \n",
       "[115] \"uniprot_gn_id\"                        \n",
       "[116] \"uniprotswissprot\"                     \n",
       "[117] \"uniprotsptrembl\"                      \n",
       "[118] \"wikigene_name\"                        \n",
       "[119] \"wikigene_id\"                          \n",
       "[120] \"with_affy_hc_g110\"                    \n",
       "[121] \"with_affy_hg_focus\"                   \n",
       "[122] \"with_affy_hg_u133a\"                   \n",
       "[123] \"with_affy_hg_u133a_2\"                 \n",
       "[124] \"with_affy_hg_u133b\"                   \n",
       "[125] \"with_affy_hg_u133_plus_2\"             \n",
       "[126] \"with_affy_hg_u95a\"                    \n",
       "[127] \"with_affy_hg_u95av2\"                  \n",
       "[128] \"with_affy_hg_u95b\"                    \n",
       "[129] \"with_affy_hg_u95c\"                    \n",
       "[130] \"with_affy_hg_u95d\"                    \n",
       "[131] \"with_affy_hg_u95e\"                    \n",
       "[132] \"with_affy_hta_2_0\"                    \n",
       "[133] \"with_affy_huex_1_0_st_v2\"             \n",
       "[134] \"with_affy_hugenefl\"                   \n",
       "[135] \"with_affy_hugene_1_0_st_v1\"           \n",
       "[136] \"with_affy_hugene_2_0_st_v1\"           \n",
       "[137] \"with_affy_primeview\"                  \n",
       "[138] \"with_affy_u133_x3p\"                   \n",
       "[139] \"with_agilent_cgh_44b\"                 \n",
       "[140] \"with_agilent_gpl6848\"                 \n",
       "[141] \"with_agilent_sureprint_g3_ge_8x60k\"   \n",
       "[142] \"with_agilent_sureprint_g3_ge_8x60k_v2\"\n",
       "[143] \"with_agilent_wholegenome\"             \n",
       "[144] \"with_agilent_wholegenome_4x44k_v1\"    \n",
       "[145] \"with_agilent_wholegenome_4x44k_v2\"    \n",
       "[146] \"with_codelink_codelink\"               \n",
       "[147] \"with_illumina_humanht_12_v3\"          \n",
       "[148] \"with_illumina_humanht_12_v4\"          \n",
       "[149] \"with_illumina_humanref_8_v3\"          \n",
       "[150] \"with_illumina_humanwg_6_v1\"           \n",
       "[151] \"with_illumina_humanwg_6_v2\"           \n",
       "[152] \"with_illumina_humanwg_6_v3\"           \n",
       "[153] \"with_phalanx_onearray\"                \n",
       "[154] \"affy_hc_g110\"                         \n",
       "[155] \"affy_hg_focus\"                        \n",
       "[156] \"affy_hg_u133a\"                        \n",
       "[157] \"affy_hg_u133a_2\"                      \n",
       "[158] \"affy_hg_u133b\"                        \n",
       "[159] \"affy_hg_u133_plus_2\"                  \n",
       "[160] \"affy_hg_u95a\"                         \n",
       "[161] \"affy_hg_u95av2\"                       \n",
       "[162] \"affy_hg_u95b\"                         \n",
       "[163] \"affy_hg_u95c\"                         \n",
       "[164] \"affy_hg_u95d\"                         \n",
       "[165] \"affy_hg_u95e\"                         \n",
       "[166] \"affy_hta_2_0\"                         \n",
       "[167] \"affy_huex_1_0_st_v2\"                  \n",
       "[168] \"affy_hugenefl\"                        \n",
       "[169] \"affy_hugene_1_0_st_v1\"                \n",
       "[170] \"affy_hugene_2_0_st_v1\"                \n",
       "[171] \"affy_primeview\"                       \n",
       "[172] \"affy_u133_x3p\"                        \n",
       "[173] \"agilent_cgh_44b\"                      \n",
       "[174] \"agilent_gpl6848\"                      \n",
       "[175] \"agilent_sureprint_g3_ge_8x60k\"        \n",
       "[176] \"agilent_sureprint_g3_ge_8x60k_v2\"     \n",
       "[177] \"agilent_wholegenome\"                  \n",
       "[178] \"agilent_wholegenome_4x44k_v1\"         \n",
       "[179] \"agilent_wholegenome_4x44k_v2\"         \n",
       "[180] \"codelink_codelink\"                    \n",
       "[181] \"illumina_humanht_12_v3\"               \n",
       "[182] \"illumina_humanht_12_v4\"               \n",
       "[183] \"illumina_humanref_8_v3\"               \n",
       "[184] \"illumina_humanwg_6_v1\"                \n",
       "[185] \"illumina_humanwg_6_v2\"                \n",
       "[186] \"illumina_humanwg_6_v3\"                \n",
       "[187] \"phalanx_onearray\"                     \n",
       "[188] \"transcript_count_greater_than\"        \n",
       "[189] \"transcript_count_less_than\"           \n",
       "[190] \"biotype\"                              \n",
       "[191] \"transcript_biotype\"                   \n",
       "[192] \"source\"                               \n",
       "[193] \"transcript_source\"                    \n",
       "[194] \"transcript_tsl\"                       \n",
       "[195] \"transcript_gencode_basic\"             \n",
       "[196] \"transcript_appris\"                    \n",
       "[197] \"mane_select\"                          \n",
       "[198] \"phenotype_description\"                \n",
       "[199] \"phenotype_source\"                     \n",
       "[200] \"go_parent_term\"                       \n",
       "[201] \"go_parent_name\"                       \n",
       "[202] \"go_evidence_code\"                     \n",
       "[203] \"with_hsapiens_paralog\"                \n",
       "[204] \"with_cabingdonii_homolog\"             \n",
       "[205] \"with_gagassizii_homolog\"              \n",
       "[206] \"with_mspretus_homolog\"                \n",
       "[207] \"with_vpacos_homolog\"                  \n",
       "[208] \"with_mmarmota_homolog\"                \n",
       "[209] \"with_pformosa_homolog\"                \n",
       "[210] \"with_ccanadensis_homolog\"             \n",
       "[211] \"with_bbison_homolog\"                  \n",
       "[212] \"with_uamericanus_homolog\"             \n",
       "[213] \"with_nvison_homolog\"                  \n",
       "[214] \"with_cpalliatus_homolog\"              \n",
       "[215] \"with_acarolinensis_homolog\"           \n",
       "[216] \"with_uparryii_homolog\"                \n",
       "[217] \"with_smerianae_homolog\"               \n",
       "[218] \"with_dnovemcinctus_homolog\"           \n",
       "[219] \"with_sformosus_homolog\"               \n",
       "[220] \"with_cporosus_homolog\"                \n",
       "[221] \"with_lbergylta_homolog\"               \n",
       "[222] \"with_lcalcarifer_homolog\"             \n",
       "[223] \"with_ldomestica_homolog\"              \n",
       "[224] \"with_spartitus_homolog\"               \n",
       "[225] \"with_rbieti_homolog\"                  \n",
       "[226] \"with_ccaeruleus_homolog\"              \n",
       "[227] \"with_lcoronata_homolog\"               \n",
       "[228] \"with_sboliviensis_homolog\"            \n",
       "[229] \"with_ppaniscus_homolog\"               \n",
       "[230] \"with_caperea_homolog\"                 \n",
       "[231] \"with_mundulatus_homolog\"              \n",
       "[232] \"with_hburtoni_homolog\"                \n",
       "[233] \"with_ogarnettii_homolog\"              \n",
       "[234] \"with_cintestinalis_homolog\"           \n",
       "[235] \"with_csavignyi_homolog\"               \n",
       "[236] \"with_celegans_homolog\"                \n",
       "[237] \"with_ccapucinus_homolog\"              \n",
       "[238] \"with_fcatus_homolog\"                  \n",
       "[239] \"with_pvitticeps_homolog\"              \n",
       "[240] \"with_ipunctatus_homolog\"              \n",
       "[241] \"with_ggallus_homolog\"                 \n",
       "[242] \"with_nperdicaria_homolog\"             \n",
       "[243] \"with_ptroglodytes_homolog\"            \n",
       "[244] \"with_cchok1gshd_homolog\"              \n",
       "[245] \"with_ccrigri_homolog\"                 \n",
       "[246] \"with_cpicr_homolog\"                   \n",
       "[247] \"with_psinensis_homolog\"               \n",
       "[248] \"with_atestudineus_homolog\"            \n",
       "[249] \"with_aocellaris_homolog\"              \n",
       "[250] \"with_gmorhua_homolog\"                 \n",
       "[251] \"with_lchalumnae_homolog\"              \n",
       "[252] \"with_scanaria_homolog\"                \n",
       "[253] \"with_vursinus_homolog\"                \n",
       "[254] \"with_pcoquereli_homolog\"              \n",
       "[255] \"with_btaurus_homolog\"                 \n",
       "[256] \"with_mfascicularis_homolog\"           \n",
       "[257] \"with_fdamarensis_homolog\"             \n",
       "[258] \"with_jhyemalis_homolog\"               \n",
       "[259] \"with_sdauricus_homolog\"               \n",
       "[260] \"with_odegus_homolog\"                  \n",
       "[261] \"with_cdingo_homolog\"                  \n",
       "[262] \"with_cfamiliaris_homolog\"             \n",
       "[263] \"with_ttruncatus_homolog\"              \n",
       "[264] \"with_easinus_homolog\"                 \n",
       "[265] \"with_mleucophaeus_homolog\"            \n",
       "[266] \"with_dmelanogaster_homolog\"           \n",
       "[267] \"with_aplatyrhynchos_homolog\"          \n",
       "[268] \"with_acalliptera_homolog\"             \n",
       "[269] \"with_eelectricus_homolog\"             \n",
       "[270] \"with_lafricana_homolog\"               \n",
       "[271] \"with_cmilii_homolog\"                  \n",
       "[272] \"with_dnovaehollandiae_homolog\"        \n",
       "[273] \"with_mfuro_homolog\"                   \n",
       "[274] \"with_falbicollis_homolog\"             \n",
       "[275] \"with_trubripes_homolog\"               \n",
       "[276] \"with_tgelada_homolog\"                 \n",
       "[277] \"with_nleucogenys_homolog\"             \n",
       "[278] \"with_chircus_homolog\"                 \n",
       "[279] \"with_mauratus_homolog\"                \n",
       "[280] \"with_rroxellana_homolog\"              \n",
       "[281] \"with_mvitellinus_homolog\"             \n",
       "[282] \"with_ggorilla_homolog\"                \n",
       "[283] \"with_pmajor_homolog\"                  \n",
       "[284] \"with_ahaastii_homolog\"                \n",
       "[285] \"with_sdumerili_homolog\"               \n",
       "[286] \"with_psimus_homolog\"                  \n",
       "[287] \"with_cporcellus_homolog\"              \n",
       "[288] \"with_preticulata_homolog\"             \n",
       "[289] \"with_eburgeri_homolog\"                \n",
       "[290] \"with_eeuropaeus_homolog\"              \n",
       "[291] \"with_nmeleagris_homolog\"              \n",
       "[292] \"with_ecaballus_homolog\"               \n",
       "[293] \"with_hhucho_homolog\"                  \n",
       "[294] \"with_pcapensis_homolog\"               \n",
       "[295] \"with_omelastigma_homolog\"             \n",
       "[296] \"with_ohni_homolog\"                    \n",
       "[297] \"with_ohsok_homolog\"                   \n",
       "[298] \"with_olatipes_homolog\"                \n",
       "[299] \"with_cjaponica_homolog\"               \n",
       "[300] \"with_dordii_homolog\"                  \n",
       "[301] \"with_pcinereus_homolog\"               \n",
       "[302] \"with_pmarinus_homolog\"                \n",
       "[303] \"with_ppardus_homolog\"                 \n",
       "[304] \"with_jjaculus_homolog\"                \n",
       "[305] \"with_etelfairi_homolog\"               \n",
       "[306] \"with_aowenii_homolog\"                 \n",
       "[307] \"with_clanigera_homolog\"               \n",
       "[308] \"with_nbrichardi_homolog\"              \n",
       "[309] \"with_anancymaae_homolog\"              \n",
       "[310] \"with_mmulatta_homolog\"                \n",
       "[311] \"with_nscutatus_homolog\"               \n",
       "[312] \"with_pnyererei_homolog\"               \n",
       "[313] \"with_kmarmoratus_homolog\"             \n",
       "[314] \"with_cjacchus_homolog\"                \n",
       "[315] \"with_pvampyrus_homolog\"               \n",
       "[316] \"with_amexicanus_homolog\"              \n",
       "[317] \"with_mlucifugus_homolog\"              \n",
       "[318] \"with_acitrinellus_homolog\"            \n",
       "[319] \"with_munguiculatus_homolog\"           \n",
       "[320] \"with_xcouchianus_homolog\"             \n",
       "[321] \"with_mmusculus_homolog\"               \n",
       "[322] \"with_mmurinus_homolog\"                \n",
       "[323] \"with_fheteroclitus_homolog\"           \n",
       "[324] \"with_hfemale_homolog\"                 \n",
       "[325] \"with_hmale_homolog\"                   \n",
       "[326] \"with_pbairdii_homolog\"                \n",
       "[327] \"with_elucius_homolog\"                 \n",
       "[328] \"with_mmola_homolog\"                   \n",
       "[329] \"with_arowi_homolog\"                   \n",
       "[330] \"with_panubis_homolog\"                 \n",
       "[331] \"with_mdomestica_homolog\"              \n",
       "[332] \"with_apercula_homolog\"                \n",
       "[333] \"with_pabelii_homolog\"                 \n",
       "[334] \"with_cbellii_homolog\"                 \n",
       "[335] \"with_amelanoleuca_homolog\"            \n",
       "[336] \"with_pkingsleyae_homolog\"             \n",
       "[337] \"with_pmagnuspinnatus_homolog\"         \n",
       "[338] \"with_sscrofa_homolog\"                 \n",
       "[339] \"with_susmarc_homolog\"                 \n",
       "[340] \"with_mnemestrina_homolog\"             \n",
       "[341] \"with_oprinceps_homolog\"               \n",
       "[342] \"with_abrachyrhynchus_homolog\"         \n",
       "[343] \"with_xmaculatus_homolog\"              \n",
       "[344] \"with_oanatinus_homolog\"               \n",
       "[345] \"with_umaritimus_homolog\"              \n",
       "[346] \"with_mochrogaster_homolog\"            \n",
       "[347] \"with_ocuniculus_homolog\"              \n",
       "[348] \"with_rnorvegicus_homolog\"             \n",
       "[349] \"with_vvulpes_homolog\"                 \n",
       "[350] \"with_pnattereri_homolog\"              \n",
       "[351] \"with_cpugnax_homolog\"                 \n",
       "[352] \"with_mcaroli_homolog\"                 \n",
       "[353] \"with_scerevisiae_homolog\"             \n",
       "[354] \"with_platipinna_homolog\"              \n",
       "[355] \"with_oaries_homolog\"                  \n",
       "[356] \"with_cvariegatus_homolog\"             \n",
       "[357] \"with_pmexicana_homolog\"               \n",
       "[358] \"with_saraneus_homolog\"                \n",
       "[359] \"with_mpahari_homolog\"                 \n",
       "[360] \"with_choffmanni_homolog\"              \n",
       "[361] \"with_catys_homolog\"                   \n",
       "[362] \"with_apolyacanthus_homolog\"           \n",
       "[363] \"with_cpygmaea_homolog\"                \n",
       "[364] \"with_loculatus_homolog\"               \n",
       "[365] \"with_itridecemlineatus_homolog\"       \n",
       "[366] \"with_mspicilegus_homolog\"             \n",
       "[367] \"with_gaculeatus_homolog\"              \n",
       "[368] \"with_malbus_homolog\"                  \n",
       "[369] \"with_csyrichta_homolog\"               \n",
       "[370] \"with_sharrisii_homolog\"               \n",
       "[371] \"with_tnigroviridis_homolog\"           \n",
       "[372] \"with_paltaica_homolog\"                \n",
       "[373] \"with_hcomes_homolog\"                  \n",
       "[374] \"with_oniloticus_homolog\"              \n",
       "[375] \"with_csemilaevis_homolog\"             \n",
       "[376] \"with_tbelangeri_homolog\"              \n",
       "[377] \"with_spunctatus_homolog\"              \n",
       "[378] \"with_smaximus_homolog\"                \n",
       "[379] \"with_mgallopavo_homolog\"              \n",
       "[380] \"with_ptephrosceles_homolog\"           \n",
       "[381] \"with_ngalili_homolog\"                 \n",
       "[382] \"with_csabaeus_homolog\"                \n",
       "[383] \"with_neugenii_homolog\"                \n",
       "[384] \"with_gaffinis_homolog\"                \n",
       "[385] \"with_zalbicollis_homolog\"             \n",
       "[386] \"with_bmutus_homolog\"                  \n",
       "[387] \"with_xtropicalis_homolog\"             \n",
       "[388] \"with_sdorsalis_homolog\"               \n",
       "[389] \"with_tguttata_homolog\"                \n",
       "[390] \"with_mzebra_homolog\"                  \n",
       "[391] \"with_drerio_homolog\"                  \n",
       "[392] \"with_marmatus_homolog\"                \n",
       "[393] \"with_interpro\"                        \n",
       "[394] \"with_family\"                          \n",
       "[395] \"with_cdd\"                             \n",
       "[396] \"with_gene3d\"                          \n",
       "[397] \"with_hamap\"                           \n",
       "[398] \"with_mobidblite\"                      \n",
       "[399] \"with_ncoils\"                          \n",
       "[400] \"with_hmmpanther\"                      \n",
       "[401] \"with_pfam\"                            \n",
       "[402] \"with_pirsf\"                           \n",
       "[403] \"with_prints\"                          \n",
       "[404] \"with_blastprodom\"                     \n",
       "[405] \"with_scanprosite\"                     \n",
       "[406] \"with_pfscan\"                          \n",
       "[407] \"with_seg\"                             \n",
       "[408] \"with_sfld\"                            \n",
       "[409] \"with_sifts_import\"                    \n",
       "[410] \"with_signalp\"                         \n",
       "[411] \"with_smart\"                           \n",
       "[412] \"with_superfamily\"                     \n",
       "[413] \"with_tigrfam\"                         \n",
       "[414] \"with_tmhmm\"                           \n",
       "[415] \"interpro\"                             \n",
       "[416] \"family\"                               \n",
       "[417] \"cdd\"                                  \n",
       "[418] \"gene3d\"                               \n",
       "[419] \"hamap\"                                \n",
       "[420] \"hmmpanther\"                           \n",
       "[421] \"pfam\"                                 \n",
       "[422] \"pirsf\"                                \n",
       "[423] \"prints\"                               \n",
       "[424] \"blastprodom\"                          \n",
       "[425] \"scanprosite\"                          \n",
       "[426] \"pfscan\"                               \n",
       "[427] \"sfld\"                                 \n",
       "[428] \"smart\"                                \n",
       "[429] \"superfamily\"                          \n",
       "[430] \"tigrfam\"                              \n",
       "[431] \"germ_line_variation_source\"           \n",
       "[432] \"somatic_variation_source\"             \n",
       "[433] \"with_validated_snp\"                   \n",
       "[434] \"so_mini_parent_name\"                  "
      ]
     },
     "metadata": {},
     "output_type": "display_data"
    }
   ],
   "source": [
    "listFilters(mart)$name"
   ]
  },
  {
   "cell_type": "code",
   "execution_count": null,
   "metadata": {},
   "outputs": [],
   "source": []
  },
  {
   "cell_type": "code",
   "execution_count": null,
   "metadata": {},
   "outputs": [],
   "source": []
  },
  {
   "cell_type": "markdown",
   "metadata": {},
   "source": [
    "refseq_mrnaでやってみる"
   ]
  },
  {
   "cell_type": "code",
   "execution_count": 45,
   "metadata": {},
   "outputs": [],
   "source": [
    "#アノテーション情報取得結果をhogeに格納\n",
    "out <- getBM(attributes=param_attribute, filters=\"refseq_mrna\", values=list(TRUE), mart=mart)"
   ]
  },
  {
   "cell_type": "code",
   "execution_count": 46,
   "metadata": {},
   "outputs": [
    {
     "data": {
      "text/html": [
       "<table>\n",
       "<caption>A data.frame: 0 × 3</caption>\n",
       "<thead>\n",
       "\t<tr><th scope=col>refseq_mrna</th><th scope=col>hgnc_symbol</th><th scope=col>go_id</th></tr>\n",
       "\t<tr><th scope=col>&lt;lgl&gt;</th><th scope=col>&lt;lgl&gt;</th><th scope=col>&lt;lgl&gt;</th></tr>\n",
       "</thead>\n",
       "<tbody>\n",
       "</tbody>\n",
       "</table>\n"
      ],
      "text/latex": [
       "A data.frame: 0 × 3\n",
       "\\begin{tabular}{r|lll}\n",
       " refseq\\_mrna & hgnc\\_symbol & go\\_id\\\\\n",
       " <lgl> & <lgl> & <lgl>\\\\\n",
       "\\hline\n",
       "\\end{tabular}\n"
      ],
      "text/markdown": [
       "\n",
       "A data.frame: 0 × 3\n",
       "\n",
       "| refseq_mrna &lt;lgl&gt; | hgnc_symbol &lt;lgl&gt; | go_id &lt;lgl&gt; |\n",
       "|---|---|---|\n",
       "\n"
      ],
      "text/plain": [
       "     refseq_mrna hgnc_symbol go_id"
      ]
     },
     "metadata": {},
     "output_type": "display_data"
    }
   ],
   "source": [
    "head(out)"
   ]
  },
  {
   "cell_type": "code",
   "execution_count": 47,
   "metadata": {},
   "outputs": [],
   "source": [
    "#outの中身が何もない"
   ]
  },
  {
   "cell_type": "code",
   "execution_count": 41,
   "metadata": {},
   "outputs": [],
   "source": [
    "#ファイルに保存\n",
    "\n",
    "#outの中身を指定したファイル名で保存\n",
    "write.table(out, out_f, sep=\"\\t\", append=F, quote=F, row.names=F)"
   ]
  },
  {
   "cell_type": "code",
   "execution_count": null,
   "metadata": {},
   "outputs": [],
   "source": []
  },
  {
   "cell_type": "code",
   "execution_count": null,
   "metadata": {},
   "outputs": [],
   "source": []
  },
  {
   "cell_type": "markdown",
   "metadata": {},
   "source": [
    "代わりにこれでやってみる"
   ]
  },
  {
   "cell_type": "code",
   "execution_count": 51,
   "metadata": {},
   "outputs": [
    {
     "ename": "ERROR",
     "evalue": "Error in curl::curl_fetch_memory(url, handle = handle): transfer closed with outstanding read data remaining\n",
     "output_type": "error",
     "traceback": [
      "Error in curl::curl_fetch_memory(url, handle = handle): transfer closed with outstanding read data remaining\nTraceback:\n",
      "1. getBM(attributes = param_attribute, filters = \"\", values = \"\", \n .     mart = mart)",
      "2. .submitQueryXML(host = paste0(martHost(mart), sep), query = fullXmlQuery)",
      "3. httr::POST(url = host, body = list(query = query), set_cookies(.cookies = c(redirect_mirror = \"no\")), \n .     timeout(600))",
      "4. request_perform(req, hu$handle$handle)",
      "5. request_fetch(req$output, req$url, handle)",
      "6. request_fetch.write_memory(req$output, req$url, handle)",
      "7. curl::curl_fetch_memory(url, handle = handle)"
     ]
    }
   ],
   "source": [
    "out <- getBM(attributes=param_attribute, filters=\"\", values=\"\", mart=mart)"
   ]
  },
  {
   "cell_type": "code",
   "execution_count": 49,
   "metadata": {},
   "outputs": [
    {
     "data": {
      "text/html": [
       "<table>\n",
       "<caption>A data.frame: 0 × 3</caption>\n",
       "<thead>\n",
       "\t<tr><th scope=col>refseq_mrna</th><th scope=col>hgnc_symbol</th><th scope=col>go_id</th></tr>\n",
       "\t<tr><th scope=col>&lt;lgl&gt;</th><th scope=col>&lt;lgl&gt;</th><th scope=col>&lt;lgl&gt;</th></tr>\n",
       "</thead>\n",
       "<tbody>\n",
       "</tbody>\n",
       "</table>\n"
      ],
      "text/latex": [
       "A data.frame: 0 × 3\n",
       "\\begin{tabular}{r|lll}\n",
       " refseq\\_mrna & hgnc\\_symbol & go\\_id\\\\\n",
       " <lgl> & <lgl> & <lgl>\\\\\n",
       "\\hline\n",
       "\\end{tabular}\n"
      ],
      "text/markdown": [
       "\n",
       "A data.frame: 0 × 3\n",
       "\n",
       "| refseq_mrna &lt;lgl&gt; | hgnc_symbol &lt;lgl&gt; | go_id &lt;lgl&gt; |\n",
       "|---|---|---|\n",
       "\n"
      ],
      "text/plain": [
       "     refseq_mrna hgnc_symbol go_id"
      ]
     },
     "metadata": {},
     "output_type": "display_data"
    }
   ],
   "source": [
    "#outの確認\n",
    "out"
   ]
  },
  {
   "cell_type": "code",
   "execution_count": 52,
   "metadata": {},
   "outputs": [
    {
     "data": {
      "text/html": [
       "<ol class=list-inline>\n",
       "\t<li>0</li>\n",
       "\t<li>3</li>\n",
       "</ol>\n"
      ],
      "text/latex": [
       "\\begin{enumerate*}\n",
       "\\item 0\n",
       "\\item 3\n",
       "\\end{enumerate*}\n"
      ],
      "text/markdown": [
       "1. 0\n",
       "2. 3\n",
       "\n",
       "\n"
      ],
      "text/plain": [
       "[1] 0 3"
      ]
     },
     "metadata": {},
     "output_type": "display_data"
    }
   ],
   "source": [
    "dim(out)"
   ]
  },
  {
   "cell_type": "code",
   "execution_count": null,
   "metadata": {},
   "outputs": [],
   "source": [
    "out[1:15,]"
   ]
  },
  {
   "cell_type": "code",
   "execution_count": null,
   "metadata": {},
   "outputs": [],
   "source": []
  },
  {
   "cell_type": "code",
   "execution_count": 53,
   "metadata": {},
   "outputs": [
    {
     "data": {
      "text/html": [
       "<ol class=list-inline>\n",
       "\t<li>434</li>\n",
       "\t<li>2</li>\n",
       "</ol>\n"
      ],
      "text/latex": [
       "\\begin{enumerate*}\n",
       "\\item 434\n",
       "\\item 2\n",
       "\\end{enumerate*}\n"
      ],
      "text/markdown": [
       "1. 434\n",
       "2. 2\n",
       "\n",
       "\n"
      ],
      "text/plain": [
       "[1] 434   2"
      ]
     },
     "metadata": {},
     "output_type": "display_data"
    }
   ],
   "source": [
    "dim(listFilters(mart))"
   ]
  },
  {
   "cell_type": "code",
   "execution_count": 54,
   "metadata": {},
   "outputs": [
    {
     "data": {
      "text/html": [
       "<table>\n",
       "<caption>A data.frame: 6 × 2</caption>\n",
       "<thead>\n",
       "\t<tr><th scope=col>name</th><th scope=col>description</th></tr>\n",
       "\t<tr><th scope=col>&lt;chr&gt;</th><th scope=col>&lt;chr&gt;</th></tr>\n",
       "</thead>\n",
       "<tbody>\n",
       "\t<tr><td>chromosome_name</td><td>Chromosome/scaffold name</td></tr>\n",
       "\t<tr><td>start          </td><td>Start                   </td></tr>\n",
       "\t<tr><td>end            </td><td>End                     </td></tr>\n",
       "\t<tr><td>band_start     </td><td>Band Start              </td></tr>\n",
       "\t<tr><td>band_end       </td><td>Band End                </td></tr>\n",
       "\t<tr><td>marker_start   </td><td>Marker Start            </td></tr>\n",
       "</tbody>\n",
       "</table>\n"
      ],
      "text/latex": [
       "A data.frame: 6 × 2\n",
       "\\begin{tabular}{r|ll}\n",
       " name & description\\\\\n",
       " <chr> & <chr>\\\\\n",
       "\\hline\n",
       "\t chromosome\\_name & Chromosome/scaffold name\\\\\n",
       "\t start           & Start                   \\\\\n",
       "\t end             & End                     \\\\\n",
       "\t band\\_start      & Band Start              \\\\\n",
       "\t band\\_end        & Band End                \\\\\n",
       "\t marker\\_start    & Marker Start            \\\\\n",
       "\\end{tabular}\n"
      ],
      "text/markdown": [
       "\n",
       "A data.frame: 6 × 2\n",
       "\n",
       "| name &lt;chr&gt; | description &lt;chr&gt; |\n",
       "|---|---|\n",
       "| chromosome_name | Chromosome/scaffold name |\n",
       "| start           | Start                    |\n",
       "| end             | End                      |\n",
       "| band_start      | Band Start               |\n",
       "| band_end        | Band End                 |\n",
       "| marker_start    | Marker Start             |\n",
       "\n"
      ],
      "text/plain": [
       "  name            description             \n",
       "1 chromosome_name Chromosome/scaffold name\n",
       "2 start           Start                   \n",
       "3 end             End                     \n",
       "4 band_start      Band Start              \n",
       "5 band_end        Band End                \n",
       "6 marker_start    Marker Start            "
      ]
     },
     "metadata": {},
     "output_type": "display_data"
    }
   ],
   "source": [
    "head(listFilters(mart))"
   ]
  },
  {
   "cell_type": "code",
   "execution_count": 55,
   "metadata": {},
   "outputs": [
    {
     "data": {
      "text/html": [
       "<table>\n",
       "<caption>A data.frame: 2 × 2</caption>\n",
       "<thead>\n",
       "\t<tr><th></th><th scope=col>name</th><th scope=col>description</th></tr>\n",
       "\t<tr><th></th><th scope=col>&lt;chr&gt;</th><th scope=col>&lt;chr&gt;</th></tr>\n",
       "</thead>\n",
       "<tbody>\n",
       "\t<tr><th scope=row>97</th><td>entrezgene_accession</td><td>NCBI gene accession(s) [e.g. A1BG]</td></tr>\n",
       "\t<tr><th scope=row>137</th><td>with_affy_primeview </td><td>With AFFY PrimeView probe ID(s)   </td></tr>\n",
       "</tbody>\n",
       "</table>\n"
      ],
      "text/latex": [
       "A data.frame: 2 × 2\n",
       "\\begin{tabular}{r|ll}\n",
       "  & name & description\\\\\n",
       "  & <chr> & <chr>\\\\\n",
       "\\hline\n",
       "\t97 & entrezgene\\_accession & NCBI gene accession(s) {[}e.g. A1BG{]}\\\\\n",
       "\t137 & with\\_affy\\_primeview  & With AFFY PrimeView probe ID(s)   \\\\\n",
       "\\end{tabular}\n"
      ],
      "text/markdown": [
       "\n",
       "A data.frame: 2 × 2\n",
       "\n",
       "| <!--/--> | name &lt;chr&gt; | description &lt;chr&gt; |\n",
       "|---|---|---|\n",
       "| 97 | entrezgene_accession | NCBI gene accession(s) [e.g. A1BG] |\n",
       "| 137 | with_affy_primeview  | With AFFY PrimeView probe ID(s)    |\n",
       "\n"
      ],
      "text/plain": [
       "    name                 description                       \n",
       "97  entrezgene_accession NCBI gene accession(s) [e.g. A1BG]\n",
       "137 with_affy_primeview  With AFFY PrimeView probe ID(s)   "
      ]
     },
     "metadata": {},
     "output_type": "display_data"
    }
   ],
   "source": [
    "listFilters(mart)[c(97,137),]"
   ]
  },
  {
   "cell_type": "code",
   "execution_count": 58,
   "metadata": {},
   "outputs": [
    {
     "data": {
      "text/html": [
       "<table>\n",
       "<caption>A data.frame: 1 × 2</caption>\n",
       "<thead>\n",
       "\t<tr><th></th><th scope=col>name</th><th scope=col>description</th></tr>\n",
       "\t<tr><th></th><th scope=col>&lt;chr&gt;</th><th scope=col>&lt;chr&gt;</th></tr>\n",
       "</thead>\n",
       "<tbody>\n",
       "\t<tr><th scope=row>103</th><td>refseq_mrna</td><td>RefSeq mRNA ID(s) [e.g. NM_000014]</td></tr>\n",
       "</tbody>\n",
       "</table>\n"
      ],
      "text/latex": [
       "A data.frame: 1 × 2\n",
       "\\begin{tabular}{r|ll}\n",
       "  & name & description\\\\\n",
       "  & <chr> & <chr>\\\\\n",
       "\\hline\n",
       "\t103 & refseq\\_mrna & RefSeq mRNA ID(s) {[}e.g. NM\\_000014{]}\\\\\n",
       "\\end{tabular}\n"
      ],
      "text/markdown": [
       "\n",
       "A data.frame: 1 × 2\n",
       "\n",
       "| <!--/--> | name &lt;chr&gt; | description &lt;chr&gt; |\n",
       "|---|---|---|\n",
       "| 103 | refseq_mrna | RefSeq mRNA ID(s) [e.g. NM_000014] |\n",
       "\n"
      ],
      "text/plain": [
       "    name        description                       \n",
       "103 refseq_mrna RefSeq mRNA ID(s) [e.g. NM_000014]"
      ]
     },
     "metadata": {},
     "output_type": "display_data"
    }
   ],
   "source": [
    "listFilters(mart)[103,]"
   ]
  },
  {
   "cell_type": "code",
   "execution_count": null,
   "metadata": {},
   "outputs": [],
   "source": []
  },
  {
   "cell_type": "code",
   "execution_count": null,
   "metadata": {},
   "outputs": [],
   "source": []
  },
  {
   "cell_type": "code",
   "execution_count": null,
   "metadata": {},
   "outputs": [],
   "source": []
  },
  {
   "cell_type": "code",
   "execution_count": 60,
   "metadata": {},
   "outputs": [
    {
     "ename": "ERROR",
     "evalue": "Error in curl::curl_fetch_memory(url, handle = handle): transfer closed with outstanding read data remaining\n",
     "output_type": "error",
     "traceback": [
      "Error in curl::curl_fetch_memory(url, handle = handle): transfer closed with outstanding read data remaining\nTraceback:\n",
      "1. getBM(attributes = param_attribute, mart = mart)",
      "2. .submitQueryXML(host = paste0(martHost(mart), sep), query = fullXmlQuery)",
      "3. httr::POST(url = host, body = list(query = query), set_cookies(.cookies = c(redirect_mirror = \"no\")), \n .     timeout(600))",
      "4. request_perform(req, hu$handle$handle)",
      "5. request_fetch(req$output, req$url, handle)",
      "6. request_fetch.write_memory(req$output, req$url, handle)",
      "7. curl::curl_fetch_memory(url, handle = handle)"
     ]
    }
   ],
   "source": [
    "out <- getBM(attributes=param_attribute, mart=mart)"
   ]
  },
  {
   "cell_type": "code",
   "execution_count": null,
   "metadata": {},
   "outputs": [],
   "source": [
    "#行列outの1列目の情報が存在するもののみフィルタリング\n",
    "out <- subset(out, refseq_mrna != \"\")"
   ]
  },
  {
   "cell_type": "code",
   "execution_count": null,
   "metadata": {},
   "outputs": [],
   "source": [
    "dim(out)"
   ]
  },
  {
   "cell_type": "code",
   "execution_count": null,
   "metadata": {},
   "outputs": [],
   "source": [
    "out[1:10,]"
   ]
  },
  {
   "cell_type": "code",
   "execution_count": null,
   "metadata": {},
   "outputs": [],
   "source": []
  },
  {
   "cell_type": "code",
   "execution_count": null,
   "metadata": {},
   "outputs": [],
   "source": []
  },
  {
   "cell_type": "code",
   "execution_count": null,
   "metadata": {},
   "outputs": [],
   "source": []
  },
  {
   "cell_type": "code",
   "execution_count": null,
   "metadata": {},
   "outputs": [],
   "source": []
  },
  {
   "cell_type": "code",
   "execution_count": null,
   "metadata": {},
   "outputs": [],
   "source": []
  },
  {
   "cell_type": "code",
   "execution_count": null,
   "metadata": {},
   "outputs": [],
   "source": []
  },
  {
   "cell_type": "code",
   "execution_count": null,
   "metadata": {},
   "outputs": [],
   "source": []
  },
  {
   "cell_type": "markdown",
   "metadata": {},
   "source": [
    "### 20190812"
   ]
  },
  {
   "cell_type": "markdown",
   "metadata": {},
   "source": [
    "### 2.3.4　マッピング（準備）"
   ]
  },
  {
   "cell_type": "code",
   "execution_count": 1,
   "metadata": {},
   "outputs": [],
   "source": [
    "enkichikan <- function(fa, p) {        #関数名や引数の作成\n",
    "    t <- substring(fa, p, p)           #置換したい位置の塩基を取りだす\n",
    "    t_c <- chartr(\"CGAT\", \"GCTA\", t)   #置換後の塩基を作成\n",
    "    substring(fa, p, p) <- t_c         #置換\n",
    "    return(fa)                         #置換後のデータを返す\n",
    "}"
   ]
  },
  {
   "cell_type": "code",
   "execution_count": 2,
   "metadata": {},
   "outputs": [
    {
     "data": {
      "text/html": [
       "'CGGTACG'"
      ],
      "text/latex": [
       "'CGGTACG'"
      ],
      "text/markdown": [
       "'CGGTACG'"
      ],
      "text/plain": [
       "[1] \"CGGTACG\""
      ]
     },
     "metadata": {},
     "output_type": "display_data"
    }
   ],
   "source": [
    "enkichikan(\"CCGTACG\", 2)"
   ]
  },
  {
   "cell_type": "code",
   "execution_count": null,
   "metadata": {},
   "outputs": [],
   "source": []
  },
  {
   "cell_type": "markdown",
   "metadata": {},
   "source": [
    "参考：https://stats.biopapyrus.jp/r/basic/string.html"
   ]
  },
  {
   "cell_type": "code",
   "execution_count": null,
   "metadata": {},
   "outputs": [],
   "source": [
    "#部分文字列の切り出し\n",
    "substring(文字列 , 要素の最初の位置, 要素の最後の位置) "
   ]
  },
  {
   "cell_type": "code",
   "execution_count": 16,
   "metadata": {},
   "outputs": [],
   "source": [
    "#chartr は一文字ずつの置換を行う関数"
   ]
  },
  {
   "cell_type": "code",
   "execution_count": null,
   "metadata": {},
   "outputs": [],
   "source": []
  },
  {
   "cell_type": "code",
   "execution_count": null,
   "metadata": {},
   "outputs": [],
   "source": []
  },
  {
   "cell_type": "code",
   "execution_count": null,
   "metadata": {},
   "outputs": [],
   "source": []
  },
  {
   "cell_type": "code",
   "execution_count": 3,
   "metadata": {},
   "outputs": [],
   "source": [
    "out_f <- \"ref_genome.fa\"               #出力ファイル名を指定してout_fに格納\n",
    "param1 <- c(48, 160, 100, 123)         #配列長を指定\n",
    "narabi <- c(\"A\",\"C\",\"G\",\"T\")           #ACGTの並びを指定\n",
    "param2 <- c(28, 22, 26, 24)            #(A,C,G,Tの並びで)各塩基の存在比率を指定\n",
    "param3 <- \"chr\"                        #FASTA形式ファイルのdescription部分を指定\n",
    "param4 <- 3                            #コピーを作成したい配列番号を指定\n",
    "param5 <- c(2, 7)                      #コピー先配列の塩基置換したい位置を指定"
   ]
  },
  {
   "cell_type": "code",
   "execution_count": 1,
   "metadata": {},
   "outputs": [
    {
     "name": "stderr",
     "output_type": "stream",
     "text": [
      "Loading required package: BiocGenerics\n",
      "Loading required package: parallel\n",
      "Warning message in sample.int(.Machine$integer.max - 1L, 1L):\n",
      "“ '.Random.seed[1]' が有効な整数値ではないため、無視されました ”\n",
      "Attaching package: ‘BiocGenerics’\n",
      "\n",
      "The following objects are masked from ‘package:parallel’:\n",
      "\n",
      "    clusterApply, clusterApplyLB, clusterCall, clusterEvalQ,\n",
      "    clusterExport, clusterMap, parApply, parCapply, parLapply,\n",
      "    parLapplyLB, parRapply, parSapply, parSapplyLB\n",
      "\n",
      "The following objects are masked from ‘package:stats’:\n",
      "\n",
      "    IQR, mad, sd, var, xtabs\n",
      "\n",
      "The following objects are masked from ‘package:base’:\n",
      "\n",
      "    anyDuplicated, append, as.data.frame, basename, cbind, colMeans,\n",
      "    colnames, colSums, dirname, do.call, duplicated, eval, evalq,\n",
      "    Filter, Find, get, grep, grepl, intersect, is.unsorted, lapply,\n",
      "    lengths, Map, mapply, match, mget, order, paste, pmax, pmax.int,\n",
      "    pmin, pmin.int, Position, rank, rbind, Reduce, rowMeans, rownames,\n",
      "    rowSums, sapply, setdiff, sort, table, tapply, union, unique,\n",
      "    unsplit, which, which.max, which.min\n",
      "\n",
      "Loading required package: S4Vectors\n",
      "Loading required package: stats4\n",
      "\n",
      "Attaching package: ‘S4Vectors’\n",
      "\n",
      "The following object is masked from ‘package:base’:\n",
      "\n",
      "    expand.grid\n",
      "\n",
      "Loading required package: IRanges\n",
      "Loading required package: XVector\n",
      "\n",
      "Attaching package: ‘Biostrings’\n",
      "\n",
      "The following object is masked from ‘package:base’:\n",
      "\n",
      "    strsplit\n",
      "\n"
     ]
    }
   ],
   "source": [
    "library(Biostrings)"
   ]
  },
  {
   "cell_type": "code",
   "execution_count": 5,
   "metadata": {},
   "outputs": [
    {
     "name": "stderr",
     "output_type": "stream",
     "text": [
      "Warning message in set.seed(1000):\n",
      "“ '.Random.seed[1]' が有効な整数値ではないため、無視されました ”"
     ]
    }
   ],
   "source": [
    "#chr1-4の生成\n",
    "set.seed(1000)                         #おまじない(同じ乱数になるようにするため)\n",
    "ACGTset <- rep(narabi, param2)         #文字列ベクトルACGTsetを作成\n",
    "hoge <- NULL                           #hogeというプレースホルダの作成"
   ]
  },
  {
   "cell_type": "code",
   "execution_count": 17,
   "metadata": {},
   "outputs": [
    {
     "data": {
      "text/html": [
       "<ol class=list-inline>\n",
       "\t<li>'A'</li>\n",
       "\t<li>'A'</li>\n",
       "\t<li>'A'</li>\n",
       "\t<li>'A'</li>\n",
       "\t<li>'A'</li>\n",
       "\t<li>'A'</li>\n",
       "\t<li>'A'</li>\n",
       "\t<li>'A'</li>\n",
       "\t<li>'A'</li>\n",
       "\t<li>'A'</li>\n",
       "\t<li>'A'</li>\n",
       "\t<li>'A'</li>\n",
       "\t<li>'A'</li>\n",
       "\t<li>'A'</li>\n",
       "\t<li>'A'</li>\n",
       "\t<li>'A'</li>\n",
       "\t<li>'A'</li>\n",
       "\t<li>'A'</li>\n",
       "\t<li>'A'</li>\n",
       "\t<li>'A'</li>\n",
       "\t<li>'A'</li>\n",
       "\t<li>'A'</li>\n",
       "\t<li>'A'</li>\n",
       "\t<li>'A'</li>\n",
       "\t<li>'A'</li>\n",
       "\t<li>'A'</li>\n",
       "\t<li>'A'</li>\n",
       "\t<li>'A'</li>\n",
       "\t<li>'C'</li>\n",
       "\t<li>'C'</li>\n",
       "\t<li>'C'</li>\n",
       "\t<li>'C'</li>\n",
       "\t<li>'C'</li>\n",
       "\t<li>'C'</li>\n",
       "\t<li>'C'</li>\n",
       "\t<li>'C'</li>\n",
       "\t<li>'C'</li>\n",
       "\t<li>'C'</li>\n",
       "\t<li>'C'</li>\n",
       "\t<li>'C'</li>\n",
       "\t<li>'C'</li>\n",
       "\t<li>'C'</li>\n",
       "\t<li>'C'</li>\n",
       "\t<li>'C'</li>\n",
       "\t<li>'C'</li>\n",
       "\t<li>'C'</li>\n",
       "\t<li>'C'</li>\n",
       "\t<li>'C'</li>\n",
       "\t<li>'C'</li>\n",
       "\t<li>'C'</li>\n",
       "\t<li>'G'</li>\n",
       "\t<li>'G'</li>\n",
       "\t<li>'G'</li>\n",
       "\t<li>'G'</li>\n",
       "\t<li>'G'</li>\n",
       "\t<li>'G'</li>\n",
       "\t<li>'G'</li>\n",
       "\t<li>'G'</li>\n",
       "\t<li>'G'</li>\n",
       "\t<li>'G'</li>\n",
       "\t<li>'G'</li>\n",
       "\t<li>'G'</li>\n",
       "\t<li>'G'</li>\n",
       "\t<li>'G'</li>\n",
       "\t<li>'G'</li>\n",
       "\t<li>'G'</li>\n",
       "\t<li>'G'</li>\n",
       "\t<li>'G'</li>\n",
       "\t<li>'G'</li>\n",
       "\t<li>'G'</li>\n",
       "\t<li>'G'</li>\n",
       "\t<li>'G'</li>\n",
       "\t<li>'G'</li>\n",
       "\t<li>'G'</li>\n",
       "\t<li>'G'</li>\n",
       "\t<li>'G'</li>\n",
       "\t<li>'T'</li>\n",
       "\t<li>'T'</li>\n",
       "\t<li>'T'</li>\n",
       "\t<li>'T'</li>\n",
       "\t<li>'T'</li>\n",
       "\t<li>'T'</li>\n",
       "\t<li>'T'</li>\n",
       "\t<li>'T'</li>\n",
       "\t<li>'T'</li>\n",
       "\t<li>'T'</li>\n",
       "\t<li>'T'</li>\n",
       "\t<li>'T'</li>\n",
       "\t<li>'T'</li>\n",
       "\t<li>'T'</li>\n",
       "\t<li>'T'</li>\n",
       "\t<li>'T'</li>\n",
       "\t<li>'T'</li>\n",
       "\t<li>'T'</li>\n",
       "\t<li>'T'</li>\n",
       "\t<li>'T'</li>\n",
       "\t<li>'T'</li>\n",
       "\t<li>'T'</li>\n",
       "\t<li>'T'</li>\n",
       "\t<li>'T'</li>\n",
       "</ol>\n"
      ],
      "text/latex": [
       "\\begin{enumerate*}\n",
       "\\item 'A'\n",
       "\\item 'A'\n",
       "\\item 'A'\n",
       "\\item 'A'\n",
       "\\item 'A'\n",
       "\\item 'A'\n",
       "\\item 'A'\n",
       "\\item 'A'\n",
       "\\item 'A'\n",
       "\\item 'A'\n",
       "\\item 'A'\n",
       "\\item 'A'\n",
       "\\item 'A'\n",
       "\\item 'A'\n",
       "\\item 'A'\n",
       "\\item 'A'\n",
       "\\item 'A'\n",
       "\\item 'A'\n",
       "\\item 'A'\n",
       "\\item 'A'\n",
       "\\item 'A'\n",
       "\\item 'A'\n",
       "\\item 'A'\n",
       "\\item 'A'\n",
       "\\item 'A'\n",
       "\\item 'A'\n",
       "\\item 'A'\n",
       "\\item 'A'\n",
       "\\item 'C'\n",
       "\\item 'C'\n",
       "\\item 'C'\n",
       "\\item 'C'\n",
       "\\item 'C'\n",
       "\\item 'C'\n",
       "\\item 'C'\n",
       "\\item 'C'\n",
       "\\item 'C'\n",
       "\\item 'C'\n",
       "\\item 'C'\n",
       "\\item 'C'\n",
       "\\item 'C'\n",
       "\\item 'C'\n",
       "\\item 'C'\n",
       "\\item 'C'\n",
       "\\item 'C'\n",
       "\\item 'C'\n",
       "\\item 'C'\n",
       "\\item 'C'\n",
       "\\item 'C'\n",
       "\\item 'C'\n",
       "\\item 'G'\n",
       "\\item 'G'\n",
       "\\item 'G'\n",
       "\\item 'G'\n",
       "\\item 'G'\n",
       "\\item 'G'\n",
       "\\item 'G'\n",
       "\\item 'G'\n",
       "\\item 'G'\n",
       "\\item 'G'\n",
       "\\item 'G'\n",
       "\\item 'G'\n",
       "\\item 'G'\n",
       "\\item 'G'\n",
       "\\item 'G'\n",
       "\\item 'G'\n",
       "\\item 'G'\n",
       "\\item 'G'\n",
       "\\item 'G'\n",
       "\\item 'G'\n",
       "\\item 'G'\n",
       "\\item 'G'\n",
       "\\item 'G'\n",
       "\\item 'G'\n",
       "\\item 'G'\n",
       "\\item 'G'\n",
       "\\item 'T'\n",
       "\\item 'T'\n",
       "\\item 'T'\n",
       "\\item 'T'\n",
       "\\item 'T'\n",
       "\\item 'T'\n",
       "\\item 'T'\n",
       "\\item 'T'\n",
       "\\item 'T'\n",
       "\\item 'T'\n",
       "\\item 'T'\n",
       "\\item 'T'\n",
       "\\item 'T'\n",
       "\\item 'T'\n",
       "\\item 'T'\n",
       "\\item 'T'\n",
       "\\item 'T'\n",
       "\\item 'T'\n",
       "\\item 'T'\n",
       "\\item 'T'\n",
       "\\item 'T'\n",
       "\\item 'T'\n",
       "\\item 'T'\n",
       "\\item 'T'\n",
       "\\end{enumerate*}\n"
      ],
      "text/markdown": [
       "1. 'A'\n",
       "2. 'A'\n",
       "3. 'A'\n",
       "4. 'A'\n",
       "5. 'A'\n",
       "6. 'A'\n",
       "7. 'A'\n",
       "8. 'A'\n",
       "9. 'A'\n",
       "10. 'A'\n",
       "11. 'A'\n",
       "12. 'A'\n",
       "13. 'A'\n",
       "14. 'A'\n",
       "15. 'A'\n",
       "16. 'A'\n",
       "17. 'A'\n",
       "18. 'A'\n",
       "19. 'A'\n",
       "20. 'A'\n",
       "21. 'A'\n",
       "22. 'A'\n",
       "23. 'A'\n",
       "24. 'A'\n",
       "25. 'A'\n",
       "26. 'A'\n",
       "27. 'A'\n",
       "28. 'A'\n",
       "29. 'C'\n",
       "30. 'C'\n",
       "31. 'C'\n",
       "32. 'C'\n",
       "33. 'C'\n",
       "34. 'C'\n",
       "35. 'C'\n",
       "36. 'C'\n",
       "37. 'C'\n",
       "38. 'C'\n",
       "39. 'C'\n",
       "40. 'C'\n",
       "41. 'C'\n",
       "42. 'C'\n",
       "43. 'C'\n",
       "44. 'C'\n",
       "45. 'C'\n",
       "46. 'C'\n",
       "47. 'C'\n",
       "48. 'C'\n",
       "49. 'C'\n",
       "50. 'C'\n",
       "51. 'G'\n",
       "52. 'G'\n",
       "53. 'G'\n",
       "54. 'G'\n",
       "55. 'G'\n",
       "56. 'G'\n",
       "57. 'G'\n",
       "58. 'G'\n",
       "59. 'G'\n",
       "60. 'G'\n",
       "61. 'G'\n",
       "62. 'G'\n",
       "63. 'G'\n",
       "64. 'G'\n",
       "65. 'G'\n",
       "66. 'G'\n",
       "67. 'G'\n",
       "68. 'G'\n",
       "69. 'G'\n",
       "70. 'G'\n",
       "71. 'G'\n",
       "72. 'G'\n",
       "73. 'G'\n",
       "74. 'G'\n",
       "75. 'G'\n",
       "76. 'G'\n",
       "77. 'T'\n",
       "78. 'T'\n",
       "79. 'T'\n",
       "80. 'T'\n",
       "81. 'T'\n",
       "82. 'T'\n",
       "83. 'T'\n",
       "84. 'T'\n",
       "85. 'T'\n",
       "86. 'T'\n",
       "87. 'T'\n",
       "88. 'T'\n",
       "89. 'T'\n",
       "90. 'T'\n",
       "91. 'T'\n",
       "92. 'T'\n",
       "93. 'T'\n",
       "94. 'T'\n",
       "95. 'T'\n",
       "96. 'T'\n",
       "97. 'T'\n",
       "98. 'T'\n",
       "99. 'T'\n",
       "100. 'T'\n",
       "\n",
       "\n"
      ],
      "text/plain": [
       "  [1] \"A\" \"A\" \"A\" \"A\" \"A\" \"A\" \"A\" \"A\" \"A\" \"A\" \"A\" \"A\" \"A\" \"A\" \"A\" \"A\" \"A\" \"A\"\n",
       " [19] \"A\" \"A\" \"A\" \"A\" \"A\" \"A\" \"A\" \"A\" \"A\" \"A\" \"C\" \"C\" \"C\" \"C\" \"C\" \"C\" \"C\" \"C\"\n",
       " [37] \"C\" \"C\" \"C\" \"C\" \"C\" \"C\" \"C\" \"C\" \"C\" \"C\" \"C\" \"C\" \"C\" \"C\" \"G\" \"G\" \"G\" \"G\"\n",
       " [55] \"G\" \"G\" \"G\" \"G\" \"G\" \"G\" \"G\" \"G\" \"G\" \"G\" \"G\" \"G\" \"G\" \"G\" \"G\" \"G\" \"G\" \"G\"\n",
       " [73] \"G\" \"G\" \"G\" \"G\" \"T\" \"T\" \"T\" \"T\" \"T\" \"T\" \"T\" \"T\" \"T\" \"T\" \"T\" \"T\" \"T\" \"T\"\n",
       " [91] \"T\" \"T\" \"T\" \"T\" \"T\" \"T\" \"T\" \"T\" \"T\" \"T\""
      ]
     },
     "metadata": {},
     "output_type": "display_data"
    }
   ],
   "source": [
    "ACGTset"
   ]
  },
  {
   "cell_type": "code",
   "execution_count": null,
   "metadata": {},
   "outputs": [],
   "source": []
  },
  {
   "cell_type": "code",
   "execution_count": 6,
   "metadata": {},
   "outputs": [],
   "source": [
    "#length(param1)で表現される配列数分だけループを回す\n",
    "#ACGTsetの文字型ベクトルからparam1[i]回分だけ復元抽出して得られた塩基配列をhogeに格納\n",
    "for(i in 1:length(param1)){\n",
    "    hoge <- c(hoge, paste(sample(ACGTset, param1[i], replace=T), collapse=\"\"))\n",
    "}"
   ]
  },
  {
   "cell_type": "code",
   "execution_count": 18,
   "metadata": {},
   "outputs": [
    {
     "data": {
      "text/html": [
       "4"
      ],
      "text/latex": [
       "4"
      ],
      "text/markdown": [
       "4"
      ],
      "text/plain": [
       "[1] 4"
      ]
     },
     "metadata": {},
     "output_type": "display_data"
    }
   ],
   "source": [
    "length(param1)"
   ]
  },
  {
   "cell_type": "code",
   "execution_count": 20,
   "metadata": {},
   "outputs": [
    {
     "data": {
      "text/html": [
       "<ol class=list-inline>\n",
       "\t<li>'CGAGGAGGAACGCTTACGAGATCAGGCTAAGAGTGGATGCTGAGTGGG'</li>\n",
       "\t<li>'AGGGAGGGGGTCCAGTATCTATGGCCTAAAAACATAGACACCTTGAGGAGACGCAGGTAGGCTGAGGATAAAGCCGTTTGCACGCATCATGAAGGGGCTGCTCGGGTATGGTTAGTCTTTGCCTCTAGATTTTCACGACGCTGCGGTTCATGACGCCCTG'</li>\n",
       "\t<li>'GGGGGGACTATTTCCCCGCTTGCAGGAATCGTGTCAGTTGGTATACAGGCAGCATCTAGTCGCATCAGAAGGGTGTAGTCAGCCTATAGTTAACTAGTTT'</li>\n",
       "\t<li>'CGAGACGAGCAAGTTATTCGCTCAGTGAATGGGTAGCAAAAGAATGTTGTCGTCTGTATTGGGGCCTATGCTCGACAAGAGATTGTGTGTAGTATGAGCCACCAGACTTTACCGTACAAGATA'</li>\n",
       "\t<li>'GCGGGGTCTATTTCCCCGCTTGCAGGAATCGTGTCAGTTGGTATACAGGCAGCATCTAGTCGCATCAGAAGGGTGTAGTCAGCCTATAGTTAACTAGTTT'</li>\n",
       "</ol>\n"
      ],
      "text/latex": [
       "\\begin{enumerate*}\n",
       "\\item 'CGAGGAGGAACGCTTACGAGATCAGGCTAAGAGTGGATGCTGAGTGGG'\n",
       "\\item 'AGGGAGGGGGTCCAGTATCTATGGCCTAAAAACATAGACACCTTGAGGAGACGCAGGTAGGCTGAGGATAAAGCCGTTTGCACGCATCATGAAGGGGCTGCTCGGGTATGGTTAGTCTTTGCCTCTAGATTTTCACGACGCTGCGGTTCATGACGCCCTG'\n",
       "\\item 'GGGGGGACTATTTCCCCGCTTGCAGGAATCGTGTCAGTTGGTATACAGGCAGCATCTAGTCGCATCAGAAGGGTGTAGTCAGCCTATAGTTAACTAGTTT'\n",
       "\\item 'CGAGACGAGCAAGTTATTCGCTCAGTGAATGGGTAGCAAAAGAATGTTGTCGTCTGTATTGGGGCCTATGCTCGACAAGAGATTGTGTGTAGTATGAGCCACCAGACTTTACCGTACAAGATA'\n",
       "\\item 'GCGGGGTCTATTTCCCCGCTTGCAGGAATCGTGTCAGTTGGTATACAGGCAGCATCTAGTCGCATCAGAAGGGTGTAGTCAGCCTATAGTTAACTAGTTT'\n",
       "\\end{enumerate*}\n"
      ],
      "text/markdown": [
       "1. 'CGAGGAGGAACGCTTACGAGATCAGGCTAAGAGTGGATGCTGAGTGGG'\n",
       "2. 'AGGGAGGGGGTCCAGTATCTATGGCCTAAAAACATAGACACCTTGAGGAGACGCAGGTAGGCTGAGGATAAAGCCGTTTGCACGCATCATGAAGGGGCTGCTCGGGTATGGTTAGTCTTTGCCTCTAGATTTTCACGACGCTGCGGTTCATGACGCCCTG'\n",
       "3. 'GGGGGGACTATTTCCCCGCTTGCAGGAATCGTGTCAGTTGGTATACAGGCAGCATCTAGTCGCATCAGAAGGGTGTAGTCAGCCTATAGTTAACTAGTTT'\n",
       "4. 'CGAGACGAGCAAGTTATTCGCTCAGTGAATGGGTAGCAAAAGAATGTTGTCGTCTGTATTGGGGCCTATGCTCGACAAGAGATTGTGTGTAGTATGAGCCACCAGACTTTACCGTACAAGATA'\n",
       "5. 'GCGGGGTCTATTTCCCCGCTTGCAGGAATCGTGTCAGTTGGTATACAGGCAGCATCTAGTCGCATCAGAAGGGTGTAGTCAGCCTATAGTTAACTAGTTT'\n",
       "\n",
       "\n"
      ],
      "text/plain": [
       "[1] \"CGAGGAGGAACGCTTACGAGATCAGGCTAAGAGTGGATGCTGAGTGGG\"                                                                                                                \n",
       "[2] \"AGGGAGGGGGTCCAGTATCTATGGCCTAAAAACATAGACACCTTGAGGAGACGCAGGTAGGCTGAGGATAAAGCCGTTTGCACGCATCATGAAGGGGCTGCTCGGGTATGGTTAGTCTTTGCCTCTAGATTTTCACGACGCTGCGGTTCATGACGCCCTG\"\n",
       "[3] \"GGGGGGACTATTTCCCCGCTTGCAGGAATCGTGTCAGTTGGTATACAGGCAGCATCTAGTCGCATCAGAAGGGTGTAGTCAGCCTATAGTTAACTAGTTT\"                                                            \n",
       "[4] \"CGAGACGAGCAAGTTATTCGCTCAGTGAATGGGTAGCAAAAGAATGTTGTCGTCTGTATTGGGGCCTATGCTCGACAAGAGATTGTGTGTAGTATGAGCCACCAGACTTTACCGTACAAGATA\"                                     \n",
       "[5] \"GCGGGGTCTATTTCCCCGCTTGCAGGAATCGTGTCAGTTGGTATACAGGCAGCATCTAGTCGCATCAGAAGGGTGTAGTCAGCCTATAGTTAACTAGTTT\"                                                            "
      ]
     },
     "metadata": {},
     "output_type": "display_data"
    }
   ],
   "source": [
    "hoge"
   ]
  },
  {
   "cell_type": "code",
   "execution_count": 21,
   "metadata": {},
   "outputs": [
    {
     "data": {
      "text/html": [
       "'GCGGGGTCTATTTCCCCGCTTGCAGGAATCGTGTCAGTTGGTATACAGGCAGCATCTAGTCGCATCAGAAGGGTGTAGTCAGCCTATAGTTAACTAGTTT'"
      ],
      "text/latex": [
       "'GCGGGGTCTATTTCCCCGCTTGCAGGAATCGTGTCAGTTGGTATACAGGCAGCATCTAGTCGCATCAGAAGGGTGTAGTCAGCCTATAGTTAACTAGTTT'"
      ],
      "text/markdown": [
       "'GCGGGGTCTATTTCCCCGCTTGCAGGAATCGTGTCAGTTGGTATACAGGCAGCATCTAGTCGCATCAGAAGGGTGTAGTCAGCCTATAGTTAACTAGTTT'"
      ],
      "text/plain": [
       "[1] \"GCGGGGTCTATTTCCCCGCTTGCAGGAATCGTGTCAGTTGGTATACAGGCAGCATCTAGTCGCATCAGAAGGGTGTAGTCAGCCTATAGTTAACTAGTTT\""
      ]
     },
     "metadata": {},
     "output_type": "display_data"
    }
   ],
   "source": [
    "hoge[5]"
   ]
  },
  {
   "cell_type": "code",
   "execution_count": null,
   "metadata": {},
   "outputs": [],
   "source": []
  },
  {
   "cell_type": "code",
   "execution_count": 7,
   "metadata": {},
   "outputs": [],
   "source": [
    "#chr5の生成と塩基置換導入\n",
    "\n",
    "#(param4)番目の配列をコピーして追加\n",
    "hoge <- c(hoge, hoge[param4])\n",
    "#塩基置換\n",
    "hoge[length(param1)+1] <- enkichikan(hoge[length(param1)+1], param5[1])\n",
    "hoge[length(param1)+1] <- enkichikan(hoge[length(param1)+1], param5[2])"
   ]
  },
  {
   "cell_type": "code",
   "execution_count": 8,
   "metadata": {},
   "outputs": [],
   "source": [
    "#ファイルに保存\n",
    "\n",
    "#DNAStringSetオブジェクトに変更\n",
    "fasta <- DNAStringSet(hoge)\n",
    "#description行を追加\n",
    "names(fasta) <- paste(param3, 1:length(hoge), sep=\"\")\n",
    "#fastaの中身を指定したファイル名で保存\n",
    "writeXStringSet(fasta, file=out_f, format=\"fasta\", width=50)"
   ]
  },
  {
   "cell_type": "code",
   "execution_count": null,
   "metadata": {},
   "outputs": [],
   "source": []
  },
  {
   "cell_type": "markdown",
   "metadata": {},
   "source": [
    "### p82"
   ]
  },
  {
   "cell_type": "code",
   "execution_count": 1,
   "metadata": {},
   "outputs": [
    {
     "data": {
      "text/html": [
       "<ol class=list-inline>\n",
       "\t<li>'20190720_chapter2.ipynb'</li>\n",
       "\t<li>'hoge7.txt'</li>\n",
       "\t<li>'list_sub3.txt'</li>\n",
       "\t<li>'mapping'</li>\n",
       "\t<li>'mapping_paired.txt'</li>\n",
       "\t<li>'mapping_single2.txt'</li>\n",
       "</ol>\n"
      ],
      "text/latex": [
       "\\begin{enumerate*}\n",
       "\\item '20190720\\_chapter2.ipynb'\n",
       "\\item 'hoge7.txt'\n",
       "\\item 'list\\_sub3.txt'\n",
       "\\item 'mapping'\n",
       "\\item 'mapping\\_paired.txt'\n",
       "\\item 'mapping\\_single2.txt'\n",
       "\\end{enumerate*}\n"
      ],
      "text/markdown": [
       "1. '20190720_chapter2.ipynb'\n",
       "2. 'hoge7.txt'\n",
       "3. 'list_sub3.txt'\n",
       "4. 'mapping'\n",
       "5. 'mapping_paired.txt'\n",
       "6. 'mapping_single2.txt'\n",
       "\n",
       "\n"
      ],
      "text/plain": [
       "[1] \"20190720_chapter2.ipynb\" \"hoge7.txt\"              \n",
       "[3] \"list_sub3.txt\"           \"mapping\"                \n",
       "[5] \"mapping_paired.txt\"      \"mapping_single2.txt\"    "
      ]
     },
     "metadata": {},
     "output_type": "display_data"
    }
   ],
   "source": [
    "list.files()"
   ]
  },
  {
   "cell_type": "code",
   "execution_count": 10,
   "metadata": {},
   "outputs": [
    {
     "data": {
      "text/plain": [
       "  A DNAStringSet instance of length 5\n",
       "    width seq                                               names               \n",
       "[1]    48 CGAGGAGGAACGCTTACGAGATCAGGCTAAGAGTGGATGCTGAGTGGG  chr1\n",
       "[2]   160 AGGGAGGGGGTCCAGTATCTATG...ACGCTGCGGTTCATGACGCCCTG chr2\n",
       "[3]   100 GGGGGGACTATTTCCCCGCTTGC...GTCAGCCTATAGTTAACTAGTTT chr3\n",
       "[4]   123 CGAGACGAGCAAGTTATTCGCTC...ACCAGACTTTACCGTACAAGATA chr4\n",
       "[5]   100 GCGGGGTCTATTTCCCCGCTTGC...GTCAGCCTATAGTTAACTAGTTT chr5"
      ]
     },
     "metadata": {},
     "output_type": "display_data"
    }
   ],
   "source": [
    "fasta"
   ]
  },
  {
   "cell_type": "code",
   "execution_count": 11,
   "metadata": {},
   "outputs": [
    {
     "data": {
      "text/html": [
       "<ol class=list-inline>\n",
       "\t<li>48</li>\n",
       "\t<li>160</li>\n",
       "\t<li>100</li>\n",
       "\t<li>123</li>\n",
       "\t<li>100</li>\n",
       "</ol>\n"
      ],
      "text/latex": [
       "\\begin{enumerate*}\n",
       "\\item 48\n",
       "\\item 160\n",
       "\\item 100\n",
       "\\item 123\n",
       "\\item 100\n",
       "\\end{enumerate*}\n"
      ],
      "text/markdown": [
       "1. 48\n",
       "2. 160\n",
       "3. 100\n",
       "4. 123\n",
       "5. 100\n",
       "\n",
       "\n"
      ],
      "text/plain": [
       "[1]  48 160 100 123 100"
      ]
     },
     "metadata": {},
     "output_type": "display_data"
    }
   ],
   "source": [
    "width(fasta)"
   ]
  },
  {
   "cell_type": "code",
   "execution_count": 13,
   "metadata": {},
   "outputs": [
    {
     "data": {
      "text/html": [
       "<ol class=list-inline>\n",
       "\t<li>'chr1'</li>\n",
       "\t<li>'chr2'</li>\n",
       "\t<li>'chr3'</li>\n",
       "\t<li>'chr4'</li>\n",
       "\t<li>'chr5'</li>\n",
       "</ol>\n"
      ],
      "text/latex": [
       "\\begin{enumerate*}\n",
       "\\item 'chr1'\n",
       "\\item 'chr2'\n",
       "\\item 'chr3'\n",
       "\\item 'chr4'\n",
       "\\item 'chr5'\n",
       "\\end{enumerate*}\n"
      ],
      "text/markdown": [
       "1. 'chr1'\n",
       "2. 'chr2'\n",
       "3. 'chr3'\n",
       "4. 'chr4'\n",
       "5. 'chr5'\n",
       "\n",
       "\n"
      ],
      "text/plain": [
       "[1] \"chr1\" \"chr2\" \"chr3\" \"chr4\" \"chr5\""
      ]
     },
     "metadata": {},
     "output_type": "display_data"
    }
   ],
   "source": [
    "names(fasta)"
   ]
  },
  {
   "cell_type": "code",
   "execution_count": 14,
   "metadata": {},
   "outputs": [
    {
     "data": {
      "text/plain": [
       "  A DNAStringSet instance of length 1\n",
       "    width seq                                               names               \n",
       "[1]   100 GCGGGGTCTATTTCCCCGCTTGC...GTCAGCCTATAGTTAACTAGTTT chr5"
      ]
     },
     "metadata": {},
     "output_type": "display_data"
    }
   ],
   "source": [
    "fasta[5]"
   ]
  },
  {
   "cell_type": "code",
   "execution_count": null,
   "metadata": {},
   "outputs": [],
   "source": []
  },
  {
   "cell_type": "markdown",
   "metadata": {},
   "source": [
    "### RNA-seqリード配列（マップする側）の作成"
   ]
  },
  {
   "cell_type": "code",
   "execution_count": 2,
   "metadata": {},
   "outputs": [],
   "source": [
    "DNAString_chartr <- function(fa, p) {  #関数名や引数の作成\n",
    "  str_list <- as.character(fa)         #文字列に変更\n",
    "  t <- substring(str_list, p, p)       #置換したい位置の塩基を取りだす\n",
    "  t_c <- chartr(\"CGAT\", \"GCTA\", t)     #置換後の塩基を作成\n",
    "  substring(str_list, p, p) <- t_c     #置換\n",
    "  fa_r <- DNAStringSet(str_list)       #DNAStringSetオブジェクトに戻す\n",
    "  names(fa_r) <- names(fa)             #description部分の情報を追加\n",
    "  return(fa_r)                         #置換後のデータを返す\n",
    "}"
   ]
  },
  {
   "cell_type": "code",
   "execution_count": null,
   "metadata": {},
   "outputs": [],
   "source": []
  },
  {
   "cell_type": "code",
   "execution_count": 3,
   "metadata": {},
   "outputs": [],
   "source": [
    "in_f1 <- \"ref_genome.fa\"               #入力ファイル名を指定してin_f1に格納(multi-FASTAファイル)\n",
    "in_f2 <- \"list_sub3.txt\"               #入力ファイル名を指定してin_f2に格納(リストファイル)\n",
    "out_f <- \"sample_RNAseq1.fa\"           #出力ファイル名を指定してout_fに格納\n",
    "param <- 4                             #最後のリードの塩基置換したい位置を指定"
   ]
  },
  {
   "cell_type": "code",
   "execution_count": 4,
   "metadata": {},
   "outputs": [],
   "source": [
    "#入力ファイルの読み込み\n",
    "fasta <- readDNAStringSet(in_f1, format=\"fasta\")#in_f1で指定したファイルの読み込み\n",
    "posi <- read.table(in_f2)              #in_f2で指定したファイルの読み込み"
   ]
  },
  {
   "cell_type": "code",
   "execution_count": 5,
   "metadata": {},
   "outputs": [],
   "source": [
    "#部分配列の抽出および最後のリードの塩基置換\n",
    "\n",
    "#最終的に得る結果を格納するためのプレースホルダhogeを作成しているだけ\n",
    "hoge <- NULL\n",
    "\n",
    "#length(posi)回だけループを回す\n",
    "#条件を満たすかどうかを判定した結果をobjに格納\n",
    "#subseq関数を用いてobjがTRUEとなるもののみに対して、posi[i,2]とposi[i,3]で与えた範囲に対応する部分配列を抽出した結果をhogeに格納\n",
    "\n",
    "for(i in 1:nrow(posi)){                \n",
    "    obj <- names(fasta) == posi[i,1]   \n",
    "    hoge <- append(hoge, subseq(fasta[obj], start=posi[i,2], end=posi[i,3]))\n",
    "}\n",
    "\n",
    "#hogeの中身をfastaに格納\n",
    "fasta <- hoge                      \n",
    "#指定した位置の塩基置換を実行した結果をfastaに格納\n",
    "fasta[nrow(posi)] <- DNAString_chartr(fasta[nrow(posi)], param)"
   ]
  },
  {
   "cell_type": "code",
   "execution_count": 6,
   "metadata": {},
   "outputs": [
    {
     "data": {
      "text/plain": [
       "  A DNAStringSet instance of length 8\n",
       "    width seq                                               names               \n",
       "[1]    35 CGCTTACGAGATCAGGCTAAGAGTGGATGCTGAGT               chr1\n",
       "[2]    35 TATCTATGGCCTAAAAACATAGACACCTTGAGGAG               chr2\n",
       "[3]    35 AGGGAGGGGGTCCAGTATCTATGGCCTAAAAACAT               chr2\n",
       "[4]    35 TTTCCCCGCTTGCAGGAATCGTGTCAGTTGGTATA               chr3\n",
       "[5]    35 CCCGCTTGCAGGAATCGTGTCAGTTGGTATACAGG               chr3\n",
       "[6]    35 GGGGACTATTTCCCCGCTTGCAGGAATCGTGTCAG               chr3\n",
       "[7]    35 GGGGGGACTATTTCCCCGCTTGCAGGAATCGTGTC               chr3\n",
       "[8]    35 GCGCGGTCTATTTCCCCGCTTGCAGGAATCGTGTC               chr5"
      ]
     },
     "metadata": {},
     "output_type": "display_data"
    }
   ],
   "source": [
    "fasta"
   ]
  },
  {
   "cell_type": "code",
   "execution_count": 7,
   "metadata": {},
   "outputs": [
    {
     "data": {
      "text/plain": [
       "  A DNAStringSet instance of length 8\n",
       "    width seq                                               names               \n",
       "[1]    35 CGCTTACGAGATCAGGCTAAGAGTGGATGCTGAGT               chr1\n",
       "[2]    35 TATCTATGGCCTAAAAACATAGACACCTTGAGGAG               chr2\n",
       "[3]    35 AGGGAGGGGGTCCAGTATCTATGGCCTAAAAACAT               chr2\n",
       "[4]    35 TTTCCCCGCTTGCAGGAATCGTGTCAGTTGGTATA               chr3\n",
       "[5]    35 CCCGCTTGCAGGAATCGTGTCAGTTGGTATACAGG               chr3\n",
       "[6]    35 GGGGACTATTTCCCCGCTTGCAGGAATCGTGTCAG               chr3\n",
       "[7]    35 GGGGGGACTATTTCCCCGCTTGCAGGAATCGTGTC               chr3\n",
       "[8]    35 GCGGGGTCTATTTCCCCGCTTGCAGGAATCGTGTC               chr5"
      ]
     },
     "metadata": {},
     "output_type": "display_data"
    }
   ],
   "source": [
    "hoge"
   ]
  },
  {
   "cell_type": "code",
   "execution_count": null,
   "metadata": {},
   "outputs": [],
   "source": []
  },
  {
   "cell_type": "code",
   "execution_count": 8,
   "metadata": {},
   "outputs": [],
   "source": [
    "#ファイルに保存\n",
    "\n",
    "#行列posiの各列を\"_\"で結合したものをdescriptionに格納\n",
    "description <- paste(posi[,1], posi[,2], posi[,3], sep=\"_\")\n",
    "#description行に相当する記述を追加している\n",
    "names(fasta) <- description\n",
    "#fastaの中身を指定したファイル名で保存\n",
    "writeXStringSet(fasta, file=out_f, format=\"fasta\", width=50)"
   ]
  },
  {
   "cell_type": "code",
   "execution_count": 10,
   "metadata": {},
   "outputs": [
    {
     "data": {
      "text/html": [
       "<table>\n",
       "<caption>A data.frame: 8 × 3</caption>\n",
       "<thead>\n",
       "\t<tr><th scope=col>V1</th><th scope=col>V2</th><th scope=col>V3</th></tr>\n",
       "\t<tr><th scope=col>&lt;fct&gt;</th><th scope=col>&lt;int&gt;</th><th scope=col>&lt;int&gt;</th></tr>\n",
       "</thead>\n",
       "<tbody>\n",
       "\t<tr><td>chr1</td><td>11</td><td>45</td></tr>\n",
       "\t<tr><td>chr2</td><td>16</td><td>50</td></tr>\n",
       "\t<tr><td>chr2</td><td> 1</td><td>35</td></tr>\n",
       "\t<tr><td>chr3</td><td>11</td><td>45</td></tr>\n",
       "\t<tr><td>chr3</td><td>15</td><td>49</td></tr>\n",
       "\t<tr><td>chr3</td><td> 3</td><td>37</td></tr>\n",
       "\t<tr><td>chr3</td><td> 1</td><td>35</td></tr>\n",
       "\t<tr><td>chr5</td><td> 1</td><td>35</td></tr>\n",
       "</tbody>\n",
       "</table>\n"
      ],
      "text/latex": [
       "A data.frame: 8 × 3\n",
       "\\begin{tabular}{r|lll}\n",
       " V1 & V2 & V3\\\\\n",
       " <fct> & <int> & <int>\\\\\n",
       "\\hline\n",
       "\t chr1 & 11 & 45\\\\\n",
       "\t chr2 & 16 & 50\\\\\n",
       "\t chr2 &  1 & 35\\\\\n",
       "\t chr3 & 11 & 45\\\\\n",
       "\t chr3 & 15 & 49\\\\\n",
       "\t chr3 &  3 & 37\\\\\n",
       "\t chr3 &  1 & 35\\\\\n",
       "\t chr5 &  1 & 35\\\\\n",
       "\\end{tabular}\n"
      ],
      "text/markdown": [
       "\n",
       "A data.frame: 8 × 3\n",
       "\n",
       "| V1 &lt;fct&gt; | V2 &lt;int&gt; | V3 &lt;int&gt; |\n",
       "|---|---|---|\n",
       "| chr1 | 11 | 45 |\n",
       "| chr2 | 16 | 50 |\n",
       "| chr2 |  1 | 35 |\n",
       "| chr3 | 11 | 45 |\n",
       "| chr3 | 15 | 49 |\n",
       "| chr3 |  3 | 37 |\n",
       "| chr3 |  1 | 35 |\n",
       "| chr5 |  1 | 35 |\n",
       "\n"
      ],
      "text/plain": [
       "  V1   V2 V3\n",
       "1 chr1 11 45\n",
       "2 chr2 16 50\n",
       "3 chr2  1 35\n",
       "4 chr3 11 45\n",
       "5 chr3 15 49\n",
       "6 chr3  3 37\n",
       "7 chr3  1 35\n",
       "8 chr5  1 35"
      ]
     },
     "metadata": {},
     "output_type": "display_data"
    }
   ],
   "source": [
    "posi"
   ]
  },
  {
   "cell_type": "code",
   "execution_count": 9,
   "metadata": {},
   "outputs": [
    {
     "data": {
      "text/html": [
       "<ol class=list-inline>\n",
       "\t<li>8</li>\n",
       "\t<li>3</li>\n",
       "</ol>\n"
      ],
      "text/latex": [
       "\\begin{enumerate*}\n",
       "\\item 8\n",
       "\\item 3\n",
       "\\end{enumerate*}\n"
      ],
      "text/markdown": [
       "1. 8\n",
       "2. 3\n",
       "\n",
       "\n"
      ],
      "text/plain": [
       "[1] 8 3"
      ]
     },
     "metadata": {},
     "output_type": "display_data"
    }
   ],
   "source": [
    "dim(posi)"
   ]
  },
  {
   "cell_type": "code",
   "execution_count": 11,
   "metadata": {},
   "outputs": [
    {
     "data": {
      "text/html": [
       "<ol class=list-inline>\n",
       "\t<li>'20190720_chapter2.ipynb'</li>\n",
       "\t<li>'hoge7.txt'</li>\n",
       "\t<li>'list_sub3.txt'</li>\n",
       "\t<li>'ref_genome.fa'</li>\n",
       "\t<li>'sample_RNAseq1.fa'</li>\n",
       "</ol>\n"
      ],
      "text/latex": [
       "\\begin{enumerate*}\n",
       "\\item '20190720\\_chapter2.ipynb'\n",
       "\\item 'hoge7.txt'\n",
       "\\item 'list\\_sub3.txt'\n",
       "\\item 'ref\\_genome.fa'\n",
       "\\item 'sample\\_RNAseq1.fa'\n",
       "\\end{enumerate*}\n"
      ],
      "text/markdown": [
       "1. '20190720_chapter2.ipynb'\n",
       "2. 'hoge7.txt'\n",
       "3. 'list_sub3.txt'\n",
       "4. 'ref_genome.fa'\n",
       "5. 'sample_RNAseq1.fa'\n",
       "\n",
       "\n"
      ],
      "text/plain": [
       "[1] \"20190720_chapter2.ipynb\" \"hoge7.txt\"              \n",
       "[3] \"list_sub3.txt\"           \"ref_genome.fa\"          \n",
       "[5] \"sample_RNAseq1.fa\"      "
      ]
     },
     "metadata": {},
     "output_type": "display_data"
    }
   ],
   "source": [
    "list.files()"
   ]
  },
  {
   "cell_type": "code",
   "execution_count": 12,
   "metadata": {},
   "outputs": [
    {
     "data": {
      "text/plain": [
       "  A DNAStringSet instance of length 8\n",
       "    width seq                                               names               \n",
       "[1]    35 CGCTTACGAGATCAGGCTAAGAGTGGATGCTGAGT               chr1_11_45\n",
       "[2]    35 TATCTATGGCCTAAAAACATAGACACCTTGAGGAG               chr2_16_50\n",
       "[3]    35 AGGGAGGGGGTCCAGTATCTATGGCCTAAAAACAT               chr2_1_35\n",
       "[4]    35 TTTCCCCGCTTGCAGGAATCGTGTCAGTTGGTATA               chr3_11_45\n",
       "[5]    35 CCCGCTTGCAGGAATCGTGTCAGTTGGTATACAGG               chr3_15_49\n",
       "[6]    35 GGGGACTATTTCCCCGCTTGCAGGAATCGTGTCAG               chr3_3_37\n",
       "[7]    35 GGGGGGACTATTTCCCCGCTTGCAGGAATCGTGTC               chr3_1_35\n",
       "[8]    35 GCGCGGTCTATTTCCCCGCTTGCAGGAATCGTGTC               chr5_1_35"
      ]
     },
     "metadata": {},
     "output_type": "display_data"
    }
   ],
   "source": [
    "fasta"
   ]
  },
  {
   "cell_type": "code",
   "execution_count": null,
   "metadata": {},
   "outputs": [],
   "source": []
  },
  {
   "cell_type": "markdown",
   "metadata": {},
   "source": [
    "#### リストファイルの作成"
   ]
  },
  {
   "cell_type": "code",
   "execution_count": 13,
   "metadata": {},
   "outputs": [],
   "source": [
    "out_f <- \"mapping_single1.txt\"         #出力ファイル名を指定してout_fに格納\n",
    "param_FN <- \"sample_RNAseq1.fa\"        #マップしたいファイル名を指定\n",
    "param_SN <- \"hoge1\"                    #任意のサンプル名を指定\n",
    "out <- cbind(param_FN, param_SN)\n",
    "colnames(out) <- c(\"FileName\", \"SampleName\")\n",
    "write.table(out, out_f, sep=\"\\t\", append=F, quote=F, row.names=F)"
   ]
  },
  {
   "cell_type": "code",
   "execution_count": 14,
   "metadata": {},
   "outputs": [
    {
     "data": {
      "text/html": [
       "<table>\n",
       "<caption>A matrix: 1 × 2 of type chr</caption>\n",
       "<thead>\n",
       "\t<tr><th scope=col>FileName</th><th scope=col>SampleName</th></tr>\n",
       "</thead>\n",
       "<tbody>\n",
       "\t<tr><td>sample_RNAseq1.fa</td><td>hoge1</td></tr>\n",
       "</tbody>\n",
       "</table>\n"
      ],
      "text/latex": [
       "A matrix: 1 × 2 of type chr\n",
       "\\begin{tabular}{ll}\n",
       " FileName & SampleName\\\\\n",
       "\\hline\n",
       "\t sample\\_RNAseq1.fa & hoge1\\\\\n",
       "\\end{tabular}\n"
      ],
      "text/markdown": [
       "\n",
       "A matrix: 1 × 2 of type chr\n",
       "\n",
       "| FileName | SampleName |\n",
       "|---|---|\n",
       "| sample_RNAseq1.fa | hoge1 |\n",
       "\n"
      ],
      "text/plain": [
       "     FileName          SampleName\n",
       "[1,] sample_RNAseq1.fa hoge1     "
      ]
     },
     "metadata": {},
     "output_type": "display_data"
    }
   ],
   "source": [
    "out"
   ]
  },
  {
   "cell_type": "code",
   "execution_count": null,
   "metadata": {},
   "outputs": [],
   "source": []
  },
  {
   "cell_type": "code",
   "execution_count": 18,
   "metadata": {},
   "outputs": [],
   "source": [
    "#複数サンプルver"
   ]
  },
  {
   "cell_type": "code",
   "execution_count": 15,
   "metadata": {},
   "outputs": [],
   "source": [
    "out_f <- \"mapping_single2.txt\"         #出力ファイル名を指定してout_fに格納\n",
    "param_FN <- c(\"sample_RNAseq1.fa\", \"sample_RNAseq2.fa\")#マップしたいファイル名を指定\n",
    "param_SN <- c(\"sample1\", \"sample2\")    #任意のサンプル名を指定\n",
    "out <- cbind(param_FN, param_SN)\n",
    "colnames(out) <- c(\"FileName\", \"SampleName\")\n",
    "write.table(out, out_f, sep=\"\\t\", append=F, quote=F, row.names=F)"
   ]
  },
  {
   "cell_type": "code",
   "execution_count": 16,
   "metadata": {},
   "outputs": [
    {
     "data": {
      "text/html": [
       "<table>\n",
       "<caption>A matrix: 2 × 2 of type chr</caption>\n",
       "<thead>\n",
       "\t<tr><th scope=col>FileName</th><th scope=col>SampleName</th></tr>\n",
       "</thead>\n",
       "<tbody>\n",
       "\t<tr><td>sample_RNAseq1.fa</td><td>sample1</td></tr>\n",
       "\t<tr><td>sample_RNAseq2.fa</td><td>sample2</td></tr>\n",
       "</tbody>\n",
       "</table>\n"
      ],
      "text/latex": [
       "A matrix: 2 × 2 of type chr\n",
       "\\begin{tabular}{ll}\n",
       " FileName & SampleName\\\\\n",
       "\\hline\n",
       "\t sample\\_RNAseq1.fa & sample1\\\\\n",
       "\t sample\\_RNAseq2.fa & sample2\\\\\n",
       "\\end{tabular}\n"
      ],
      "text/markdown": [
       "\n",
       "A matrix: 2 × 2 of type chr\n",
       "\n",
       "| FileName | SampleName |\n",
       "|---|---|\n",
       "| sample_RNAseq1.fa | sample1 |\n",
       "| sample_RNAseq2.fa | sample2 |\n",
       "\n"
      ],
      "text/plain": [
       "     FileName          SampleName\n",
       "[1,] sample_RNAseq1.fa sample1   \n",
       "[2,] sample_RNAseq2.fa sample2   "
      ]
     },
     "metadata": {},
     "output_type": "display_data"
    }
   ],
   "source": [
    "out"
   ]
  },
  {
   "cell_type": "code",
   "execution_count": 19,
   "metadata": {},
   "outputs": [],
   "source": [
    "#pair-end ver"
   ]
  },
  {
   "cell_type": "code",
   "execution_count": 20,
   "metadata": {},
   "outputs": [],
   "source": [
    "out_f <- \"mapping_paired.txt\"          #出力ファイル名を指定してout_fに格納\n",
    "param_FN1 <- \"sample_paired1.fq.gz\"\n",
    "param_FN2 <- \"sample_paired2.fq.gz\"\n",
    "param_SN <- \"uge\"\n",
    "out <- cbind(param_FN1, param_FN2, param_SN)\n",
    "colnames(out) <- c(\"FileName1\", \"FileName2\", \"SampleName\")\n",
    "write.table(out, out_f, sep=\"\\t\", append=F, quote=F, row.names=F)"
   ]
  },
  {
   "cell_type": "code",
   "execution_count": 21,
   "metadata": {},
   "outputs": [
    {
     "data": {
      "text/html": [
       "<table>\n",
       "<caption>A matrix: 1 × 3 of type chr</caption>\n",
       "<thead>\n",
       "\t<tr><th scope=col>FileName1</th><th scope=col>FileName2</th><th scope=col>SampleName</th></tr>\n",
       "</thead>\n",
       "<tbody>\n",
       "\t<tr><td>sample_paired1.fq.gz</td><td>sample_paired2.fq.gz</td><td>uge</td></tr>\n",
       "</tbody>\n",
       "</table>\n"
      ],
      "text/latex": [
       "A matrix: 1 × 3 of type chr\n",
       "\\begin{tabular}{lll}\n",
       " FileName1 & FileName2 & SampleName\\\\\n",
       "\\hline\n",
       "\t sample\\_paired1.fq.gz & sample\\_paired2.fq.gz & uge\\\\\n",
       "\\end{tabular}\n"
      ],
      "text/markdown": [
       "\n",
       "A matrix: 1 × 3 of type chr\n",
       "\n",
       "| FileName1 | FileName2 | SampleName |\n",
       "|---|---|---|\n",
       "| sample_paired1.fq.gz | sample_paired2.fq.gz | uge |\n",
       "\n"
      ],
      "text/plain": [
       "     FileName1            FileName2            SampleName\n",
       "[1,] sample_paired1.fq.gz sample_paired2.fq.gz uge       "
      ]
     },
     "metadata": {},
     "output_type": "display_data"
    }
   ],
   "source": [
    "out"
   ]
  },
  {
   "cell_type": "code",
   "execution_count": null,
   "metadata": {},
   "outputs": [],
   "source": []
  },
  {
   "cell_type": "markdown",
   "metadata": {},
   "source": [
    "### マッピング（本番）"
   ]
  },
  {
   "cell_type": "code",
   "execution_count": 25,
   "metadata": {},
   "outputs": [],
   "source": [
    "#ディレクトリを移動する"
   ]
  },
  {
   "cell_type": "code",
   "execution_count": 2,
   "metadata": {},
   "outputs": [],
   "source": [
    "setwd('./mapping')"
   ]
  },
  {
   "cell_type": "code",
   "execution_count": 3,
   "metadata": {},
   "outputs": [
    {
     "data": {
      "text/html": [
       "<ol class=list-inline>\n",
       "\t<li>'mapping_single1.txt'</li>\n",
       "\t<li>'QuasR_log_51d341a1bec.txt'</li>\n",
       "\t<li>'QuasR_log_51d38bebb5d.txt'</li>\n",
       "\t<li>'ref_genome.fa'</li>\n",
       "\t<li>'ref_genome.fa.fai'</li>\n",
       "\t<li>'ref_genome.fa.md5'</li>\n",
       "\t<li>'ref_genome.fa.Rbowtie'</li>\n",
       "\t<li>'sample_RNAseq1.fa'</li>\n",
       "</ol>\n"
      ],
      "text/latex": [
       "\\begin{enumerate*}\n",
       "\\item 'mapping\\_single1.txt'\n",
       "\\item 'QuasR\\_log\\_51d341a1bec.txt'\n",
       "\\item 'QuasR\\_log\\_51d38bebb5d.txt'\n",
       "\\item 'ref\\_genome.fa'\n",
       "\\item 'ref\\_genome.fa.fai'\n",
       "\\item 'ref\\_genome.fa.md5'\n",
       "\\item 'ref\\_genome.fa.Rbowtie'\n",
       "\\item 'sample\\_RNAseq1.fa'\n",
       "\\end{enumerate*}\n"
      ],
      "text/markdown": [
       "1. 'mapping_single1.txt'\n",
       "2. 'QuasR_log_51d341a1bec.txt'\n",
       "3. 'QuasR_log_51d38bebb5d.txt'\n",
       "4. 'ref_genome.fa'\n",
       "5. 'ref_genome.fa.fai'\n",
       "6. 'ref_genome.fa.md5'\n",
       "7. 'ref_genome.fa.Rbowtie'\n",
       "8. 'sample_RNAseq1.fa'\n",
       "\n",
       "\n"
      ],
      "text/plain": [
       "[1] \"mapping_single1.txt\"       \"QuasR_log_51d341a1bec.txt\"\n",
       "[3] \"QuasR_log_51d38bebb5d.txt\" \"ref_genome.fa\"            \n",
       "[5] \"ref_genome.fa.fai\"         \"ref_genome.fa.md5\"        \n",
       "[7] \"ref_genome.fa.Rbowtie\"     \"sample_RNAseq1.fa\"        "
      ]
     },
     "metadata": {},
     "output_type": "display_data"
    }
   ],
   "source": [
    "list.files()"
   ]
  },
  {
   "cell_type": "code",
   "execution_count": 4,
   "metadata": {},
   "outputs": [],
   "source": [
    "#入力ファイル名を指定してin_f1に格納(RNA-seqファイル)\n",
    "in_f1 <- \"mapping_single1.txt\"\n",
    "#入力ファイル名を指定してin_f2に格納(リファレンス配列)\n",
    "in_f2 <- \"ref_genome.fa\""
   ]
  },
  {
   "cell_type": "code",
   "execution_count": 8,
   "metadata": {},
   "outputs": [
    {
     "name": "stderr",
     "output_type": "stream",
     "text": [
      "Loading required package: parallel\n",
      "Warning message in sample.int(.Machine$integer.max - 1L, 1L):\n",
      "“ '.Random.seed[1]' が有効な整数値ではないため、無視されました ”Loading required package: GenomicRanges\n",
      "Loading required package: stats4\n",
      "Loading required package: BiocGenerics\n",
      "\n",
      "Attaching package: ‘BiocGenerics’\n",
      "\n",
      "The following objects are masked from ‘package:parallel’:\n",
      "\n",
      "    clusterApply, clusterApplyLB, clusterCall, clusterEvalQ,\n",
      "    clusterExport, clusterMap, parApply, parCapply, parLapply,\n",
      "    parLapplyLB, parRapply, parSapply, parSapplyLB\n",
      "\n",
      "The following objects are masked from ‘package:stats’:\n",
      "\n",
      "    IQR, mad, sd, var, xtabs\n",
      "\n",
      "The following objects are masked from ‘package:base’:\n",
      "\n",
      "    anyDuplicated, append, as.data.frame, basename, cbind, colMeans,\n",
      "    colnames, colSums, dirname, do.call, duplicated, eval, evalq,\n",
      "    Filter, Find, get, grep, grepl, intersect, is.unsorted, lapply,\n",
      "    lengths, Map, mapply, match, mget, order, paste, pmax, pmax.int,\n",
      "    pmin, pmin.int, Position, rank, rbind, Reduce, rowMeans, rownames,\n",
      "    rowSums, sapply, setdiff, sort, table, tapply, union, unique,\n",
      "    unsplit, which, which.max, which.min\n",
      "\n",
      "Loading required package: S4Vectors\n",
      "\n",
      "Attaching package: ‘S4Vectors’\n",
      "\n",
      "The following object is masked from ‘package:base’:\n",
      "\n",
      "    expand.grid\n",
      "\n",
      "Loading required package: IRanges\n",
      "Loading required package: GenomeInfoDb\n",
      "Loading required package: Rbowtie\n",
      "Warning message in stats::runif(1L):\n",
      "“ '.Random.seed[1]' が有効な整数値ではないため、無視されました ”"
     ]
    }
   ],
   "source": [
    "#パッケージの読み込み\n",
    "library(QuasR)"
   ]
  },
  {
   "cell_type": "code",
   "execution_count": 9,
   "metadata": {
    "scrolled": false
   },
   "outputs": [
    {
     "name": "stderr",
     "output_type": "stream",
     "text": [
      "alignment files missing - need to:\n",
      "    create 1 genomic alignment(s)\n",
      "Testing the compute nodes...OK\n",
      "Loading QuasR on the compute nodes...OK\n",
      "Available cores:\n"
     ]
    },
    {
     "name": "stdout",
     "output_type": "stream",
     "text": [
      "nodeNames\n",
      "kyamadaPro \n",
      "         1 \n"
     ]
    },
    {
     "name": "stderr",
     "output_type": "stream",
     "text": [
      "Performing genomic alignments for 1 samples. See progress in the log file:\n",
      "/Users/yamada/RNA-seq/【R】トランスクリプトーム解析/chapter2/mapping/QuasR_log_2ffd158bd04d.txt\n"
     ]
    },
    {
     "ename": "ERROR",
     "evalue": "Error in checkForRemoteErrors(val): one node produced an error: Error on kyamadaPro processing sample /Users/yamada/RNA-seq/【R】トランスクリプトーム解析/chapter2/mapping/sample_RNAseq1.fa : 'asBam' truncated input file at record 2\n  SAM file: '/var/folders/8g/l6tj9lds0z3b15_dc_wgvy9w0000gn/T//Rtmp33D540/sample_RNAseq1.fa46a135354f1c.sam'\n\n",
     "output_type": "error",
     "traceback": [
      "Error in checkForRemoteErrors(val): one node produced an error: Error on kyamadaPro processing sample /Users/yamada/RNA-seq/【R】トランスクリプトーム解析/chapter2/mapping/sample_RNAseq1.fa : 'asBam' truncated input file at record 2\n  SAM file: '/var/folders/8g/l6tj9lds0z3b15_dc_wgvy9w0000gn/T//Rtmp33D540/sample_RNAseq1.fa46a135354f1c.sam'\n\nTraceback:\n",
      "1. qAlign(in_f1, in_f2, splicedAlignment = F)",
      "2. createGenomicAlignments(proj, clObj)",
      "3. parLapply(clObjNR, paramsListGenomic, createGenomicAlignmentsController)",
      "4. parLapply(clObjNR, paramsListGenomic, createGenomicAlignmentsController)",
      "5. do.call(c, clusterApply(cl = cl, x = splitList(X, nchunks), fun = lapply, \n .     FUN = fun, ...), quote = TRUE)",
      "6. clusterApply(cl = cl, x = splitList(X, nchunks), fun = lapply, \n .     FUN = fun, ...)",
      "7. staticClusterApply(cl, fun, length(x), argfun)",
      "8. checkForRemoteErrors(val)",
      "9. stop(\"one node produced an error: \", firstmsg, domain = NA)"
     ]
    }
   ],
   "source": [
    "#マッピングを行うqAlign関数を実行した結果をoutに格納\n",
    "out <- qAlign(in_f1, in_f2, splicedAlignment=F)"
   ]
  },
  {
   "cell_type": "code",
   "execution_count": 29,
   "metadata": {},
   "outputs": [
    {
     "data": {
      "text/html": [
       "<ol class=list-inline>\n",
       "\t<li>'mapping_single1.txt'</li>\n",
       "\t<li>'QuasR_log_51d38bebb5d.txt'</li>\n",
       "\t<li>'ref_genome.fa'</li>\n",
       "\t<li>'ref_genome.fa.fai'</li>\n",
       "\t<li>'ref_genome.fa.md5'</li>\n",
       "\t<li>'ref_genome.fa.Rbowtie'</li>\n",
       "\t<li>'sample_RNAseq1.fa'</li>\n",
       "</ol>\n"
      ],
      "text/latex": [
       "\\begin{enumerate*}\n",
       "\\item 'mapping\\_single1.txt'\n",
       "\\item 'QuasR\\_log\\_51d38bebb5d.txt'\n",
       "\\item 'ref\\_genome.fa'\n",
       "\\item 'ref\\_genome.fa.fai'\n",
       "\\item 'ref\\_genome.fa.md5'\n",
       "\\item 'ref\\_genome.fa.Rbowtie'\n",
       "\\item 'sample\\_RNAseq1.fa'\n",
       "\\end{enumerate*}\n"
      ],
      "text/markdown": [
       "1. 'mapping_single1.txt'\n",
       "2. 'QuasR_log_51d38bebb5d.txt'\n",
       "3. 'ref_genome.fa'\n",
       "4. 'ref_genome.fa.fai'\n",
       "5. 'ref_genome.fa.md5'\n",
       "6. 'ref_genome.fa.Rbowtie'\n",
       "7. 'sample_RNAseq1.fa'\n",
       "\n",
       "\n"
      ],
      "text/plain": [
       "[1] \"mapping_single1.txt\"       \"QuasR_log_51d38bebb5d.txt\"\n",
       "[3] \"ref_genome.fa\"             \"ref_genome.fa.fai\"        \n",
       "[5] \"ref_genome.fa.md5\"         \"ref_genome.fa.Rbowtie\"    \n",
       "[7] \"sample_RNAseq1.fa\"        "
      ]
     },
     "metadata": {},
     "output_type": "display_data"
    }
   ],
   "source": [
    "list.files()"
   ]
  },
  {
   "cell_type": "code",
   "execution_count": null,
   "metadata": {},
   "outputs": [],
   "source": []
  },
  {
   "cell_type": "code",
   "execution_count": null,
   "metadata": {},
   "outputs": [],
   "source": []
  },
  {
   "cell_type": "markdown",
   "metadata": {},
   "source": [
    "### マッピング　本番　実際のデータ"
   ]
  },
  {
   "cell_type": "code",
   "execution_count": 11,
   "metadata": {
    "scrolled": true
   },
   "outputs": [],
   "source": [
    "setwd('./human')"
   ]
  },
  {
   "cell_type": "markdown",
   "metadata": {},
   "source": [
    "#### mapping_single3.txtの作成"
   ]
  },
  {
   "cell_type": "code",
   "execution_count": 14,
   "metadata": {},
   "outputs": [],
   "source": [
    "out_f <- \"mapping_single3.txt\"         #出力ファイル名を指定してout_fに格納\n",
    "param_FN <- c(\"SRR002324.fastq.gz\", \"SRR002322.fastq.gz\")#マップしたいファイル名を指定\n",
    "param_SN <- c(\"Kidney\", \"Liver\")    #任意のサンプル名を指定\n",
    "out <- cbind(param_FN, param_SN)\n",
    "colnames(out) <- c(\"FileName\", \"SampleName\")\n",
    "write.table(out, out_f, sep=\"\\t\", append=F, quote=F, row.names=F)"
   ]
  },
  {
   "cell_type": "code",
   "execution_count": 15,
   "metadata": {},
   "outputs": [
    {
     "data": {
      "text/html": [
       "<table>\n",
       "<caption>A matrix: 2 × 2 of type chr</caption>\n",
       "<thead>\n",
       "\t<tr><th scope=col>FileName</th><th scope=col>SampleName</th></tr>\n",
       "</thead>\n",
       "<tbody>\n",
       "\t<tr><td>SRR002324.fastq.gz</td><td>Kidney</td></tr>\n",
       "\t<tr><td>SRR002322.fastq.gz</td><td>Liver </td></tr>\n",
       "</tbody>\n",
       "</table>\n"
      ],
      "text/latex": [
       "A matrix: 2 × 2 of type chr\n",
       "\\begin{tabular}{ll}\n",
       " FileName & SampleName\\\\\n",
       "\\hline\n",
       "\t SRR002324.fastq.gz & Kidney\\\\\n",
       "\t SRR002322.fastq.gz & Liver \\\\\n",
       "\\end{tabular}\n"
      ],
      "text/markdown": [
       "\n",
       "A matrix: 2 × 2 of type chr\n",
       "\n",
       "| FileName | SampleName |\n",
       "|---|---|\n",
       "| SRR002324.fastq.gz | Kidney |\n",
       "| SRR002322.fastq.gz | Liver  |\n",
       "\n"
      ],
      "text/plain": [
       "     FileName           SampleName\n",
       "[1,] SRR002324.fastq.gz Kidney    \n",
       "[2,] SRR002322.fastq.gz Liver     "
      ]
     },
     "metadata": {},
     "output_type": "display_data"
    }
   ],
   "source": [
    "out"
   ]
  },
  {
   "cell_type": "code",
   "execution_count": null,
   "metadata": {},
   "outputs": [],
   "source": []
  },
  {
   "cell_type": "code",
   "execution_count": null,
   "metadata": {},
   "outputs": [],
   "source": []
  },
  {
   "cell_type": "code",
   "execution_count": null,
   "metadata": {},
   "outputs": [],
   "source": [
    "in_f1 <- \"mapping_single3.txt\"         #入力ファイル名を指定してin_f1に格納(RNA-seqファイル)\n",
    "in_f2 <- \"BSgenome.Hsapiens.NCBI.GRCh38\" #入力ファイル名を指定してin_f2に格納(リファレンス配列)\n",
    "param <- \"-m 1 --best --strata -v 2\"   #マッピング時のオプションを指定\n",
    "### マッピング ###\n",
    "library(QuasR)\n",
    "library(Rsamtools)\n",
    "time_s <- proc.time()                  #計算時間計測用(マッピング開始時間の記録)\n",
    "out <- qAlign(in_f1, in_f2, splicedAlignment=F, alignmentParameter=param)\n",
    "time_e <- proc.time()                  #計算時間計測用(マッピング終了時間の記録)\n",
    "### QCレポート ###\n",
    "out_f <- sub(\".bam\", \"_QC.pdf\", out@alignments[,1])\n",
    "qQCReport(out, pdfFilename=out_f)"
   ]
  },
  {
   "cell_type": "code",
   "execution_count": null,
   "metadata": {},
   "outputs": [],
   "source": []
  },
  {
   "cell_type": "code",
   "execution_count": null,
   "metadata": {},
   "outputs": [],
   "source": []
  },
  {
   "cell_type": "code",
   "execution_count": null,
   "metadata": {},
   "outputs": [],
   "source": []
  },
  {
   "cell_type": "code",
   "execution_count": null,
   "metadata": {},
   "outputs": [],
   "source": []
  },
  {
   "cell_type": "code",
   "execution_count": null,
   "metadata": {},
   "outputs": [],
   "source": []
  },
  {
   "cell_type": "code",
   "execution_count": null,
   "metadata": {},
   "outputs": [],
   "source": []
  },
  {
   "cell_type": "code",
   "execution_count": null,
   "metadata": {},
   "outputs": [],
   "source": []
  },
  {
   "cell_type": "code",
   "execution_count": null,
   "metadata": {},
   "outputs": [],
   "source": []
  },
  {
   "cell_type": "code",
   "execution_count": null,
   "metadata": {},
   "outputs": [],
   "source": []
  },
  {
   "cell_type": "code",
   "execution_count": null,
   "metadata": {},
   "outputs": [],
   "source": []
  },
  {
   "cell_type": "code",
   "execution_count": null,
   "metadata": {},
   "outputs": [],
   "source": []
  }
 ],
 "metadata": {
  "kernelspec": {
   "display_name": "R",
   "language": "R",
   "name": "ir"
  },
  "language_info": {
   "codemirror_mode": "r",
   "file_extension": ".r",
   "mimetype": "text/x-r-source",
   "name": "R",
   "pygments_lexer": "r",
   "version": "3.5.1"
  }
 },
 "nbformat": 4,
 "nbformat_minor": 4
}
